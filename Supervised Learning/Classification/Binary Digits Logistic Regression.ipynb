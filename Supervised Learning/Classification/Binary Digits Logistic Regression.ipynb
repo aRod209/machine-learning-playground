{
 "cells": [
  {
   "cell_type": "markdown",
   "id": "4240a4cc",
   "metadata": {},
   "source": [
    "# Binary Digits Classification With Logistic Regression"
   ]
  },
  {
   "cell_type": "markdown",
   "id": "4dde82a8",
   "metadata": {},
   "source": [
    "Notebook by Anthony Rodriguez"
   ]
  },
  {
   "cell_type": "markdown",
   "id": "c9091150",
   "metadata": {},
   "source": [
    "## Introduction"
   ]
  },
  {
   "cell_type": "markdown",
   "id": "7c69bc7d",
   "metadata": {},
   "source": [
    "This notebook explores binary classification on binary digits using logistic regression. Python and the Numpy library will be used to construct the logistic regression algorithm. The data is a [toy dataset](https://scikit-learn.org/stable/modules/generated/sklearn.datasets.load_digits.html#sklearn.datasets.load_digits) in SKLearn, but the dataset is a test/partial dataset originally from an [optical recognition of handwritten digits dataset](https://archive.ics.uci.edu/ml/datasets/Optical+Recognition+of+Handwritten+Digits). The images being used are 8X8 images and we will only use digits 0 and 1.\n",
    "\n",
    "**Some EDA on this dataset can be seen in this [notebook](../../ExploratoryDataAnalysis/Digits.ipynb).**"
   ]
  },
  {
   "cell_type": "markdown",
   "id": "70a1b844",
   "metadata": {},
   "source": [
    "In the [Multiple Linear Regression notebook](../Regression/MultipleLinearRegression.ipynb) we explored the differences in runtime between using non-matrix calculations and matrix calculations with Numpy. So, in this notebook we will just use matrix operations in our own Logistc Regression Model."
   ]
  },
  {
   "cell_type": "code",
   "execution_count": 1,
   "id": "2a7d3c20",
   "metadata": {},
   "outputs": [],
   "source": [
    "from sklearn.datasets import load_digits\n",
    "from sklearn.model_selection import train_test_split\n",
    "\n",
    "import numpy as np\n",
    "import math"
   ]
  },
  {
   "cell_type": "markdown",
   "id": "4f81416d",
   "metadata": {},
   "source": [
    "## Load Data"
   ]
  },
  {
   "cell_type": "code",
   "execution_count": 2,
   "id": "c8631fea",
   "metadata": {},
   "outputs": [],
   "source": [
    "digits_X, digits_y = load_digits(n_class=2, return_X_y=True)"
   ]
  },
  {
   "cell_type": "code",
   "execution_count": 3,
   "id": "78ae04bd",
   "metadata": {
    "scrolled": true
   },
   "outputs": [
    {
     "data": {
      "text/plain": [
       "array([[ 0.,  0.,  5., ...,  0.,  0.,  0.],\n",
       "       [ 0.,  0.,  0., ..., 10.,  0.,  0.],\n",
       "       [ 0.,  0.,  1., ...,  3.,  0.,  0.],\n",
       "       ...,\n",
       "       [ 0.,  0.,  5., ...,  8.,  1.,  0.],\n",
       "       [ 0.,  0.,  6., ...,  4.,  0.,  0.],\n",
       "       [ 0.,  0.,  6., ...,  6.,  0.,  0.]])"
      ]
     },
     "execution_count": 3,
     "metadata": {},
     "output_type": "execute_result"
    }
   ],
   "source": [
    "digits_X"
   ]
  },
  {
   "cell_type": "code",
   "execution_count": 4,
   "id": "3548ce04",
   "metadata": {},
   "outputs": [
    {
     "data": {
      "text/plain": [
       "array([0, 1, 0, 1, 0, 1, 0, 0, 1, 1, 0, 0, 0, 1, 1, 0, 0, 0, 1, 1, 1, 1,\n",
       "       1, 0, 1, 0, 0, 1, 0, 1, 0, 1, 0, 0, 1, 1, 0, 0, 0, 1, 1, 0, 0, 0,\n",
       "       1, 1, 1, 1, 1, 0, 1, 0, 0, 1, 0, 1, 0, 1, 0, 0, 1, 1, 0, 0, 0, 1,\n",
       "       1, 0, 0, 0, 1, 1, 1, 1, 1, 0, 1, 0, 0, 1, 0, 1, 0, 1, 0, 0, 1, 1,\n",
       "       0, 0, 0, 1, 1, 0, 0, 0, 1, 1, 1, 1, 1, 0, 1, 0, 0, 1, 0, 1, 0, 1,\n",
       "       0, 0, 1, 1, 0, 0, 0, 1, 1, 0, 0, 0, 1, 1, 1, 1, 1, 0, 1, 0, 0, 1,\n",
       "       0, 1, 0, 1, 0, 0, 1, 1, 0, 0, 0, 1, 1, 0, 0, 0, 1, 1, 1, 1, 1, 0,\n",
       "       1, 0, 0, 1, 0, 1, 0, 1, 0, 0, 1, 1, 0, 0, 0, 1, 1, 0, 0, 0, 1, 1,\n",
       "       1, 1, 1, 0, 1, 0, 1, 0, 1, 0, 1, 0, 0, 1, 1, 0, 1, 1, 0, 0, 0, 1,\n",
       "       1, 1, 1, 1, 0, 1, 0, 0, 1, 0, 1, 0, 1, 0, 0, 1, 1, 0, 0, 0, 1, 1,\n",
       "       0, 0, 0, 1, 1, 1, 1, 1, 0, 1, 0, 0, 1, 0, 1, 0, 1, 0, 0, 1, 1, 0,\n",
       "       0, 0, 1, 1, 0, 0, 0, 1, 1, 1, 1, 1, 0, 1, 0, 0, 1, 0, 1, 0, 1, 0,\n",
       "       0, 1, 1, 0, 0, 0, 1, 1, 0, 0, 0, 1, 1, 1, 1, 1, 0, 1, 0, 0, 1, 0,\n",
       "       1, 0, 1, 0, 0, 1, 1, 0, 0, 0, 1, 1, 0, 0, 0, 1, 1, 1, 1, 1, 0, 1,\n",
       "       0, 0, 1, 0, 1, 0, 1, 0, 0, 1, 1, 0, 0, 0, 1, 1, 0, 0, 1, 1, 1, 1,\n",
       "       1, 0, 1, 0, 0, 1, 0, 1, 0, 1, 0, 0, 1, 1, 0, 0, 0, 1, 1, 0, 0, 0,\n",
       "       1, 1, 1, 1, 1, 0, 1, 0])"
      ]
     },
     "execution_count": 4,
     "metadata": {},
     "output_type": "execute_result"
    }
   ],
   "source": [
    "digits_y"
   ]
  },
  {
   "cell_type": "markdown",
   "id": "f5f6cefc",
   "metadata": {},
   "source": [
    "## Train-Test Split"
   ]
  },
  {
   "cell_type": "code",
   "execution_count": 5,
   "id": "0aaa24dc",
   "metadata": {},
   "outputs": [],
   "source": [
    "test_size = 0.2\n",
    "random_state = 37\n",
    "\n",
    "X_train, X_test, y_train, y_test = train_test_split(digits_X, digits_y, test_size=test_size, random_state=random_state)"
   ]
  },
  {
   "cell_type": "code",
   "execution_count": 6,
   "id": "d7ecbb31",
   "metadata": {},
   "outputs": [],
   "source": [
    "val_size = 0.15\n",
    "X_train, X_val, y_train, y_val = train_test_split(X_train, y_train, test_size=val_size, random_state=random_state)"
   ]
  },
  {
   "cell_type": "markdown",
   "id": "200aa1ff",
   "metadata": {},
   "source": [
    "## Create Model"
   ]
  },
  {
   "cell_type": "code",
   "execution_count": 7,
   "id": "3a6299c0",
   "metadata": {},
   "outputs": [],
   "source": [
    "class LogisticRegression:\n",
    "    \"\"\"\n",
    "    The logistic regression model.\n",
    "    \"\"\"\n",
    "    def __init__(self, alpha=1.0, max_iters=1000):\n",
    "        \"\"\"\n",
    "        Creates LogisticRegression object.\n",
    "        \n",
    "        Parameters\n",
    "        -----------\n",
    "        self (LogisticRegression): A LogisticRegression object.\n",
    "        alpha (float): The learning rate.\n",
    "        max_iters (int): The maximum number of iterations of the gradient descent algorithm.\n",
    "        \"\"\"\n",
    "        self.__alpha = alpha\n",
    "        self.__max_iters = max_iters\n",
    "        self.__w = None\n",
    "        self.__b = None\n",
    "        \n",
    "    def get_parameters(self):\n",
    "        '''\n",
    "        self (LogisticRegression): A LogisticRegression object.\n",
    "        \n",
    "        Returns\n",
    "        --------\n",
    "        (ndarray(n,), ndarray(1,)) : The model parameters, weights and bias.\n",
    "        '''\n",
    "        return self.__w, self.__b\n",
    "    \n",
    "    def get_cost_history(self):\n",
    "        '''\n",
    "        self (LogisticRegression): A LogisticRegression object.\n",
    "        \n",
    "        Returns\n",
    "        --------\n",
    "        (list) : The history of cost when training the model.\n",
    "        '''\n",
    "        return self.__J_history\n",
    "        \n",
    "    def train(self, X_train, y_train, print_iterations=False):\n",
    "        '''\n",
    "        Trains the logistic regression model.\n",
    "        \n",
    "        Parameters\n",
    "        -----------\n",
    "        self (LogisticRegression): A LogisticRegression object.\n",
    "        X_train (ndarray (m, n)): The training examples.\n",
    "        y_train (ndarray(m,)): The training targets.\n",
    "        print_iterations (bool): True if wanting information to be printed on every iteration, false otherwise.\n",
    "        '''        \n",
    "        self.__w = np.zeros_like(X_train[0])\n",
    "        self.__b = np.array([0])\n",
    "        \n",
    "        # An array to store cost J and w's at each iteration primarily for graphing later\n",
    "        self.__J_history = []\n",
    "        self.__p_history = []\n",
    "        \n",
    "        self.__gradient_descent(X_train, y_train, print_iterations)\n",
    "\n",
    "    def compute_accuracy(self, predictions, targets):\n",
    "        '''\n",
    "        Computes the accuracy of the predictions.\n",
    "        \n",
    "         Parameters\n",
    "        -----------\n",
    "        self (LogisticRegression): A LogisticRegression object.\n",
    "        predictions (ndarray (m,)): The predictions.\n",
    "        targets (ndarray (m,)): The targets.\n",
    "        \n",
    "        Returns\n",
    "        --------\n",
    "        (float): The accuracy percentage.\n",
    "        '''\n",
    "        return sum(predictions == targets) / len(targets)\n",
    "        \n",
    "    def predict(self, X):\n",
    "        '''\n",
    "        Predicts the categorical value using X, model weights, bias and the Sigmoid function.\n",
    "        \n",
    "        Parameters\n",
    "        -----------\n",
    "        self (LogisticRegression): A LogisticRegression object.\n",
    "        X (ndarray (m, n)): The data to use for predictions.\n",
    "        \n",
    "        Returns\n",
    "        --------\n",
    "        (ndarray(m,)): The predictions.\n",
    "        '''\n",
    "        z = X @ self.__w + self.__b\n",
    "        g = self.__sigmoid(z)\n",
    "        g_categorical = np.where(g < 0.5, 0, 1)\n",
    "        return g_categorical\n",
    "        \n",
    "    def __sigmoid(self, z):\n",
    "        '''\n",
    "        Returns the sigmoid of the parameter value.\n",
    "        \n",
    "        Parameters\n",
    "        -----------\n",
    "        self (LogisticRegression): A LogisticRegression object.\n",
    "        z (float): The value to use in the sigmoid function.\n",
    "        \n",
    "        Returns\n",
    "        ----------\n",
    "        (float) the sigmoid value of z.\n",
    "        '''\n",
    "        return 1 / (1 + np.exp(-z))\n",
    "        \n",
    "    def __gradient_descent(self, X_train, y_train, print_iterations):\n",
    "        '''\n",
    "        Runs the gradient descent algorithm.\n",
    "        \n",
    "        Parameters\n",
    "        ----------\n",
    "        self (LogisticRegression): A LogisticRegression object.\n",
    "        X_train (ndarray (m, n)): The training examples.\n",
    "        y_train (ndarray(m,)): The training targets.\n",
    "        print_iterations (bool): True if wanting information to be printed on every iteration, false otherwise.\n",
    "        '''\n",
    "        if print_iterations:\n",
    "            self.__print_header()\n",
    "            \n",
    "        for i in range(self.__max_iters):\n",
    "            # Calculate the gradient and update the parameters using gradient_function\n",
    "            dj_dw, dj_db = self.__compute_gradient(X_train, y_train)\n",
    "            \n",
    "            # Record old parameters\n",
    "            last_b, last_w = self.__b, self.__w\n",
    "\n",
    "            # Update Parameters\n",
    "            self.__b = self.__b - self.__alpha * dj_db                            \n",
    "            self.__w = self.__w - self.__alpha * dj_dw\n",
    "            \n",
    "            # Check if new parameters are equal to the last iterations parameters\n",
    "            if self.__is_convergence(last_w, last_b):                \n",
    "                if print_iterations:                    \n",
    "                    print('Convergence')\n",
    "                    info = f'{i}\\t    {J_history[-1][0]:.2}\\t'\n",
    "\n",
    "                    for w_i in w:\n",
    "                        info += f'{w_i:.1e}  '\n",
    "\n",
    "                    info += f'{b:.2e}  '\n",
    "\n",
    "                    for dj_dw_i in dj_dw:\n",
    "                        info += f' {dj_dw_i:.1e}  '\n",
    "\n",
    "                    info += f'{dj_db}'\n",
    "                    print(info)\n",
    "                \n",
    "                break\n",
    "                \n",
    "            # Print cost every at intervals 10 times or as many iterations if max iters < 10\n",
    "            if print_iterations and i% math.ceil(self.__max_iters/10) == 0:\n",
    "                info = f'{i}\\t    {self.__J_history[-1][0]:.2}\\t'\n",
    "                \n",
    "                for w_i in self.__w:\n",
    "                    info += f'{w_i:.1e}  '\n",
    "                    \n",
    "                info += f'{self.__b[0]:.2e}  '\n",
    "                    \n",
    "                for dj_dw_i in dj_dw:\n",
    "                    info += f' {dj_dw_i:.1e}  '\n",
    "                \n",
    "                info += f'{dj_db[0]:.2e}'\n",
    "                print(info)\n",
    "                \n",
    "    def __compute_gradient(self, X, y):\n",
    "        '''\n",
    "        Computes the gradient.\n",
    "        \n",
    "        Parameters\n",
    "        -----------\n",
    "        self (LogisticRegression): A LogisticRegression object.\n",
    "        X (ndarray (m, n)): The training examples.\n",
    "        y (ndarray(m,)): The training targets.\n",
    "        \n",
    "        Returns\n",
    "        --------\n",
    "        (tuple (float, float)): the derivative of the loss w.r.t the weights,\n",
    "                                the derivative of the loss w.r.t. the bias.\n",
    "        '''\n",
    "        m,n = X.shape\n",
    "        dj_dw = np.zeros((n,))\n",
    "        dj_db = 0\n",
    "\n",
    "        loss = self.__compute_loss(X, y)\n",
    "        dj_dw = np.sum(X * loss.reshape((loss.shape[0],1)), axis=0)\n",
    "        dj_db = np.sum(loss)        \n",
    "        dj_dw, dj_db = dj_dw/m, dj_db/m\n",
    "        \n",
    "        return dj_dw, dj_db\n",
    "    \n",
    "    def __compute_loss(self, X, y):\n",
    "        '''\n",
    "        Computes the loss.\n",
    "        \n",
    "        Parameters\n",
    "        -----------\n",
    "        self (LogisticRegression): A LogisticRegression object.\n",
    "        X (ndarray (m, n)): The training examples.\n",
    "        y (ndarray(m,)): The training targets.\n",
    "        \n",
    "        Returns\n",
    "        --------\n",
    "        (ndarray(m,)): the losses.\n",
    "        '''\n",
    "        f_X = self.predict(X)\n",
    "        return f_X - y.reshape(-1)\n",
    "    \n",
    "    def __is_convergence(self, last_w, last_b):\n",
    "        '''\n",
    "        Determines whether or not the model weights and bias have converged.\n",
    "        \n",
    "        Parameters\n",
    "        -----------\n",
    "        self (LogisticRegression): A LogisticRegression object.\n",
    "        last_w (ndarray(n,)): The previous model weights.\n",
    "        last_b (ndarray(1, )): The previous bias.\n",
    "        \n",
    "        Returns\n",
    "        --------\n",
    "        (bool): True if previous model weights are equal to the current model weights and\n",
    "                if previous model bias is equal to the current model bias, false otherwise.\n",
    "        '''\n",
    "        return self.__arrays_are_equal(self.__w, last_w) and self.__arrays_are_equal(self.__b, last_b)\n",
    "    \n",
    "    def __are_equal(self, val_a, val_b, epsilon = 1.0e-6):\n",
    "        '''\n",
    "        Determines whether or not the difference of two ints/floats are within a number (epsilon).\n",
    "        \n",
    "        Parameters\n",
    "        -----------\n",
    "        self (LogisticRegression): A LogisticRegression object.\n",
    "        val_a (int/float): A value to be compared.\n",
    "        val_b (int/float): A value to be compared.\n",
    "        epsilon (float): The minimum value the difference needs to be in order\n",
    "                         for the values to be considered equal.\n",
    "        '''\n",
    "        return abs(val_a - val_b) < epsilon\n",
    "    \n",
    "    def __arrays_are_equal(self, arr_a, arr_b, epsilon=1.0e-6):\n",
    "        '''\n",
    "        Determines whether or not the difference of all elements between\n",
    "        two 1-D arrays are within a number (epsilon).\n",
    "        \n",
    "        Parameters\n",
    "        -----------\n",
    "        self (LogisticRegression): A LogisticRegression object.\n",
    "        val_a (ndarray(1,)): An array to be compared.\n",
    "        val_b (ndarray(1,)): An array to be compared.\n",
    "        epsilon (float): The minimum value the difference needs to be in order\n",
    "                         for the array to be considered equal.\n",
    "        '''\n",
    "        are_equal = abs(arr_a - arr_b) < epsilon\n",
    "        return are_equal.all()\n",
    "    \n",
    "    def __print_header(self):\n",
    "        '''\n",
    "        Prints a header for the output of the gradient descent algorithm.\n",
    "        \n",
    "        Parameters\n",
    "        -----------\n",
    "        self (LogisticRegression): A LogisticRegression object.\n",
    "        '''\n",
    "        header = 'Iteration | Cost      '\n",
    "        \n",
    "        for i in range(self.__w.shape[0]):\n",
    "            header += f' | w_{i}   '\n",
    "\n",
    "        header += '| b      '\n",
    "\n",
    "        for i in range(self.__w.shape[0]):\n",
    "            header += f' | dj_dw_{i} '\n",
    "\n",
    "        header += ' | dj_db  |'    \n",
    "        print(header)"
   ]
  },
  {
   "cell_type": "markdown",
   "id": "270cf3ae",
   "metadata": {},
   "source": [
    "## Find Best Hyperparameter (Learning Rate)"
   ]
  },
  {
   "cell_type": "code",
   "execution_count": 8,
   "id": "8267d869",
   "metadata": {},
   "outputs": [
    {
     "name": "stdout",
     "output_type": "stream",
     "text": [
      "CPU times: total: 0 ns\n",
      "Wall time: 8.23 ms\n"
     ]
    },
    {
     "name": "stderr",
     "output_type": "stream",
     "text": [
      "C:\\Users\\Anthony\\AppData\\Local\\Temp\\ipykernel_13564\\2998973105.py:107: RuntimeWarning: overflow encountered in exp\n",
      "  return 1 / (1 + np.exp(-z))\n"
     ]
    }
   ],
   "source": [
    "%%time\n",
    "learning_rates = [1.0e-4, 1.0e-3, 1.0e-2, 1.0e-1, 1.0]\n",
    "all_acc_histories = {}\n",
    "all_params = {}\n",
    "highest_val_acc = float('-inf')\n",
    "best_learning_rate = None\n",
    "\n",
    "for learning_rate in learning_rates:\n",
    "    # Create LinearRegressionGD object to use linear regression architecture for our model.\n",
    "    lr = LogisticRegression(alpha=learning_rate, max_iters=10000)\n",
    "\n",
    "    # Train architecture for linear regression model.\n",
    "    lr.train(X_train, y_train)\n",
    "    \n",
    "    # Get predictions of validation set\n",
    "    y_preds = lr.predict(X_val)\n",
    "    \n",
    "    # Get cost for validation set.\n",
    "    curr_val_acc = lr.compute_accuracy(y_preds, y_val)\n",
    "    \n",
    "    if  curr_val_acc > highest_val_acc:\n",
    "        highest_val_acc = curr_val_acc\n",
    "        best_learning_rate = learning_rate\n",
    "    \n",
    "    # Get the parameters from the trained model that used the given learning rate.\n",
    "    all_params[learning_rate] = lr.get_parameters()\n",
    "    \n",
    "    # Tet the cost history when training the model using the given learning rate.\n",
    "    all_acc_histories[learning_rate] = lr.get_cost_history()"
   ]
  },
  {
   "cell_type": "code",
   "execution_count": 9,
   "id": "6e5aa01c",
   "metadata": {},
   "outputs": [
    {
     "name": "stdout",
     "output_type": "stream",
     "text": [
      "Best learning rate: 0.0001\n",
      "Highest accuracy: 0.9772727272727273\n"
     ]
    }
   ],
   "source": [
    "print(f'Best learning rate: {best_learning_rate}')\n",
    "print(f'Highest accuracy: {highest_val_acc}')"
   ]
  },
  {
   "cell_type": "markdown",
   "id": "acf22421",
   "metadata": {},
   "source": [
    "## Predict Test Set"
   ]
  },
  {
   "cell_type": "markdown",
   "id": "881bfbac",
   "metadata": {},
   "source": [
    "Now that we got the best learning rate, let's use it and bump the max iterations to 100000 to see if we can get the cost to 0."
   ]
  },
  {
   "cell_type": "code",
   "execution_count": 10,
   "id": "07ec21fd",
   "metadata": {},
   "outputs": [
    {
     "name": "stdout",
     "output_type": "stream",
     "text": [
      "CPU times: total: 0 ns\n",
      "Wall time: 3.2 ms\n"
     ]
    }
   ],
   "source": [
    "%%time\n",
    "\n",
    "lr = LogisticRegression(best_learning_rate, 100000)\n",
    "lr.train(X_train, y_train)\n",
    "y_test_preds = lr.predict(X_test)"
   ]
  },
  {
   "cell_type": "code",
   "execution_count": 11,
   "id": "18d799b8",
   "metadata": {},
   "outputs": [
    {
     "data": {
      "text/plain": [
       "1.0"
      ]
     },
     "execution_count": 11,
     "metadata": {},
     "output_type": "execute_result"
    }
   ],
   "source": [
    "lr.compute_accuracy(y_test_preds, y_test)"
   ]
  },
  {
   "cell_type": "markdown",
   "id": "e7826bca",
   "metadata": {},
   "source": [
    "## Using Scikit-Learn"
   ]
  },
  {
   "cell_type": "code",
   "execution_count": 12,
   "id": "71b884b7",
   "metadata": {},
   "outputs": [
    {
     "data": {
      "text/html": [
       "<style>#sk-container-id-1 {color: black;background-color: white;}#sk-container-id-1 pre{padding: 0;}#sk-container-id-1 div.sk-toggleable {background-color: white;}#sk-container-id-1 label.sk-toggleable__label {cursor: pointer;display: block;width: 100%;margin-bottom: 0;padding: 0.3em;box-sizing: border-box;text-align: center;}#sk-container-id-1 label.sk-toggleable__label-arrow:before {content: \"▸\";float: left;margin-right: 0.25em;color: #696969;}#sk-container-id-1 label.sk-toggleable__label-arrow:hover:before {color: black;}#sk-container-id-1 div.sk-estimator:hover label.sk-toggleable__label-arrow:before {color: black;}#sk-container-id-1 div.sk-toggleable__content {max-height: 0;max-width: 0;overflow: hidden;text-align: left;background-color: #f0f8ff;}#sk-container-id-1 div.sk-toggleable__content pre {margin: 0.2em;color: black;border-radius: 0.25em;background-color: #f0f8ff;}#sk-container-id-1 input.sk-toggleable__control:checked~div.sk-toggleable__content {max-height: 200px;max-width: 100%;overflow: auto;}#sk-container-id-1 input.sk-toggleable__control:checked~label.sk-toggleable__label-arrow:before {content: \"▾\";}#sk-container-id-1 div.sk-estimator input.sk-toggleable__control:checked~label.sk-toggleable__label {background-color: #d4ebff;}#sk-container-id-1 div.sk-label input.sk-toggleable__control:checked~label.sk-toggleable__label {background-color: #d4ebff;}#sk-container-id-1 input.sk-hidden--visually {border: 0;clip: rect(1px 1px 1px 1px);clip: rect(1px, 1px, 1px, 1px);height: 1px;margin: -1px;overflow: hidden;padding: 0;position: absolute;width: 1px;}#sk-container-id-1 div.sk-estimator {font-family: monospace;background-color: #f0f8ff;border: 1px dotted black;border-radius: 0.25em;box-sizing: border-box;margin-bottom: 0.5em;}#sk-container-id-1 div.sk-estimator:hover {background-color: #d4ebff;}#sk-container-id-1 div.sk-parallel-item::after {content: \"\";width: 100%;border-bottom: 1px solid gray;flex-grow: 1;}#sk-container-id-1 div.sk-label:hover label.sk-toggleable__label {background-color: #d4ebff;}#sk-container-id-1 div.sk-serial::before {content: \"\";position: absolute;border-left: 1px solid gray;box-sizing: border-box;top: 0;bottom: 0;left: 50%;z-index: 0;}#sk-container-id-1 div.sk-serial {display: flex;flex-direction: column;align-items: center;background-color: white;padding-right: 0.2em;padding-left: 0.2em;position: relative;}#sk-container-id-1 div.sk-item {position: relative;z-index: 1;}#sk-container-id-1 div.sk-parallel {display: flex;align-items: stretch;justify-content: center;background-color: white;position: relative;}#sk-container-id-1 div.sk-item::before, #sk-container-id-1 div.sk-parallel-item::before {content: \"\";position: absolute;border-left: 1px solid gray;box-sizing: border-box;top: 0;bottom: 0;left: 50%;z-index: -1;}#sk-container-id-1 div.sk-parallel-item {display: flex;flex-direction: column;z-index: 1;position: relative;background-color: white;}#sk-container-id-1 div.sk-parallel-item:first-child::after {align-self: flex-end;width: 50%;}#sk-container-id-1 div.sk-parallel-item:last-child::after {align-self: flex-start;width: 50%;}#sk-container-id-1 div.sk-parallel-item:only-child::after {width: 0;}#sk-container-id-1 div.sk-dashed-wrapped {border: 1px dashed gray;margin: 0 0.4em 0.5em 0.4em;box-sizing: border-box;padding-bottom: 0.4em;background-color: white;}#sk-container-id-1 div.sk-label label {font-family: monospace;font-weight: bold;display: inline-block;line-height: 1.2em;}#sk-container-id-1 div.sk-label-container {text-align: center;}#sk-container-id-1 div.sk-container {/* jupyter's `normalize.less` sets `[hidden] { display: none; }` but bootstrap.min.css set `[hidden] { display: none !important; }` so we also need the `!important` here to be able to override the default hidden behavior on the sphinx rendered scikit-learn.org. See: https://github.com/scikit-learn/scikit-learn/issues/21755 */display: inline-block !important;position: relative;}#sk-container-id-1 div.sk-text-repr-fallback {display: none;}</style><div id=\"sk-container-id-1\" class=\"sk-top-container\"><div class=\"sk-text-repr-fallback\"><pre>LogisticRegression()</pre><b>In a Jupyter environment, please rerun this cell to show the HTML representation or trust the notebook. <br />On GitHub, the HTML representation is unable to render, please try loading this page with nbviewer.org.</b></div><div class=\"sk-container\" hidden><div class=\"sk-item\"><div class=\"sk-estimator sk-toggleable\"><input class=\"sk-toggleable__control sk-hidden--visually\" id=\"sk-estimator-id-1\" type=\"checkbox\" checked><label for=\"sk-estimator-id-1\" class=\"sk-toggleable__label sk-toggleable__label-arrow\">LogisticRegression</label><div class=\"sk-toggleable__content\"><pre>LogisticRegression()</pre></div></div></div></div></div>"
      ],
      "text/plain": [
       "LogisticRegression()"
      ]
     },
     "execution_count": 12,
     "metadata": {},
     "output_type": "execute_result"
    }
   ],
   "source": [
    "from sklearn.linear_model import LogisticRegression as SKLogisticRegression\n",
    "\n",
    "lr_sk = SKLogisticRegression()\n",
    "lr_sk.fit(X_train, y_train)\n"
   ]
  },
  {
   "cell_type": "code",
   "execution_count": 13,
   "id": "90635fa1",
   "metadata": {},
   "outputs": [
    {
     "name": "stdout",
     "output_type": "stream",
     "text": [
      "Scikit-learn Logistic Regressionaccuracy on test set: 1.0\n"
     ]
    }
   ],
   "source": [
    "print(\"Scikit-learn Logistic Regressionaccuracy on test set:\", lr_sk.score(X_test, y_test))"
   ]
  },
  {
   "cell_type": "markdown",
   "id": "c1e8d80c",
   "metadata": {},
   "source": [
    "## Conclusion"
   ]
  },
  {
   "cell_type": "markdown",
   "id": "be84607f",
   "metadata": {},
   "source": [
    "Our own  Logistic Regression model and Scikit-learn's Logistic Regression model both predicted the test set perfectly!"
   ]
  }
 ],
 "metadata": {
  "kernelspec": {
   "display_name": "Python 3 (ipykernel)",
   "language": "python",
   "name": "python3"
  },
  "language_info": {
   "codemirror_mode": {
    "name": "ipython",
    "version": 3
   },
   "file_extension": ".py",
   "mimetype": "text/x-python",
   "name": "python",
   "nbconvert_exporter": "python",
   "pygments_lexer": "ipython3",
   "version": "3.10.4"
  }
 },
 "nbformat": 4,
 "nbformat_minor": 5
}
