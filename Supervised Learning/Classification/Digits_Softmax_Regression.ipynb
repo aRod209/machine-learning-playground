{
  "nbformat": 4,
  "nbformat_minor": 0,
  "metadata": {
    "colab": {
      "provenance": [],
      "toc_visible": true,
      "gpuType": "T4",
      "authorship_tag": "ABX9TyNjR6JazukX8FFVO1efG+v4",
      "include_colab_link": true
    },
    "kernelspec": {
      "name": "python3",
      "display_name": "Python 3"
    },
    "language_info": {
      "name": "python"
    }
  },
  "cells": [
    {
      "cell_type": "markdown",
      "metadata": {
        "id": "view-in-github",
        "colab_type": "text"
      },
      "source": [
        "<a href=\"https://colab.research.google.com/github/aRod209/machine-learning-playground/blob/main/Supervised%20Learning/Classification/Digits_Softmax_Regression.ipynb\" target=\"_parent\"><img src=\"https://colab.research.google.com/assets/colab-badge.svg\" alt=\"Open In Colab\"/></a>"
      ]
    },
    {
      "cell_type": "markdown",
      "source": [
        "# Digits Classification Using Softmax Regression"
      ],
      "metadata": {
        "id": "dctOC0TaOVDc"
      }
    },
    {
      "cell_type": "markdown",
      "source": [
        "## Introduction\n",
        "\n",
        "This notebook explores multiclass classification on binary digits using softmax regression. [The data is a toy dataset in SKLearn](https://scikit-learn.org/stable/modules/generated/sklearn.datasets.load_digits.html). The images being used are 8X8 images of digits 0 through 9.\n",
        "\n",
        "I will create a custom softmax regression classifier.\n",
        "\n",
        "I will compare test results between the custom classifier and scikit-learn's LogisticRegression multinomial classifier and SGDClassifier.\n",
        "\n",
        "Some EDA on this dataset can be seen in this [notebook](https://github.com/aRod209/machine-learning-playground/blob/10a82ce3a14fd82f05d5f7c1fdb7c9da580035b4/ExploratoryDataAnalysis/Digits.ipynb)."
      ],
      "metadata": {
        "id": "1YR8EU6AOfm3"
      }
    },
    {
      "cell_type": "code",
      "source": [
        "from sklearn.datasets import load_digits\n",
        "from sklearn.linear_model import LogisticRegression\n",
        "from sklearn.model_selection import train_test_split\n",
        "\n",
        "import numpy as np"
      ],
      "metadata": {
        "id": "z1DWNY528_0y"
      },
      "execution_count": 1,
      "outputs": []
    },
    {
      "cell_type": "markdown",
      "source": [
        "## Load Data"
      ],
      "metadata": {
        "id": "nobKPYNM85Gr"
      }
    },
    {
      "cell_type": "code",
      "source": [
        "digits_X, digits_y = load_digits(n_class=10, return_X_y=True)"
      ],
      "metadata": {
        "id": "gQ4Eu42X8_GQ"
      },
      "execution_count": 2,
      "outputs": []
    },
    {
      "cell_type": "code",
      "source": [
        "test_size = 0.2\n",
        "random_state = 47\n",
        "\n",
        "X_train, X_test, y_train, y_test = train_test_split(digits_X, digits_y, test_size=test_size, random_state=random_state)"
      ],
      "metadata": {
        "id": "ancEbysU9ZaQ"
      },
      "execution_count": 3,
      "outputs": []
    },
    {
      "cell_type": "code",
      "source": [
        "val_size = 0.15\n",
        "X_train, X_val, y_train, y_val = train_test_split(X_train, y_train, test_size=val_size, random_state=random_state)"
      ],
      "metadata": {
        "id": "KrvBkBGr9ePV"
      },
      "execution_count": 4,
      "outputs": []
    },
    {
      "cell_type": "markdown",
      "source": [
        "## Normalize Data"
      ],
      "metadata": {
        "id": "88e6IxOt-nJv"
      }
    },
    {
      "cell_type": "code",
      "source": [
        "from sklearn.preprocessing import MinMaxScaler"
      ],
      "metadata": {
        "id": "eNU5Gr58-uHQ"
      },
      "execution_count": 5,
      "outputs": []
    },
    {
      "cell_type": "code",
      "source": [
        "X_train.max(), X_train.min(), X_train.mean()"
      ],
      "metadata": {
        "colab": {
          "base_uri": "https://localhost:8080/"
        },
        "id": "sUmMGs5r_e3Y",
        "outputId": "0ca6c4a5-4be2-4796-b5d7-d8f19d5eeb2e"
      },
      "execution_count": 6,
      "outputs": [
        {
          "output_type": "execute_result",
          "data": {
            "text/plain": [
              "(16.0, 0.0, 4.8888846232596235)"
            ]
          },
          "metadata": {},
          "execution_count": 6
        }
      ]
    },
    {
      "cell_type": "code",
      "source": [
        "# Scale the features\n",
        "scaler = MinMaxScaler()\n",
        "X_train = scaler.fit_transform(X_train)\n",
        "X_val = scaler.fit_transform(X_val)\n",
        "X_test = scaler.transform(X_test)"
      ],
      "metadata": {
        "id": "BvlGy8x59hD_"
      },
      "execution_count": 7,
      "outputs": []
    },
    {
      "cell_type": "code",
      "source": [
        "X_train.max(), X_train.min(), X_train.mean()"
      ],
      "metadata": {
        "colab": {
          "base_uri": "https://localhost:8080/"
        },
        "id": "IaXt7Qjy_gxy",
        "outputId": "512fe340-0ce1-47cd-80d1-e228b90bedc6"
      },
      "execution_count": 8,
      "outputs": [
        {
          "output_type": "execute_result",
          "data": {
            "text/plain": [
              "(1.0, 0.0, 0.307425725891635)"
            ]
          },
          "metadata": {},
          "execution_count": 8
        }
      ]
    },
    {
      "cell_type": "markdown",
      "source": [
        "## Softmax Regression\n",
        "\n",
        "Let's build our own softmax regression model. Then we will use softmax regression using scikit-learn."
      ],
      "metadata": {
        "id": "tQzS3Xha-xmr"
      }
    },
    {
      "cell_type": "markdown",
      "source": [
        "### Custom Model"
      ],
      "metadata": {
        "id": "7T_KrJS5dkSc"
      }
    },
    {
      "cell_type": "code",
      "source": [
        "import numpy as np\n",
        "\n",
        "class SoftmaxRegression:\n",
        "  '''\n",
        "  A softmax regression classifier.\n",
        "  '''\n",
        "  def __init__(self, alpha: float = 1.0, max_iters: float = 1000):\n",
        "    '''\n",
        "    Initializes an instance of SoftmaxRegression.\n",
        "\n",
        "    Parameters\n",
        "    ------------------\n",
        "    self (SoftmaxRegression): A SoftmaxRegression object\n",
        "    alpha (float): The learning rate\n",
        "    max_iters (int): The maximum number of training iterations\n",
        "    '''\n",
        "    self.__alpha = alpha\n",
        "    self.__max_iters = max_iters\n",
        "    self.__W = None  # Weight matrix\n",
        "    self._b = None\n",
        "    self.__J_history = []\n",
        "\n",
        "  def train(self, X_train, y_train, print_iterations=False):\n",
        "    '''\n",
        "    Trains model parameters with gradient descent\n",
        "    to be able to predict with softmax regression.\n",
        "\n",
        "    Parameters\n",
        "    ---------------\n",
        "    self (SoftmaxRegression): A SoftmaxRegression object\n",
        "    X_train (ndarray (m,n)): The training examples\n",
        "    y_train (ndarray (m,)): The training labels\n",
        "    print_iterations (bool): Determines whether or not to print training\n",
        "                             progress\n",
        "    '''\n",
        "    m, n = X_train.shape\n",
        "    k = len(np.unique(y_train))  # Number of classes\n",
        "    self.__W = np.random.rand(n, k)\n",
        "    self.__b = np.random.rand(k)\n",
        "    y_one_hot = self.__one_hot(y_train, k)\n",
        "\n",
        "    for i in range(self.__max_iters):\n",
        "      probabilities = self.__softmax(X_train)\n",
        "\n",
        "      # Compute the gradient\n",
        "      error = probabilities - y_one_hot\n",
        "      gradient_W = X_train.T @ error / m\n",
        "      gradient_b = np.sum(error, axis=0) / m\n",
        "\n",
        "      # Update weights and bias\n",
        "      last_W, last_b = np.copy(self.__W), np.copy(self.__b)\n",
        "      self.__W -= self.__alpha * gradient_W\n",
        "      self.__b -= self.__alpha * gradient_b\n",
        "\n",
        "      # Capture cost\n",
        "      cost = self.__cross_entropy_cost(probabilities, y_one_hot)\n",
        "      self.__J_history.append(cost)\n",
        "\n",
        "      # Optionally print the progress\n",
        "      if print_iterations and (i % 100 == 0 or i == self.__max_iters-1):\n",
        "        print(f'Iteration {i}, Cost: {cost}')\n",
        "\n",
        "      # Check for convergence\n",
        "      if self.__is_convergence(last_W, last_b):\n",
        "        print(f'Converged at iteration {i}')\n",
        "        break\n",
        "\n",
        "  def predict(self, X):\n",
        "    '''\n",
        "    Makes softmax regression predictions.\n",
        "\n",
        "    Parameters\n",
        "    ---------------\n",
        "    self (SoftmaxRegression): A SoftmaxRegression object\n",
        "    X (ndarray(m, n)): Data to use for a prediction\n",
        "\n",
        "    Returns\n",
        "    ---------------\n",
        "    (ndarray (m,)): The predictions\n",
        "    '''\n",
        "    probabilities = self.__softmax(X)\n",
        "    return np.argmax(probabilities, axis=1)\n",
        "\n",
        "  def get_cost_history(self):\n",
        "    '''\n",
        "    Returns the cost history of the model.\n",
        "\n",
        "    Parameters\n",
        "    ----------------\n",
        "    self (SoftmaxRegression): A SoftmaxRegression object\n",
        "\n",
        "    Returns\n",
        "    ----------------\n",
        "    (list): List of the cost history during training\n",
        "    '''\n",
        "    return self.__J_history\n",
        "\n",
        "  def __softmax(self, X):\n",
        "    logits = X @ self.__W + self.__b\n",
        "    return self.__probabilities(logits)\n",
        "\n",
        "  def __probabilities(self, z):\n",
        "    exp_z = np.exp(z - np.max(z, axis=1, keepdims=True))\n",
        "    return exp_z / np.sum(exp_z, axis=1, keepdims=True)\n",
        "\n",
        "  def __one_hot(self, y, k):\n",
        "    return np.eye(k)[y]\n",
        "\n",
        "  def __cross_entropy_cost(self, probabilities, y_one_hot):\n",
        "    m = probabilities.shape[0]\n",
        "    return -np.sum(y_one_hot * np.log(probabilities + 1e-15)) / m\n",
        "\n",
        "  def __is_convergence(self, last_W, last_b):\n",
        "        return self.__arrays_are_equal(self.__W, last_W) and self.__arrays_are_equal(self.__b, last_b)\n",
        "\n",
        "  def __are_equal(self, val_a, val_b, epsilon = 1.0e-6):\n",
        "        return abs(val_a - val_b) < epsilon\n",
        "\n",
        "  def __arrays_are_equal(self, arr_a, arr_b, epsilon=1.0e-6):\n",
        "        are_equal = abs(arr_a - arr_b) < epsilon\n",
        "        return are_equal.all()"
      ],
      "metadata": {
        "id": "QqXVsBPQKKYA"
      },
      "execution_count": 9,
      "outputs": []
    },
    {
      "cell_type": "code",
      "source": [
        "def accuracy(y_preds, y):\n",
        "  assert len(y_preds) == len(y), 'y_preds must be the same length as y'\n",
        "  return sum(y_preds == y) / len(y)"
      ],
      "metadata": {
        "id": "6i8SsUv9MCzq"
      },
      "execution_count": 10,
      "outputs": []
    },
    {
      "cell_type": "markdown",
      "source": [
        "Let's find the best learning rate."
      ],
      "metadata": {
        "id": "wH6ru5HYYG8U"
      }
    },
    {
      "cell_type": "code",
      "source": [
        "# set random seed\n",
        "np.random.seed(47)\n",
        "\n",
        "learning_rates = [1.0, 0.3, 0.1, 0.03, 0.01, 0.003, 0.001, 0.0003, 0.0001]\n",
        "cost_histories = {}\n",
        "\n",
        "best_accuracy = float('-inf')\n",
        "best_learning_rate = None\n",
        "\n",
        "for learning_rate in learning_rates:\n",
        "  sr = SoftmaxRegression(alpha=learning_rate, max_iters=10000)\n",
        "  sr.train(X_train, y_train)\n",
        "  cost_history = sr.get_cost_history()\n",
        "  cost_histories[learning_rate] = cost_history\n",
        "  y_val_preds = sr.predict(X_val)\n",
        "  val_acc = accuracy(y_val_preds, y_val)\n",
        "\n",
        "  print(f'Learning rate: {learning_rate} | Cost: {cost_history[-1]} | Validation accuracy: {val_acc}')\n",
        "\n",
        "  if val_acc > best_accuracy:\n",
        "    best_accuracy = val_acc\n",
        "    best_learning_rate = learning_rate"
      ],
      "metadata": {
        "colab": {
          "base_uri": "https://localhost:8080/"
        },
        "id": "-X4HCuB2H6Nu",
        "outputId": "5f6d2579-0bb6-4baf-ffc2-7cddcfe725e3"
      },
      "execution_count": 11,
      "outputs": [
        {
          "output_type": "stream",
          "name": "stdout",
          "text": [
            "Learning rate: 1.0 | Cost: 0.018520109968873818 | Validation accuracy: 0.9629629629629629\n",
            "Learning rate: 0.3 | Cost: 0.0450207256730374 | Validation accuracy: 0.9629629629629629\n",
            "Learning rate: 0.1 | Cost: 0.08751013117548044 | Validation accuracy: 0.9675925925925926\n",
            "Learning rate: 0.03 | Cost: 0.1536699722549663 | Validation accuracy: 0.9537037037037037\n",
            "Learning rate: 0.01 | Cost: 0.2696052995084304 | Validation accuracy: 0.9351851851851852\n",
            "Learning rate: 0.003 | Cost: 0.5860224023122259 | Validation accuracy: 0.875\n",
            "Learning rate: 0.001 | Cost: 1.1584712065923384 | Validation accuracy: 0.8194444444444444\n",
            "Learning rate: 0.0003 | Cost: 1.9109262592565137 | Validation accuracy: 0.35185185185185186\n",
            "Learning rate: 0.0001 | Cost: 2.4097522894323804 | Validation accuracy: 0.12962962962962962\n"
          ]
        }
      ]
    },
    {
      "cell_type": "markdown",
      "source": [
        "Let's view the degradation of cost for each learning rate."
      ],
      "metadata": {
        "id": "rThqQhRDYK3I"
      }
    },
    {
      "cell_type": "code",
      "source": [
        "import matplotlib.pyplot as plt\n",
        "\n",
        "fig, (ax1, ax2) = plt.subplots(1, 2, constrained_layout=True, figsize=(12, 4))\n",
        "\n",
        "for learning_rate in learning_rates:\n",
        "    cost_history = cost_histories[learning_rate]\n",
        "    ax1.plot(cost_history, label=learning_rate)\n",
        "    ax2.plot(8000 + np.arange(len(cost_history[8000:])), cost_history[8000:])\n",
        "\n",
        "ax1.legend()\n",
        "plt.show()"
      ],
      "metadata": {
        "colab": {
          "base_uri": "https://localhost:8080/",
          "height": 428
        },
        "id": "o5pNC3KbMmmW",
        "outputId": "93dc19db-6bf2-4912-ca8e-4665097a103d"
      },
      "execution_count": 12,
      "outputs": [
        {
          "output_type": "display_data",
          "data": {
            "text/plain": [
              "<Figure size 1200x400 with 2 Axes>"
            ],
            "image/png": "[encoded data removed]"
          },
          "metadata": {}
        }
      ]
    },
    {
      "cell_type": "code",
      "source": [
        "best_learning_rate"
      ],
      "metadata": {
        "colab": {
          "base_uri": "https://localhost:8080/"
        },
        "id": "lCOEQsDuVCh1",
        "outputId": "735e019b-ef1e-4f9f-9762-ad5f7e976fdc"
      },
      "execution_count": 13,
      "outputs": [
        {
          "output_type": "execute_result",
          "data": {
            "text/plain": [
              "0.1"
            ]
          },
          "metadata": {},
          "execution_count": 13
        }
      ]
    },
    {
      "cell_type": "code",
      "source": [
        "sr = SoftmaxRegression(alpha=best_learning_rate, max_iters=10000)\n",
        "sr.train(X_train, y_train)"
      ],
      "metadata": {
        "id": "r6GnYunaUjb7"
      },
      "execution_count": 14,
      "outputs": []
    },
    {
      "cell_type": "code",
      "source": [
        "sum(sr.predict(X_test) == y_test) / len(y_test)"
      ],
      "metadata": {
        "colab": {
          "base_uri": "https://localhost:8080/"
        },
        "id": "fbl7XSrOKVTK",
        "outputId": "a3bad791-0e35-4ae0-dd49-c6ff0a58e49e"
      },
      "execution_count": 15,
      "outputs": [
        {
          "output_type": "execute_result",
          "data": {
            "text/plain": [
              "0.9722222222222222"
            ]
          },
          "metadata": {},
          "execution_count": 15
        }
      ]
    },
    {
      "cell_type": "markdown",
      "source": [
        "### sciKit-learn"
      ],
      "metadata": {
        "id": "qqZx20LBdqIr"
      }
    },
    {
      "cell_type": "code",
      "source": [
        "from sklearn.metrics import accuracy_score"
      ],
      "metadata": {
        "id": "ppFfI3L3-1cv"
      },
      "execution_count": 16,
      "outputs": []
    },
    {
      "cell_type": "markdown",
      "source": [
        "#### Logistic Regression Model\n",
        "\n",
        "Let's now use scikit-learn's model for multinomial regression using softmax regression."
      ],
      "metadata": {
        "id": "UNz-BNTTrtXm"
      }
    },
    {
      "cell_type": "code",
      "source": [
        "# Create the Softmax Regression model\n",
        "lr = LogisticRegression(tol=1e-6, multi_class='multinomial', solver='lbfgs', max_iter=10000)\n",
        "\n",
        "# Train the model\n",
        "lr.fit(X_train, y_train)"
      ],
      "metadata": {
        "colab": {
          "base_uri": "https://localhost:8080/",
          "height": 75
        },
        "id": "zriiIcKB9xtP",
        "outputId": "fed9f273-ca29-4f2b-d395-64aed994a767"
      },
      "execution_count": 17,
      "outputs": [
        {
          "output_type": "execute_result",
          "data": {
            "text/plain": [
              "LogisticRegression(max_iter=10000, multi_class='multinomial', tol=1e-06)"
            ],
            "text/html": [
              "<style>#sk-container-id-1 {color: black;background-color: white;}#sk-container-id-1 pre{padding: 0;}#sk-container-id-1 div.sk-toggleable {background-color: white;}#sk-container-id-1 label.sk-toggleable__label {cursor: pointer;display: block;width: 100%;margin-bottom: 0;padding: 0.3em;box-sizing: border-box;text-align: center;}#sk-container-id-1 label.sk-toggleable__label-arrow:before {content: \"▸\";float: left;margin-right: 0.25em;color: #696969;}#sk-container-id-1 label.sk-toggleable__label-arrow:hover:before {color: black;}#sk-container-id-1 div.sk-estimator:hover label.sk-toggleable__label-arrow:before {color: black;}#sk-container-id-1 div.sk-toggleable__content {max-height: 0;max-width: 0;overflow: hidden;text-align: left;background-color: #f0f8ff;}#sk-container-id-1 div.sk-toggleable__content pre {margin: 0.2em;color: black;border-radius: 0.25em;background-color: #f0f8ff;}#sk-container-id-1 input.sk-toggleable__control:checked~div.sk-toggleable__content {max-height: 200px;max-width: 100%;overflow: auto;}#sk-container-id-1 input.sk-toggleable__control:checked~label.sk-toggleable__label-arrow:before {content: \"▾\";}#sk-container-id-1 div.sk-estimator input.sk-toggleable__control:checked~label.sk-toggleable__label {background-color: #d4ebff;}#sk-container-id-1 div.sk-label input.sk-toggleable__control:checked~label.sk-toggleable__label {background-color: #d4ebff;}#sk-container-id-1 input.sk-hidden--visually {border: 0;clip: rect(1px 1px 1px 1px);clip: rect(1px, 1px, 1px, 1px);height: 1px;margin: -1px;overflow: hidden;padding: 0;position: absolute;width: 1px;}#sk-container-id-1 div.sk-estimator {font-family: monospace;background-color: #f0f8ff;border: 1px dotted black;border-radius: 0.25em;box-sizing: border-box;margin-bottom: 0.5em;}#sk-container-id-1 div.sk-estimator:hover {background-color: #d4ebff;}#sk-container-id-1 div.sk-parallel-item::after {content: \"\";width: 100%;border-bottom: 1px solid gray;flex-grow: 1;}#sk-container-id-1 div.sk-label:hover label.sk-toggleable__label {background-color: #d4ebff;}#sk-container-id-1 div.sk-serial::before {content: \"\";position: absolute;border-left: 1px solid gray;box-sizing: border-box;top: 0;bottom: 0;left: 50%;z-index: 0;}#sk-container-id-1 div.sk-serial {display: flex;flex-direction: column;align-items: center;background-color: white;padding-right: 0.2em;padding-left: 0.2em;position: relative;}#sk-container-id-1 div.sk-item {position: relative;z-index: 1;}#sk-container-id-1 div.sk-parallel {display: flex;align-items: stretch;justify-content: center;background-color: white;position: relative;}#sk-container-id-1 div.sk-item::before, #sk-container-id-1 div.sk-parallel-item::before {content: \"\";position: absolute;border-left: 1px solid gray;box-sizing: border-box;top: 0;bottom: 0;left: 50%;z-index: -1;}#sk-container-id-1 div.sk-parallel-item {display: flex;flex-direction: column;z-index: 1;position: relative;background-color: white;}#sk-container-id-1 div.sk-parallel-item:first-child::after {align-self: flex-end;width: 50%;}#sk-container-id-1 div.sk-parallel-item:last-child::after {align-self: flex-start;width: 50%;}#sk-container-id-1 div.sk-parallel-item:only-child::after {width: 0;}#sk-container-id-1 div.sk-dashed-wrapped {border: 1px dashed gray;margin: 0 0.4em 0.5em 0.4em;box-sizing: border-box;padding-bottom: 0.4em;background-color: white;}#sk-container-id-1 div.sk-label label {font-family: monospace;font-weight: bold;display: inline-block;line-height: 1.2em;}#sk-container-id-1 div.sk-label-container {text-align: center;}#sk-container-id-1 div.sk-container {/* jupyter's `normalize.less` sets `[hidden] { display: none; }` but bootstrap.min.css set `[hidden] { display: none !important; }` so we also need the `!important` here to be able to override the default hidden behavior on the sphinx rendered scikit-learn.org. See: https://github.com/scikit-learn/scikit-learn/issues/21755 */display: inline-block !important;position: relative;}#sk-container-id-1 div.sk-text-repr-fallback {display: none;}</style><div id=\"sk-container-id-1\" class=\"sk-top-container\"><div class=\"sk-text-repr-fallback\"><pre>LogisticRegression(max_iter=10000, multi_class=&#x27;multinomial&#x27;, tol=1e-06)</pre><b>In a Jupyter environment, please rerun this cell to show the HTML representation or trust the notebook. <br />On GitHub, the HTML representation is unable to render, please try loading this page with nbviewer.org.</b></div><div class=\"sk-container\" hidden><div class=\"sk-item\"><div class=\"sk-estimator sk-toggleable\"><input class=\"sk-toggleable__control sk-hidden--visually\" id=\"sk-estimator-id-1\" type=\"checkbox\" checked><label for=\"sk-estimator-id-1\" class=\"sk-toggleable__label sk-toggleable__label-arrow\">LogisticRegression</label><div class=\"sk-toggleable__content\"><pre>LogisticRegression(max_iter=10000, multi_class=&#x27;multinomial&#x27;, tol=1e-06)</pre></div></div></div></div></div>"
            ]
          },
          "metadata": {},
          "execution_count": 17
        }
      ]
    },
    {
      "cell_type": "code",
      "source": [
        "# Predict using the test set\n",
        "y_pred = lr.predict(X_test)\n",
        "\n",
        "# Calculate the accuracy\n",
        "accuracy = accuracy_score(y_test, y_pred)\n",
        "print(\"Accuracy:\", accuracy)"
      ],
      "metadata": {
        "colab": {
          "base_uri": "https://localhost:8080/"
        },
        "id": "4OwcDVnA-GQ_",
        "outputId": "a6bbf198-be2c-4910-e3f1-cb4e651f43cc"
      },
      "execution_count": 18,
      "outputs": [
        {
          "output_type": "stream",
          "name": "stdout",
          "text": [
            "Accuracy: 0.975\n"
          ]
        }
      ]
    },
    {
      "cell_type": "markdown",
      "source": [
        "#### SGD Classifier\n",
        "\n",
        "Let's use the SGD classifier. Using the log loss tells the classifier to use logistic regression. Since we have multiple labels, softmax regression will be used."
      ],
      "metadata": {
        "id": "v7kCuS61r2h1"
      }
    },
    {
      "cell_type": "code",
      "source": [
        "from sklearn.linear_model import SGDClassifier"
      ],
      "metadata": {
        "id": "fQUgcpkipsbN"
      },
      "execution_count": 19,
      "outputs": []
    },
    {
      "cell_type": "code",
      "source": [
        "# Create the Softmax Regression model\n",
        "sgd = SGDClassifier(tol=1e-6, loss='log_loss', alpha=0.0, learning_rate='constant', eta0=best_learning_rate, max_iter=10000)\n",
        "\n",
        "# Train the model\n",
        "sgd.fit(X_train, y_train)"
      ],
      "metadata": {
        "colab": {
          "base_uri": "https://localhost:8080/",
          "height": 92
        },
        "id": "n4O9xrE6pwlC",
        "outputId": "f837d284-03c1-4799-b903-378334973ef7"
      },
      "execution_count": 20,
      "outputs": [
        {
          "output_type": "execute_result",
          "data": {
            "text/plain": [
              "SGDClassifier(alpha=0.0, eta0=0.1, learning_rate='constant', loss='log_loss',\n",
              "              max_iter=10000, tol=1e-06)"
            ],
            "text/html": [
              "<style>#sk-container-id-2 {color: black;background-color: white;}#sk-container-id-2 pre{padding: 0;}#sk-container-id-2 div.sk-toggleable {background-color: white;}#sk-container-id-2 label.sk-toggleable__label {cursor: pointer;display: block;width: 100%;margin-bottom: 0;padding: 0.3em;box-sizing: border-box;text-align: center;}#sk-container-id-2 label.sk-toggleable__label-arrow:before {content: \"▸\";float: left;margin-right: 0.25em;color: #696969;}#sk-container-id-2 label.sk-toggleable__label-arrow:hover:before {color: black;}#sk-container-id-2 div.sk-estimator:hover label.sk-toggleable__label-arrow:before {color: black;}#sk-container-id-2 div.sk-toggleable__content {max-height: 0;max-width: 0;overflow: hidden;text-align: left;background-color: #f0f8ff;}#sk-container-id-2 div.sk-toggleable__content pre {margin: 0.2em;color: black;border-radius: 0.25em;background-color: #f0f8ff;}#sk-container-id-2 input.sk-toggleable__control:checked~div.sk-toggleable__content {max-height: 200px;max-width: 100%;overflow: auto;}#sk-container-id-2 input.sk-toggleable__control:checked~label.sk-toggleable__label-arrow:before {content: \"▾\";}#sk-container-id-2 div.sk-estimator input.sk-toggleable__control:checked~label.sk-toggleable__label {background-color: #d4ebff;}#sk-container-id-2 div.sk-label input.sk-toggleable__control:checked~label.sk-toggleable__label {background-color: #d4ebff;}#sk-container-id-2 input.sk-hidden--visually {border: 0;clip: rect(1px 1px 1px 1px);clip: rect(1px, 1px, 1px, 1px);height: 1px;margin: -1px;overflow: hidden;padding: 0;position: absolute;width: 1px;}#sk-container-id-2 div.sk-estimator {font-family: monospace;background-color: #f0f8ff;border: 1px dotted black;border-radius: 0.25em;box-sizing: border-box;margin-bottom: 0.5em;}#sk-container-id-2 div.sk-estimator:hover {background-color: #d4ebff;}#sk-container-id-2 div.sk-parallel-item::after {content: \"\";width: 100%;border-bottom: 1px solid gray;flex-grow: 1;}#sk-container-id-2 div.sk-label:hover label.sk-toggleable__label {background-color: #d4ebff;}#sk-container-id-2 div.sk-serial::before {content: \"\";position: absolute;border-left: 1px solid gray;box-sizing: border-box;top: 0;bottom: 0;left: 50%;z-index: 0;}#sk-container-id-2 div.sk-serial {display: flex;flex-direction: column;align-items: center;background-color: white;padding-right: 0.2em;padding-left: 0.2em;position: relative;}#sk-container-id-2 div.sk-item {position: relative;z-index: 1;}#sk-container-id-2 div.sk-parallel {display: flex;align-items: stretch;justify-content: center;background-color: white;position: relative;}#sk-container-id-2 div.sk-item::before, #sk-container-id-2 div.sk-parallel-item::before {content: \"\";position: absolute;border-left: 1px solid gray;box-sizing: border-box;top: 0;bottom: 0;left: 50%;z-index: -1;}#sk-container-id-2 div.sk-parallel-item {display: flex;flex-direction: column;z-index: 1;position: relative;background-color: white;}#sk-container-id-2 div.sk-parallel-item:first-child::after {align-self: flex-end;width: 50%;}#sk-container-id-2 div.sk-parallel-item:last-child::after {align-self: flex-start;width: 50%;}#sk-container-id-2 div.sk-parallel-item:only-child::after {width: 0;}#sk-container-id-2 div.sk-dashed-wrapped {border: 1px dashed gray;margin: 0 0.4em 0.5em 0.4em;box-sizing: border-box;padding-bottom: 0.4em;background-color: white;}#sk-container-id-2 div.sk-label label {font-family: monospace;font-weight: bold;display: inline-block;line-height: 1.2em;}#sk-container-id-2 div.sk-label-container {text-align: center;}#sk-container-id-2 div.sk-container {/* jupyter's `normalize.less` sets `[hidden] { display: none; }` but bootstrap.min.css set `[hidden] { display: none !important; }` so we also need the `!important` here to be able to override the default hidden behavior on the sphinx rendered scikit-learn.org. See: https://github.com/scikit-learn/scikit-learn/issues/21755 */display: inline-block !important;position: relative;}#sk-container-id-2 div.sk-text-repr-fallback {display: none;}</style><div id=\"sk-container-id-2\" class=\"sk-top-container\"><div class=\"sk-text-repr-fallback\"><pre>SGDClassifier(alpha=0.0, eta0=0.1, learning_rate=&#x27;constant&#x27;, loss=&#x27;log_loss&#x27;,\n",
              "              max_iter=10000, tol=1e-06)</pre><b>In a Jupyter environment, please rerun this cell to show the HTML representation or trust the notebook. <br />On GitHub, the HTML representation is unable to render, please try loading this page with nbviewer.org.</b></div><div class=\"sk-container\" hidden><div class=\"sk-item\"><div class=\"sk-estimator sk-toggleable\"><input class=\"sk-toggleable__control sk-hidden--visually\" id=\"sk-estimator-id-2\" type=\"checkbox\" checked><label for=\"sk-estimator-id-2\" class=\"sk-toggleable__label sk-toggleable__label-arrow\">SGDClassifier</label><div class=\"sk-toggleable__content\"><pre>SGDClassifier(alpha=0.0, eta0=0.1, learning_rate=&#x27;constant&#x27;, loss=&#x27;log_loss&#x27;,\n",
              "              max_iter=10000, tol=1e-06)</pre></div></div></div></div></div>"
            ]
          },
          "metadata": {},
          "execution_count": 20
        }
      ]
    },
    {
      "cell_type": "code",
      "source": [
        "# Predict using the test set\n",
        "y_pred = sgd.predict(X_test)\n",
        "\n",
        "# Calculate the accuracy\n",
        "accuracy = accuracy_score(y_test, y_pred)\n",
        "print(\"Accuracy:\", accuracy)"
      ],
      "metadata": {
        "colab": {
          "base_uri": "https://localhost:8080/"
        },
        "id": "Xyb7T_awrDxj",
        "outputId": "9a90cd3a-79c4-4a7b-a302-097f69083d37"
      },
      "execution_count": 21,
      "outputs": [
        {
          "output_type": "stream",
          "name": "stdout",
          "text": [
            "Accuracy: 0.9777777777777777\n"
          ]
        }
      ]
    },
    {
      "cell_type": "markdown",
      "source": [
        "All models' softmax regression performed well in classifying the digits we were given. Which may be expected since in the EDA, t-SNE showed 10 well-formed 2-D clusters."
      ],
      "metadata": {
        "id": "8POnoOapXYj0"
      }
    }
  ]
}