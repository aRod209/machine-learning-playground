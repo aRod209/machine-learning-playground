{
 "cells": [
  {
   "cell_type": "markdown",
   "id": "e4fd647e",
   "metadata": {},
   "source": [
    "## Multiple Linear Regression To Predict Quantitative Meausure Of Disease Progession"
   ]
  },
  {
   "cell_type": "markdown",
   "id": "300691d6",
   "metadata": {},
   "source": [
    "Notebook by Anthony Rodriguez"
   ]
  },
  {
   "cell_type": "markdown",
   "id": "7131d683",
   "metadata": {},
   "source": [
    "## Introduction"
   ]
  },
  {
   "cell_type": "markdown",
   "id": "72155ab8",
   "metadata": {},
   "source": [
    "This notebook uses multiple linear regression to predict a qunatitative measure of diabetes. The data is taken from a [toy dataset provided by scikit-learn](https://scikit-learn.org/stable/modules/generated/sklearn.datasets.load_diabetes.html#sklearn.datasets.load_diabetes). Linear regression  is first implemented using Python and basic Numpy operations. Then linear regression is implemented again more optimally by taking advantage of Numpy's matrix multiplication. Then we compare our results with scikit-learn's SGDRegressor.\n",
    "\n",
    "**The EDA on this dataset can be seen in this [notebook](../../ExploratoryDataAnalysis/DiabetesDataset.ipynb).** You can open up that notebook to get a good look at the data."
   ]
  },
  {
   "cell_type": "code",
   "execution_count": 1,
   "id": "d86fd1c5",
   "metadata": {},
   "outputs": [],
   "source": [
    "from sklearn.datasets import load_diabetes\n",
    "\n",
    "import math\n",
    "import numpy as np"
   ]
  },
  {
   "cell_type": "code",
   "execution_count": 2,
   "id": "6a9def33",
   "metadata": {},
   "outputs": [],
   "source": [
    "X_data, y_data = load_diabetes(return_X_y=True)"
   ]
  },
  {
   "cell_type": "markdown",
   "id": "55d385cc",
   "metadata": {},
   "source": [
    "## Training a Univariate Linear Regression Model"
   ]
  },
  {
   "cell_type": "markdown",
   "id": "29727f68",
   "metadata": {},
   "source": [
    "#### This data will allow us to use a mulitple linear function $f$ of a vector $\\mathbf{x}$, containing multiple variables. That is, $f_{\\mathbf{w},b}(\\mathbf{x}) = \\mathbf{w} \\cdot \\mathbf{x} + b$. \n",
    "\n",
    "$\\mathbf{w}$, a vector, and $b$, a scalar, are parameters we must find.\n",
    "\n",
    "#### We can do this by minimizing the cost $J(\\mathbf{w},b) = \\frac{1}{2m}\\sum\\limits^{m-1}_{i=0}(f_{w,b}(\\mathbf{x}^{(i)}) - y^{(i)})^{2}$\n",
    "#### where $f_{\\mathbf{w},b}(\\mathbf{x}) = \\mathbf{w} \\cdot \\mathbf{x}^{(i)} + b$ is the estimated cost of training example $\\mathbf{x}^{(i)}$.\n",
    "\n",
    "#### $y^{(i)}$ is the true cost of training example $\\mathbf{x}^{(i)}$.\n",
    "\n",
    "#### In order to find $\\mathbf{w}$ and $b$ by minimizing the cost $J(\\mathbf{w},b)$, we must use it's gradient\n",
    "\n",
    "$$\n",
    "\\begin{align}\n",
    "\\frac{\\partial J(\\mathbf{w},b)}{\\partial \\mathbf{w}}  &= \\frac{1}{2m} \\sum\\limits_{i = 0}^{m-1} (f_{\\mathbf{w},b}(\\mathbf{x}^{(i)}) - y^{(i)})\\mathbf{x}^{(i)} \\newline\n",
    "  \\frac{\\partial J(\\mathbf{w},b)}{\\partial b}  &= \\frac{1}{2m} \\sum\\limits_{i = 0}^{m-1} (f_{\\mathbf{w},b}(\\mathbf{x}^{(i)}) - y^{(i)})\n",
    "\\end{align}\n",
    "$$\n",
    "\n",
    "#### We then repeat until convergence\n",
    "\n",
    "$$\\begin{align*} \\newline\n",
    "\\;  \\mathbf{w} &= \\mathbf{w} -  \\alpha \\frac{\\partial J(\\mathbf{w},b)}{\\partial \\mathbf{w}} \\newline \n",
    " b &= b -  \\alpha \\frac{\\partial J(\\mathbf{w},b)}{\\partial b}  \\newline\n",
    "\\end{align*}$$\n",
    "\n",
    "#### where, parameters $\\mathbf{w}$, $b$ are updated simultaneously."
   ]
  },
  {
   "cell_type": "markdown",
   "id": "f868a9e4",
   "metadata": {},
   "source": [
    "Let's create a class that implements Linear Regression architecture and uses the Gradient Descent algorithm to build a model."
   ]
  },
  {
   "cell_type": "code",
   "execution_count": 3,
   "id": "93d671f5",
   "metadata": {},
   "outputs": [],
   "source": [
    "class LinearRegressionGD:\n",
    "    \"\"\"\n",
    "    The linear regression model that runs the gradient descent algorithm.\n",
    "    \"\"\"\n",
    "    def __init__(self, alpha=1.0, max_iters=1000):\n",
    "        \"\"\"\n",
    "        Creates Linear_Regression object.\n",
    "        \n",
    "        Parameters\n",
    "        -----------\n",
    "        self (LinearRegressionGD): A LinearRegressionGD object.\n",
    "        alpha (float): The learning rate.\n",
    "        max_iters (int): The maximum number of iterations of the gradient descent algorithm.\n",
    "        \"\"\"\n",
    "        self.__alpha = alpha\n",
    "        self.__max_iters = max_iters\n",
    "        self.__w = None\n",
    "        self.__b = None\n",
    "        self.__J_history = [] # Stores the cost J of each iteration in gradient descent.\n",
    "        self.__p_history = [] # Stores the history of parameters of each iteration in gradient descent.\n",
    "        \n",
    "    def get_parameters(self):\n",
    "        '''\n",
    "        self (LinearRegressionGD): A LinearRegressionGD object.\n",
    "        \n",
    "        Returns\n",
    "        --------\n",
    "        (ndarray(n,), ndarray(1,)) : The model parameters, weights and bias.\n",
    "        '''\n",
    "        return self.__w, self.__b\n",
    "    \n",
    "    def get_cost_history(self):\n",
    "        '''\n",
    "        self (LinearRegressionGD): A LinearRegressionGD object.\n",
    "        \n",
    "        Returns\n",
    "        --------\n",
    "        (list) : The history of cost when training the model.\n",
    "        '''\n",
    "        return self.__J_history\n",
    "        \n",
    "    def train(self, X_train, y_train, print_iterations=False):\n",
    "        '''\n",
    "        Trains the linear regression model using the gradient descent algorithm.\n",
    "        \n",
    "        Parameters\n",
    "        ----------\n",
    "        self (LinearRegressionGD): A LinearRegressionGD object.\n",
    "        X_train (ndarray (m, n)): The training examples.\n",
    "        y_train (ndarray(m,)): The training targets.\n",
    "        print_iterations (bool): True if wanting information to be printed on every iteration, false otherwise.\n",
    "        '''        \n",
    "        self.__compute_gradient_function = self.__compute_gradient\n",
    "        self.__cost_function = self.compute_cost\n",
    "        self.__train(X_train, y_train, print_iterations)\n",
    "        \n",
    "    def train_optimized(self, X_train, y_train, print_iterations=False):\n",
    "        '''\n",
    "        Trains the linear regression model in a more optimally fashion using Numpy's\n",
    "        matrix multiplication in the gradient descent algorithm.\n",
    "        \n",
    "        Parameters\n",
    "        -----------\n",
    "        self (LinearRegressionGd): A LinearRegressionGD object.\n",
    "        X_train (ndarray (m, n)): The training examples.\n",
    "        y_train (ndarray(m,)): The training targets.\n",
    "        print_iterations (bool): True if wanting information to be printed on every iteration, false otherwise.\n",
    "        '''        \n",
    "        self.__compute_gradient_function = self.__compute_gradient_optimized\n",
    "        self.__cost_function = self.compute_cost_optimized\n",
    "        self.__train(X_train, y_train, print_iterations)\n",
    "        \n",
    "    def compute_cost(self, X, y):\n",
    "        '''\n",
    "        Computes the cost of the model.\n",
    "                \n",
    "        Parameters\n",
    "        -----------\n",
    "        self (LinearRegressionGd): A LinearRegressionGD object.\n",
    "        X (ndarray (m, n)): The training examples.\n",
    "        y (ndarray(m,)): The training targets.\n",
    "        \n",
    "        Returns\n",
    "        --------\n",
    "        (float): the cost of the model.\n",
    "        '''\n",
    "        cost = self.compute_mse(X, y) / 2\n",
    "        return cost[0]\n",
    "    \n",
    "    def compute_mse(self, X, y):\n",
    "        '''\n",
    "        Computes the mean squared error.\n",
    "                \n",
    "        Parameters\n",
    "        -----------\n",
    "        self (LinearRegressionGd): A LinearRegressionGD object.\n",
    "        X (ndarray (m, n)): The training examples.\n",
    "        y (ndarray(m,)): The training targets.\n",
    "        \n",
    "        Returns\n",
    "        --------\n",
    "        (float): the mean sqaured error.\n",
    "        '''\n",
    "        m = X.shape[0]\n",
    "        i = 0\n",
    "        total_loss = 0\n",
    "\n",
    "        while i < m:\n",
    "            loss_i = self.__compute_loss(X, y, i)\n",
    "            total_loss = total_loss + (loss_i**2)\n",
    "            i += 1\n",
    "\n",
    "        return total_loss / m\n",
    "\n",
    "    def compute_cost_optimized(self, X, y):\n",
    "        '''\n",
    "        Computes the cost of the model optimally using matrix multiplication.\n",
    "                \n",
    "        Parameters\n",
    "        -----------\n",
    "        self (LinearRegressionGd): A LinearRegressionGD object.\n",
    "        X (ndarray (m, n)): The training examples.\n",
    "        y (ndarray(m,)): The training targets.\n",
    "        \n",
    "        Returns\n",
    "        --------\n",
    "        (float): the cost of the model.\n",
    "        '''\n",
    "        return self.compute_mse_optimized(X, y) / 2\n",
    "    \n",
    "    def compute_mse_optimized(self, X, y):\n",
    "        '''\n",
    "        Computes the mean squared error optimally using matrix multiplication.\n",
    "                \n",
    "        Parameters\n",
    "        -----------\n",
    "        self (LinearRegressionGd): A LinearRegressionGD object.\n",
    "        X (ndarray (m, n)): The training examples.\n",
    "        y (ndarray(m,)): The training targets.\n",
    "        \n",
    "        Returns\n",
    "        --------\n",
    "        (float): the mean sqaured error.\n",
    "        '''\n",
    "        m,n = X.shape\n",
    "        error = self.__compute_loss_optimized(X, y)\n",
    "        squared_error = error**2\n",
    "        return np.sum(squared_error / m)\n",
    "        \n",
    "    def predict(self, X):\n",
    "        '''\n",
    "        Predicts the numerical value using X, model weights and bias.\n",
    "        \n",
    "        Parameters\n",
    "        -----------\n",
    "        self (LinearRegressionGd): A LinearRegressionGD object.\n",
    "        X (ndarray (m, n)): The data to use for predictions.\n",
    "        \n",
    "        Returns\n",
    "        --------\n",
    "        (ndarray(m,)): The predictions.\n",
    "        '''\n",
    "        return X @ self.__w + self.__b\n",
    "        \n",
    "    def __train(self, X_train, y_train, print_iterations=False):\n",
    "        '''\n",
    "        Trains the linear regression model using gradient descent.\n",
    "        \n",
    "        Parameters\n",
    "        -----------\n",
    "        self (LinearRegressionGd): A LinearRegressionGD object.\n",
    "        X_train (ndarray (m, n)): The training examples.\n",
    "        y_train (ndarray(m,)): The training targets.\n",
    "        print_iterations (bool): True if wanting information to be printed on every iteration, false otherwise.\n",
    "        '''\n",
    "        self.__w = np.zeros_like(X_train[0])\n",
    "        self.__b = np.array([0])\n",
    "        \n",
    "        # An array to store cost J and w's at each iteration primarily for graphing later\n",
    "        self.__J_history = []\n",
    "        self.__p_history = []\n",
    "        \n",
    "        self.__gradient_descent(X_train, y_train, print_iterations)\n",
    "        \n",
    "    def __gradient_descent(self, X_train, y_train, print_iterations):\n",
    "        '''\n",
    "        Runs the gradient descent algorithm.\n",
    "        \n",
    "        Parameters\n",
    "        ----------\n",
    "        self (LinearRegressionGd): A LinearRegressionGD object.\n",
    "        X_train (ndarray (m, n)): The training examples.\n",
    "        y_train (ndarray(m,)): The training targets.\n",
    "        print_iterations (bool): True if wanting information to be printed on every iteration, false otherwise.\n",
    "        '''\n",
    "        if print_iterations:\n",
    "            self.__print_header()\n",
    "            \n",
    "        for i in range(self.__max_iters):\n",
    "            # Calculate the gradient and update the parameters using gradient_function\n",
    "            dj_dw, dj_db = self.__compute_gradient_function(X_train, y_train)\n",
    "            \n",
    "            # Record old parameters\n",
    "            last_b, last_w = self.__b, self.__w\n",
    "\n",
    "            # Update Parameters\n",
    "            self.__b = self.__b - self.__alpha * dj_db                            \n",
    "            self.__w = self.__w - self.__alpha * dj_dw\n",
    "            \n",
    "            # Check if new parameters are equal to the last iterations parameters\n",
    "            if self.__is_convergence(last_w, last_b):                \n",
    "                if print_iterations:                    \n",
    "                    print('Convergence')\n",
    "                    info = f'{i}\\t    {J_history[-1][0]:.2}\\t'\n",
    "\n",
    "                    for w_i in w:\n",
    "                        info += f'{w_i:.1e}  '\n",
    "\n",
    "                    info += f'{b:.2e}  '\n",
    "\n",
    "                    for dj_dw_i in dj_dw:\n",
    "                        info += f' {dj_dw_i:.1e}  '\n",
    "\n",
    "                    info += f'{dj_db}'\n",
    "                    print(info)\n",
    "                \n",
    "                break\n",
    "                \n",
    "            # Save cost J at each iteration\n",
    "            self.__J_history.append(self.__cost_function(X_train, y_train))\n",
    "            self.__p_history.append([self.__w, self.__b])\n",
    "                \n",
    "            # Print cost every at intervals 10 times or as many iterations if max iters < 10\n",
    "            if print_iterations and i% math.ceil(self.__max_iters/10) == 0:\n",
    "                info = f'{i}\\t    {self.__J_history[-1][0]:.2}\\t'\n",
    "                \n",
    "                for w_i in self.__w:\n",
    "                    info += f'{w_i:.1e}  '\n",
    "                    \n",
    "                info += f'{self.__b[0]:.2e}  '\n",
    "                    \n",
    "                for dj_dw_i in dj_dw:\n",
    "                    info += f' {dj_dw_i:.1e}  '\n",
    "                \n",
    "                info += f'{dj_db[0]:.2e}'\n",
    "                print(info)\n",
    "                \n",
    "    def __compute_gradient(self, X, y):\n",
    "        '''\n",
    "        Computes the gradient.\n",
    "        \n",
    "        Parameters\n",
    "        -----------\n",
    "        self (LinearRegressionGd): A LinearRegressionGD object.\n",
    "        X (ndarray (m, n)): The training examples.\n",
    "        y (ndarray(m,)): The training targets.\n",
    "        \n",
    "        Returns\n",
    "        --------\n",
    "        (tuple (float, float)): the derivative of the loss w.r.t the weights,\n",
    "                                the derivative of the loss w.r.t. the bias.\n",
    "        '''\n",
    "        m = X.shape[0]\n",
    "        i = 0\n",
    "        dj_dw = 0\n",
    "        dj_db = 0\n",
    "\n",
    "        while i < m:\n",
    "            loss = self.__compute_loss(X, y, i)\n",
    "            dj_dw_i = loss * X[i]\n",
    "            dj_db_i = loss\n",
    "            dj_dw += dj_dw_i\n",
    "            dj_db += dj_db_i\n",
    "            i += 1\n",
    "\n",
    "        dj_dw, dj_db = dj_dw  / m, dj_db / m\n",
    "        return dj_dw, dj_db\n",
    "                \n",
    "    def __compute_gradient_optimized(self, X, y):\n",
    "        '''\n",
    "        Computes the gradient optimally using matrix multiplication.\n",
    "        \n",
    "        Parameters\n",
    "        -----------\n",
    "        self (LinearRegressionGd): A LinearRegressionGD object.\n",
    "        X (ndarray (m, n)): The training examples.\n",
    "        y (ndarray(m,)): The training targets.\n",
    "        \n",
    "        Returns\n",
    "        --------\n",
    "        (tuple (float, float)): the derivative of the loss w.r.t the weights,\n",
    "                                the derivative of the loss w.r.t. the bias.\n",
    "        '''\n",
    "        m,n = X.shape\n",
    "        dj_dw = np.zeros((n,))\n",
    "        dj_db = 0\n",
    "\n",
    "        loss = self.__compute_loss_optimized(X, y)\n",
    "        dj_dw = np.sum(X * loss.reshape((loss.shape[0],1)), axis=0)\n",
    "        dj_db = np.sum(loss)        \n",
    "        dj_dw, dj_db = dj_dw/m, dj_db/m\n",
    "        \n",
    "        return dj_dw, dj_db\n",
    "    \n",
    "    def __compute_loss(self, X, y, i):\n",
    "        '''\n",
    "        Computes the loss.\n",
    "        \n",
    "        Parameters\n",
    "        -----------\n",
    "        self (LinearRegressionGd): A LinearRegressionGD object.\n",
    "        X (ndarray (m, n)): The training examples.\n",
    "        y (ndarray(m,)): The training targets.\n",
    "        \n",
    "        Returns\n",
    "        --------\n",
    "        (float): the loss.\n",
    "        '''\n",
    "        f_X_i = np.dot(self.__w , X[i]) + self.__b\n",
    "        return f_X_i - y[i]\n",
    "    \n",
    "    def __compute_loss_optimized(self, X, y):\n",
    "        '''\n",
    "        Computes the loss optimally using matrix multiplication.\n",
    "        \n",
    "        Parameters\n",
    "        -----------\n",
    "        self (LinearRegressionGd): A LinearRegressionGD object.\n",
    "        X (ndarray (m, n)): The training examples.\n",
    "        y (ndarray(m,)): The training targets.\n",
    "        \n",
    "        Returns\n",
    "        --------\n",
    "        (ndarray(m,)): the losses.\n",
    "        '''\n",
    "        f_X = self.predict(X)\n",
    "        return f_X - y.reshape(-1)\n",
    "    \n",
    "    def __is_convergence(self, last_w, last_b):\n",
    "        '''\n",
    "        Determines whether or not the model weights and bias have converged.\n",
    "        \n",
    "        Parameters\n",
    "        -----------\n",
    "        self (LinearRegressionGd): A LinearRegressionGD object.\n",
    "        last_w (ndarray(n,)): The previous model weights.\n",
    "        last_b (ndarray(1, )): The previous bias.\n",
    "        \n",
    "        Returns\n",
    "        --------\n",
    "        (bool): True if previous model weights are equal to the current model weights and\n",
    "                if previous model bias is equal to the current model bias, false otherwise.\n",
    "        '''\n",
    "        return self.__arrays_are_equal(self.__w, last_w) and self.__arrays_are_equal(self.__b, last_b)\n",
    "    \n",
    "    def __are_equal(self, val_a, val_b, epsilon = 1.0e-6):\n",
    "        '''\n",
    "        Determines whether or not the difference of two ints/floats are within a number (epsilon).\n",
    "        \n",
    "        Parameters\n",
    "        -----------\n",
    "        self (LinearRegressionGd): A LinearRegressionGD object.\n",
    "        val_a (int/float): A value to be compared.\n",
    "        val_b (int/float): A value to be compared.\n",
    "        epsilon (float): The minimum value the difference needs to be in order\n",
    "                         for the values to be considered equal.\n",
    "        '''\n",
    "        return abs(val_a - val_b) < epsilon\n",
    "    \n",
    "    def __arrays_are_equal(self, arr_a, arr_b, epsilon=1.0e-6):\n",
    "        '''\n",
    "        Determines whether or not the difference of all elements between\n",
    "        two 1-D arrays are within a number (epsilon).\n",
    "        \n",
    "        Parameters\n",
    "        -----------\n",
    "        self (LinearRegressionGd): A LinearRegressionGD object.\n",
    "        val_a (ndarray(1,)): An array to be compared.\n",
    "        val_b (ndarray(1,)): An array to be compared.\n",
    "        epsilon (float): The minimum value the difference needs to be in order\n",
    "                         for the array to be considered equal.\n",
    "        '''\n",
    "        are_equal = abs(arr_a - arr_b) < epsilon\n",
    "        return are_equal.all()\n",
    "    \n",
    "    def __print_header(self):\n",
    "        '''\n",
    "        Prints a header for the output of the gradient descent algorithm.\n",
    "        \n",
    "        Parameters\n",
    "        -----------\n",
    "        self (LinearRegressionGd): A LinearRegressionGD object.\n",
    "        '''\n",
    "        header = 'Iteration | Cost      '\n",
    "        \n",
    "        for i in range(self.__w.shape[0]):\n",
    "            header += f' | w_{i}   '\n",
    "\n",
    "        header += '| b      '\n",
    "\n",
    "        for i in range(self.__w.shape[0]):\n",
    "            header += f' | dj_dw_{i} '\n",
    "\n",
    "        header += ' | dj_db  |'    \n",
    "        print(header)"
   ]
  },
  {
   "cell_type": "markdown",
   "id": "1b426ebb",
   "metadata": {},
   "source": [
    "## Train-Validation-Test Split"
   ]
  },
  {
   "cell_type": "markdown",
   "id": "cdf17184",
   "metadata": {},
   "source": [
    "Let's split our data into a training set, validation set, and test set."
   ]
  },
  {
   "cell_type": "code",
   "execution_count": 4,
   "id": "676e2db4",
   "metadata": {},
   "outputs": [],
   "source": [
    "from sklearn.model_selection import train_test_split"
   ]
  },
  {
   "cell_type": "code",
   "execution_count": 5,
   "id": "4d8617ee",
   "metadata": {},
   "outputs": [],
   "source": [
    "random_state = 7\n",
    "test_size = 0.15\n",
    "X_train, X_test, y_train, y_test = train_test_split(X_data, y_data, test_size=test_size, random_state=random_state)"
   ]
  },
  {
   "cell_type": "code",
   "execution_count": 6,
   "id": "3baa4ca8",
   "metadata": {},
   "outputs": [],
   "source": [
    "val_size = 0.15\n",
    "X_train, X_val, y_train, y_val = train_test_split(X_train, y_train, test_size=val_size, random_state=random_state)"
   ]
  },
  {
   "cell_type": "markdown",
   "id": "b2475b0a",
   "metadata": {},
   "source": [
    "Now that we have our training data, validation data, and test data, let's use our validation data to find the best hyperparameters to train our model with the training data."
   ]
  },
  {
   "cell_type": "code",
   "execution_count": 7,
   "id": "1d14c4fe",
   "metadata": {},
   "outputs": [
    {
     "name": "stdout",
     "output_type": "stream",
     "text": [
      "CPU times: total: 1min 29s\n",
      "Wall time: 3min 26s\n"
     ]
    }
   ],
   "source": [
    "%%time\n",
    "learning_rates = [1.0e-4, 1.0e-3, 1.0e-2, 1.0e-1, 1.0]\n",
    "all_cost_histories = {}\n",
    "all_params = {}\n",
    "lowest_val_cost = float('inf')\n",
    "best_learning_rate = None\n",
    "\n",
    "for learning_rate in learning_rates:\n",
    "    # Create LinearRegressionGD object to use linear regression architecture for our model.\n",
    "    lr = LinearRegressionGD(alpha=learning_rate, max_iters=10000)\n",
    "\n",
    "    # Train architecture for linear regression model.\n",
    "    lr.train(X_train, y_train)\n",
    "    \n",
    "    # Get cost for validation set.\n",
    "    curr_val_cost = lr.compute_cost(X_val, y_val)\n",
    "    \n",
    "    if  curr_val_cost < lowest_val_cost:\n",
    "        lowest_val_cost = curr_val_cost\n",
    "        best_learning_rate = learning_rate\n",
    "    \n",
    "    # Get the parameters from the trained model that used the given learning rate.\n",
    "    all_params[learning_rate] = lr.get_parameters()\n",
    "    \n",
    "    # Tet the cost history when training the model using the given learning rate.\n",
    "    all_cost_histories[learning_rate] = lr.get_cost_history()"
   ]
  },
  {
   "cell_type": "code",
   "execution_count": 8,
   "id": "d010c8ad",
   "metadata": {
    "scrolled": true
   },
   "outputs": [
    {
     "name": "stdout",
     "output_type": "stream",
     "text": [
      "Best learning rate: 0.1\n",
      "Total cost: 1247.498399771716\n"
     ]
    }
   ],
   "source": [
    "print(f'Best learning rate: {best_learning_rate}')\n",
    "print(f'Total cost: {lowest_val_cost}')"
   ]
  },
  {
   "cell_type": "code",
   "execution_count": 9,
   "id": "79d880b5",
   "metadata": {},
   "outputs": [
    {
     "name": "stdout",
     "output_type": "stream",
     "text": [
      "(w,b) found by gradient descent using with learning rate = 0.1: ([  -8.0015293  -215.66974297  511.49071434  302.61074004  -81.9840265\n",
      " -155.67520644 -242.28331882  121.89996325  467.53916015  111.1361218 ],[153.32547323])\n",
      "\n"
     ]
    }
   ],
   "source": [
    " w,b = all_params[best_learning_rate]\n",
    "print(f\"(w,b) found by gradient descent using with learning rate = {best_learning_rate}: ({w},{b})\\n\")"
   ]
  },
  {
   "cell_type": "markdown",
   "id": "df6ad926",
   "metadata": {},
   "source": [
    "Let's now graph the validation set cost history of all the models."
   ]
  },
  {
   "cell_type": "code",
   "execution_count": 10,
   "id": "de178b5a",
   "metadata": {},
   "outputs": [],
   "source": [
    "import matplotlib.pyplot as plt"
   ]
  },
  {
   "cell_type": "code",
   "execution_count": 11,
   "id": "7e2b3eff",
   "metadata": {
    "scrolled": true
   },
   "outputs": [
    {
     "data": {
      "image/png": "[encoded data removed]",
      "text/plain": [
       "<Figure size 864x288 with 2 Axes>"
      ]
     },
     "metadata": {
      "needs_background": "light"
     },
     "output_type": "display_data"
    }
   ],
   "source": [
    "fig, (ax1, ax2) = plt.subplots(1, 2, constrained_layout=True, figsize=(12, 4))\n",
    "\n",
    "for learning_rate in learning_rates:\n",
    "    cost_history = all_cost_histories[learning_rate]\n",
    "    ax1.plot(cost_history, label=learning_rate)\n",
    "    ax2.plot(8000 + np.arange(len(cost_history[8000:])), cost_history[8000:])\n",
    "\n",
    "ax1.legend()\n",
    "plt.show()"
   ]
  },
  {
   "cell_type": "markdown",
   "id": "ab04b558",
   "metadata": {},
   "source": [
    "Remember, this is the cost on the validation set over the time the model was being trained. 0.1 looked to be the lowest cost, along with 1.0. However, training took a long time. Let's now train more optimally using matrix multiplication."
   ]
  },
  {
   "cell_type": "markdown",
   "id": "d47f9f83",
   "metadata": {},
   "source": [
    "## Optimize Training With Matrix Multiplication"
   ]
  },
  {
   "cell_type": "code",
   "execution_count": 12,
   "id": "4f53d446",
   "metadata": {},
   "outputs": [
    {
     "name": "stdout",
     "output_type": "stream",
     "text": [
      "CPU times: total: 1.42 s\n",
      "Wall time: 2.65 s\n"
     ]
    }
   ],
   "source": [
    "%%time\n",
    "learning_rates = [1.0e-4, 1.0e-3, 1.0e-2, 1.0e-1, 1.0]\n",
    "all_cost_histories = {}\n",
    "all_params = {}\n",
    "lowest_val_cost = float('inf')\n",
    "best_learning_rate = None\n",
    "\n",
    "for learning_rate in learning_rates:\n",
    "    lr_opt = LinearRegressionGD(alpha=learning_rate, max_iters=10000)\n",
    "    lr_opt.train_optimized(X_train, y_train)\n",
    "    curr_val_cost = lr_opt.compute_cost_optimized(X_val, y_val)\n",
    "    \n",
    "    if  curr_val_cost < lowest_val_cost:\n",
    "        lowest_val_cost = curr_val_cost\n",
    "        best_learning_rate = learning_rate\n",
    "    \n",
    "    # Get the parameters from the trained model that used the given learning rate.\n",
    "    all_params[learning_rate] = lr_opt.get_parameters()\n",
    "    \n",
    "    # Tet the cost history when training the model using the given learning rate.\n",
    "    all_cost_histories[learning_rate] = lr_opt.get_cost_history()"
   ]
  },
  {
   "cell_type": "markdown",
   "id": "c6d252fa",
   "metadata": {},
   "source": [
    "That was so much faster! Now we have a model. Let's compare this model with "
   ]
  },
  {
   "cell_type": "code",
   "execution_count": 13,
   "id": "8d9c4834",
   "metadata": {},
   "outputs": [
    {
     "name": "stdout",
     "output_type": "stream",
     "text": [
      "Best learning rate: 0.1\n",
      "Total cost: 1247.498399771716\n"
     ]
    }
   ],
   "source": [
    "print(f'Best learning rate: {best_learning_rate}')\n",
    "print(f'Total cost: {lowest_val_cost}')"
   ]
  },
  {
   "cell_type": "code",
   "execution_count": 14,
   "id": "a5751999",
   "metadata": {
    "scrolled": false
   },
   "outputs": [
    {
     "name": "stdout",
     "output_type": "stream",
     "text": [
      "(w,b) found by gradient descent using with learning rate = 0.1: ([  -8.0015293  -215.66974297  511.49071434  302.61074004  -81.9840265\n",
      " -155.67520644 -242.28331882  121.89996325  467.53916015  111.1361218 ],[153.32547323])\n",
      "\n"
     ]
    }
   ],
   "source": [
    " w,b = all_params[best_learning_rate]\n",
    "print(f\"(w,b) found by gradient descent using with learning rate = {best_learning_rate}: ({w},{b})\\n\")"
   ]
  },
  {
   "cell_type": "code",
   "execution_count": 15,
   "id": "0090cc18",
   "metadata": {
    "scrolled": true
   },
   "outputs": [
    {
     "data": {
      "image/png": "[encoded data removed]",
      "text/plain": [
       "<Figure size 864x288 with 2 Axes>"
      ]
     },
     "metadata": {
      "needs_background": "light"
     },
     "output_type": "display_data"
    }
   ],
   "source": [
    "fig, (ax1, ax2) = plt.subplots(1, 2, constrained_layout=True, figsize=(12, 4))\n",
    "\n",
    "for learning_rate in learning_rates:\n",
    "    cost_history = all_cost_histories[learning_rate]\n",
    "    ax1.plot(cost_history, label=learning_rate)\n",
    "    ax2.plot(8000 + np.arange(len(cost_history[8000:])), cost_history[8000:])\n",
    "\n",
    "ax1.legend()\n",
    "plt.show()"
   ]
  },
  {
   "cell_type": "markdown",
   "id": "7a2d7c23",
   "metadata": {},
   "source": [
    "As expected, our results our identical, but using matrix multiplication was so much faster!"
   ]
  },
  {
   "cell_type": "markdown",
   "id": "754a4319",
   "metadata": {},
   "source": [
    "## Using Scikit-learn's SGDRegressor"
   ]
  },
  {
   "cell_type": "markdown",
   "id": "fd55e143",
   "metadata": {},
   "source": [
    "Let's now compare our Gradient Descent Linear Regression model using Sci-kit Learn's SGDRegressor. We will use 0.1 as our learning rate since that was the best we found with our two previous models. Because SGDRegressor uses Stochastic Gradient Descent, where we used regular Gradient Descent, I don't expect results to be identical, but hopefully, they are similar."
   ]
  },
  {
   "cell_type": "code",
   "execution_count": 16,
   "id": "aca43398",
   "metadata": {},
   "outputs": [],
   "source": [
    "from sklearn.linear_model import SGDRegressor\n",
    "from sklearn.preprocessing import StandardScaler"
   ]
  },
  {
   "cell_type": "code",
   "execution_count": 17,
   "id": "b5bc724f",
   "metadata": {},
   "outputs": [
    {
     "data": {
      "text/html": [
       "<style>#sk-container-id-1 {color: black;background-color: white;}#sk-container-id-1 pre{padding: 0;}#sk-container-id-1 div.sk-toggleable {background-color: white;}#sk-container-id-1 label.sk-toggleable__label {cursor: pointer;display: block;width: 100%;margin-bottom: 0;padding: 0.3em;box-sizing: border-box;text-align: center;}#sk-container-id-1 label.sk-toggleable__label-arrow:before {content: \"▸\";float: left;margin-right: 0.25em;color: #696969;}#sk-container-id-1 label.sk-toggleable__label-arrow:hover:before {color: black;}#sk-container-id-1 div.sk-estimator:hover label.sk-toggleable__label-arrow:before {color: black;}#sk-container-id-1 div.sk-toggleable__content {max-height: 0;max-width: 0;overflow: hidden;text-align: left;background-color: #f0f8ff;}#sk-container-id-1 div.sk-toggleable__content pre {margin: 0.2em;color: black;border-radius: 0.25em;background-color: #f0f8ff;}#sk-container-id-1 input.sk-toggleable__control:checked~div.sk-toggleable__content {max-height: 200px;max-width: 100%;overflow: auto;}#sk-container-id-1 input.sk-toggleable__control:checked~label.sk-toggleable__label-arrow:before {content: \"▾\";}#sk-container-id-1 div.sk-estimator input.sk-toggleable__control:checked~label.sk-toggleable__label {background-color: #d4ebff;}#sk-container-id-1 div.sk-label input.sk-toggleable__control:checked~label.sk-toggleable__label {background-color: #d4ebff;}#sk-container-id-1 input.sk-hidden--visually {border: 0;clip: rect(1px 1px 1px 1px);clip: rect(1px, 1px, 1px, 1px);height: 1px;margin: -1px;overflow: hidden;padding: 0;position: absolute;width: 1px;}#sk-container-id-1 div.sk-estimator {font-family: monospace;background-color: #f0f8ff;border: 1px dotted black;border-radius: 0.25em;box-sizing: border-box;margin-bottom: 0.5em;}#sk-container-id-1 div.sk-estimator:hover {background-color: #d4ebff;}#sk-container-id-1 div.sk-parallel-item::after {content: \"\";width: 100%;border-bottom: 1px solid gray;flex-grow: 1;}#sk-container-id-1 div.sk-label:hover label.sk-toggleable__label {background-color: #d4ebff;}#sk-container-id-1 div.sk-serial::before {content: \"\";position: absolute;border-left: 1px solid gray;box-sizing: border-box;top: 0;bottom: 0;left: 50%;z-index: 0;}#sk-container-id-1 div.sk-serial {display: flex;flex-direction: column;align-items: center;background-color: white;padding-right: 0.2em;padding-left: 0.2em;position: relative;}#sk-container-id-1 div.sk-item {position: relative;z-index: 1;}#sk-container-id-1 div.sk-parallel {display: flex;align-items: stretch;justify-content: center;background-color: white;position: relative;}#sk-container-id-1 div.sk-item::before, #sk-container-id-1 div.sk-parallel-item::before {content: \"\";position: absolute;border-left: 1px solid gray;box-sizing: border-box;top: 0;bottom: 0;left: 50%;z-index: -1;}#sk-container-id-1 div.sk-parallel-item {display: flex;flex-direction: column;z-index: 1;position: relative;background-color: white;}#sk-container-id-1 div.sk-parallel-item:first-child::after {align-self: flex-end;width: 50%;}#sk-container-id-1 div.sk-parallel-item:last-child::after {align-self: flex-start;width: 50%;}#sk-container-id-1 div.sk-parallel-item:only-child::after {width: 0;}#sk-container-id-1 div.sk-dashed-wrapped {border: 1px dashed gray;margin: 0 0.4em 0.5em 0.4em;box-sizing: border-box;padding-bottom: 0.4em;background-color: white;}#sk-container-id-1 div.sk-label label {font-family: monospace;font-weight: bold;display: inline-block;line-height: 1.2em;}#sk-container-id-1 div.sk-label-container {text-align: center;}#sk-container-id-1 div.sk-container {/* jupyter's `normalize.less` sets `[hidden] { display: none; }` but bootstrap.min.css set `[hidden] { display: none !important; }` so we also need the `!important` here to be able to override the default hidden behavior on the sphinx rendered scikit-learn.org. See: https://github.com/scikit-learn/scikit-learn/issues/21755 */display: inline-block !important;position: relative;}#sk-container-id-1 div.sk-text-repr-fallback {display: none;}</style><div id=\"sk-container-id-1\" class=\"sk-top-container\"><div class=\"sk-text-repr-fallback\"><pre>SGDRegressor(alpha=0.1, max_iter=10000, penalty=None, random_state=7, tol=1e-06)</pre><b>In a Jupyter environment, please rerun this cell to show the HTML representation or trust the notebook. <br />On GitHub, the HTML representation is unable to render, please try loading this page with nbviewer.org.</b></div><div class=\"sk-container\" hidden><div class=\"sk-item\"><div class=\"sk-estimator sk-toggleable\"><input class=\"sk-toggleable__control sk-hidden--visually\" id=\"sk-estimator-id-1\" type=\"checkbox\" checked><label for=\"sk-estimator-id-1\" class=\"sk-toggleable__label sk-toggleable__label-arrow\">SGDRegressor</label><div class=\"sk-toggleable__content\"><pre>SGDRegressor(alpha=0.1, max_iter=10000, penalty=None, random_state=7, tol=1e-06)</pre></div></div></div></div></div>"
      ],
      "text/plain": [
       "SGDRegressor(alpha=0.1, max_iter=10000, penalty=None, random_state=7, tol=1e-06)"
      ]
     },
     "execution_count": 17,
     "metadata": {},
     "output_type": "execute_result"
    }
   ],
   "source": [
    "sgdr = SGDRegressor(max_iter=10000, random_state=random_state, alpha=0.1, penalty=None, tol=1.0e-6)\n",
    "sgdr.fit(X_train, y_train)"
   ]
  },
  {
   "cell_type": "code",
   "execution_count": 18,
   "id": "8ca6362c",
   "metadata": {},
   "outputs": [
    {
     "name": "stdout",
     "output_type": "stream",
     "text": [
      "(w,b) found by Scikit-learn's SGDRegressor w: [  -5.37951487 -207.81776546  505.07382526  298.97499368  -79.04159625\n",
      " -152.63077018 -240.4796409   123.4500191   459.75787107  114.88934167], b: [153.31277567]\n"
     ]
    }
   ],
   "source": [
    "b_norm = sgdr.intercept_\n",
    "w_norm = sgdr.coef_\n",
    "print(f\"(w,b) found by Scikit-learn's SGDRegressor w: {w_norm}, b: {b_norm}\")"
   ]
  },
  {
   "cell_type": "code",
   "execution_count": 19,
   "id": "da7c0ece",
   "metadata": {},
   "outputs": [],
   "source": [
    "from sklearn.metrics import mean_squared_error"
   ]
  },
  {
   "cell_type": "code",
   "execution_count": 20,
   "id": "7d8025fd",
   "metadata": {},
   "outputs": [
    {
     "name": "stdout",
     "output_type": "stream",
     "text": [
      "Cost on validation set: 1240.5194652345365\n"
     ]
    }
   ],
   "source": [
    "y_val_pred = sgdr.predict(X_val)\n",
    "# Calculate the mean squared error of the predictions\n",
    "mse = mean_squared_error(y_val, y_val_pred)\n",
    "print(\"Cost on validation set:\", mse/2)"
   ]
  },
  {
   "cell_type": "markdown",
   "id": "2b28494e",
   "metadata": {},
   "source": [
    "As expected, the parameters and the validation cost are similar."
   ]
  },
  {
   "cell_type": "markdown",
   "id": "3b1f10a4",
   "metadata": {},
   "source": [
    "## Compare Test Data"
   ]
  },
  {
   "cell_type": "markdown",
   "id": "42bddb40",
   "metadata": {},
   "source": [
    "Let's now compare the mean squared error of the test set using the three models."
   ]
  },
  {
   "cell_type": "code",
   "execution_count": 21,
   "id": "34829575",
   "metadata": {},
   "outputs": [],
   "source": [
    "# MSE of first model.\n",
    "mse = lr.compute_mse(X_test, y_test)[0]\n",
    "# MSE of optimized model.\n",
    "mse_opt = lr.compute_mse_optimized(X_test, y_test)\n",
    "\n",
    "# MSE of Sci-kit learn's SGDRegressor.\n",
    "y_test_pred = sgdr.predict(X_test)\n",
    "mse_sgdr = mean_squared_error(y_test, y_test_pred)"
   ]
  },
  {
   "cell_type": "code",
   "execution_count": 22,
   "id": "6df784a5",
   "metadata": {},
   "outputs": [
    {
     "name": "stdout",
     "output_type": "stream",
     "text": [
      "Mean squared error of Linear Regression model on test data: 3226.24176565966\n",
      "Mean squared error of optimal Linear Regression model on test data: 3226.2417656596604\n",
      "Mean squared error of Sci-kit Learn's SGD Regressor on test data: 3113.6206390310494\n"
     ]
    }
   ],
   "source": [
    "print(f'Mean squared error of Linear Regression model on test data: {mse}')\n",
    "print(f'Mean squared error of optimal Linear Regression model on test data: {mse_opt}')\n",
    "print(f\"Mean squared error of Sci-kit Learn's SGD Regressor on test data: {mse_sgdr}\")"
   ]
  },
  {
   "cell_type": "markdown",
   "id": "17a4f6ca",
   "metadata": {},
   "source": [
    "The first two MSE's are the same, as expected. Scikit-learn's SGDRegressor has a similar, but better, MSE."
   ]
  },
  {
   "cell_type": "markdown",
   "id": "c4dedffa",
   "metadata": {},
   "source": [
    "## Conclusion"
   ]
  },
  {
   "cell_type": "markdown",
   "id": "de7de7c5",
   "metadata": {},
   "source": [
    "In this notebook we have built a class that implements a linear regression architecture and build a linear regression model using gradient descent. The first model took a long time. So we optimized by using a model that uses Numpy's matrix multiplication which greatly increased the speed. We seen and expected that the model's results are the same. We then compared the model's results (weights and cost) with Scikit-learn's SGDRegressor. The weights and costs were similar with the SGDRegressor. We then used all 3 models to make predictions on the test data and compared their MSE's. We seen that all the results were similar."
   ]
  }
 ],
 "metadata": {
  "kernelspec": {
   "display_name": "Python 3 (ipykernel)",
   "language": "python",
   "name": "python3"
  },
  "language_info": {
   "codemirror_mode": {
    "name": "ipython",
    "version": 3
   },
   "file_extension": ".py",
   "mimetype": "text/x-python",
   "name": "python",
   "nbconvert_exporter": "python",
   "pygments_lexer": "ipython3",
   "version": "3.10.4"
  }
 },
 "nbformat": 4,
 "nbformat_minor": 5
}
