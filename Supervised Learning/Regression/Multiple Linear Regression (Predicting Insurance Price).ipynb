{
 "cells": [
  {
   "cell_type": "markdown",
   "id": "ffbafb34",
   "metadata": {},
   "source": [
    "# Multiple Linear Regression"
   ]
  },
  {
   "cell_type": "markdown",
   "id": "db7d4e6f",
   "metadata": {},
   "source": [
    "## Predicting Insurance Cost"
   ]
  },
  {
   "cell_type": "markdown",
   "id": "4bb522b7",
   "metadata": {},
   "source": [
    "Notebook by Anthony Rodriguez"
   ]
  },
  {
   "cell_type": "code",
   "execution_count": 1,
   "id": "5935d079",
   "metadata": {},
   "outputs": [],
   "source": [
    "import os, math\n",
    "import numpy as np\n",
    "import pandas as pd\n",
    "import matplotlib.pyplot as plt\n",
    "\n",
    "from utils_common import *"
   ]
  },
  {
   "cell_type": "markdown",
   "id": "16f6932d",
   "metadata": {},
   "source": [
    "# Introduction"
   ]
  },
  {
   "cell_type": "markdown",
   "id": "7d4f7d5d",
   "metadata": {},
   "source": [
    "This notebook displays exploratory data analysis (EDA) and multiple linear regression on a [kaggle dataset for predicting medical/insurance cost with multiple linear regression](https://www.kaggle.com/datasets/mirichoi0218/insurance). This data set is just going to be used to practice using basic EDA, simple data-cleaning, and linear regression with multiple variables."
   ]
  },
  {
   "cell_type": "markdown",
   "id": "0a5a6e47",
   "metadata": {},
   "source": [
    "# Exploratory Data Analysis (EDA)"
   ]
  },
  {
   "cell_type": "code",
   "execution_count": 2,
   "id": "8f8c5e47",
   "metadata": {},
   "outputs": [],
   "source": [
    "filename = \"insurance.csv\""
   ]
  },
  {
   "cell_type": "code",
   "execution_count": 3,
   "id": "7002bd1e",
   "metadata": {},
   "outputs": [
    {
     "data": {
      "text/plain": [
       "WindowsPath('data/insurance.csv')"
      ]
     },
     "execution_count": 3,
     "metadata": {},
     "output_type": "execute_result"
    }
   ],
   "source": [
    "data_file = fetch_file(filename)\n",
    "data_file"
   ]
  },
  {
   "cell_type": "markdown",
   "id": "8f39cdba",
   "metadata": {},
   "source": [
    "Let's look at the size of the file."
   ]
  },
  {
   "cell_type": "code",
   "execution_count": 4,
   "id": "b96ab4b1",
   "metadata": {},
   "outputs": [
    {
     "name": "stdout",
     "output_type": "stream",
     "text": [
      "training_set_file is 0.055628 MB\n"
     ]
    }
   ],
   "source": [
    "print(f'training_set_file is {os.path.getsize(data_file) / 1e6} MB')"
   ]
  },
  {
   "cell_type": "markdown",
   "id": "7b0c9ac4",
   "metadata": {},
   "source": [
    "Let's look at the number of lines in the data."
   ]
  },
  {
   "cell_type": "code",
   "execution_count": 5,
   "id": "6d3dc6e2",
   "metadata": {
    "scrolled": true
   },
   "outputs": [
    {
     "name": "stdout",
     "output_type": "stream",
     "text": [
      "The training set file has 1339 lines of data.\n"
     ]
    }
   ],
   "source": [
    "num_lines = num_lines_in_file(data_file)\n",
    "print(f'The training set file has {num_lines} lines of data.')"
   ]
  },
  {
   "cell_type": "markdown",
   "id": "70d9c366",
   "metadata": {},
   "source": [
    "Let's check the contents of the file to make sure it is a csv file."
   ]
  },
  {
   "cell_type": "code",
   "execution_count": 6,
   "id": "bb70ad6c",
   "metadata": {
    "scrolled": true
   },
   "outputs": [
    {
     "name": "stdout",
     "output_type": "stream",
     "text": [
      "data\\insurance.csv ===========================\n",
      "0\t'age,sex,bmi,children,smoker,region,charges\\n'\n",
      "1\t'19,female,27.9,0,yes,southwest,16884.924\\n'\n",
      "2\t'18,male,33.77,1,no,southeast,1725.5523\\n'\n",
      "3\t'28,male,33,3,no,southeast,4449.462\\n'\n",
      "4\t'33,male,22.705,0,no,northwest,21984.47061\\n'\n",
      "5\t'32,male,28.88,0,no,northwest,3866.8552\\n'\n",
      "6\t'31,female,25.74,0,no,southeast,3756.6216\\n'\n",
      "7\t'46,female,33.44,1,no,southeast,8240.5896\\n'\n",
      "8\t'37,female,27.74,3,no,northwest,7281.5056\\n'\n",
      "9\t'37,male,29.83,2,no,northeast,6406.4107\\n'\n",
      "10\t'60,female,25.84,0,no,northwest,28923.13692\\n'\n",
      "11\t'25,male,26.22,0,no,northeast,2721.3208\\n'\n",
      "12\t'62,female,26.29,0,yes,southeast,27808.7251\\n'\n",
      "13\t'23,male,34.4,0,no,southwest,1826.843\\n'\n",
      "14\t'56,female,39.82,0,no,southeast,11090.7178\\n'\n",
      "15\t'27,male,42.13,0,yes,southeast,39611.7577\\n'\n",
      "16\t'19,male,24.6,1,no,southwest,1837.237\\n'\n",
      "17\t'52,female,30.78,1,no,northeast,10797.3362\\n'\n",
      "18\t'23,male,23.845,0,no,northeast,2395.17155\\n'\n",
      "19\t'56,male,40.3,0,no,southwest,10602.385\\n'\n"
     ]
    }
   ],
   "source": [
    "print_file_contents(data_file)"
   ]
  },
  {
   "cell_type": "markdown",
   "id": "36a8de2e",
   "metadata": {},
   "source": [
    "File looks like a standard csv file with multiple columns consisting of real numbers and strings.\n",
    "\n",
    "Let's create a data frame."
   ]
  },
  {
   "cell_type": "code",
   "execution_count": 7,
   "id": "fb983df1",
   "metadata": {},
   "outputs": [
    {
     "data": {
      "text/html": [
       "<div>\n",
       "<style scoped>\n",
       "    .dataframe tbody tr th:only-of-type {\n",
       "        vertical-align: middle;\n",
       "    }\n",
       "\n",
       "    .dataframe tbody tr th {\n",
       "        vertical-align: top;\n",
       "    }\n",
       "\n",
       "    .dataframe thead th {\n",
       "        text-align: right;\n",
       "    }\n",
       "</style>\n",
       "<table border=\"1\" class=\"dataframe\">\n",
       "  <thead>\n",
       "    <tr style=\"text-align: right;\">\n",
       "      <th></th>\n",
       "      <th>age</th>\n",
       "      <th>sex</th>\n",
       "      <th>bmi</th>\n",
       "      <th>children</th>\n",
       "      <th>smoker</th>\n",
       "      <th>region</th>\n",
       "      <th>charges</th>\n",
       "    </tr>\n",
       "  </thead>\n",
       "  <tbody>\n",
       "    <tr>\n",
       "      <th>0</th>\n",
       "      <td>19</td>\n",
       "      <td>female</td>\n",
       "      <td>27.900</td>\n",
       "      <td>0</td>\n",
       "      <td>yes</td>\n",
       "      <td>southwest</td>\n",
       "      <td>16884.92400</td>\n",
       "    </tr>\n",
       "    <tr>\n",
       "      <th>1</th>\n",
       "      <td>18</td>\n",
       "      <td>male</td>\n",
       "      <td>33.770</td>\n",
       "      <td>1</td>\n",
       "      <td>no</td>\n",
       "      <td>southeast</td>\n",
       "      <td>1725.55230</td>\n",
       "    </tr>\n",
       "    <tr>\n",
       "      <th>2</th>\n",
       "      <td>28</td>\n",
       "      <td>male</td>\n",
       "      <td>33.000</td>\n",
       "      <td>3</td>\n",
       "      <td>no</td>\n",
       "      <td>southeast</td>\n",
       "      <td>4449.46200</td>\n",
       "    </tr>\n",
       "    <tr>\n",
       "      <th>3</th>\n",
       "      <td>33</td>\n",
       "      <td>male</td>\n",
       "      <td>22.705</td>\n",
       "      <td>0</td>\n",
       "      <td>no</td>\n",
       "      <td>northwest</td>\n",
       "      <td>21984.47061</td>\n",
       "    </tr>\n",
       "    <tr>\n",
       "      <th>4</th>\n",
       "      <td>32</td>\n",
       "      <td>male</td>\n",
       "      <td>28.880</td>\n",
       "      <td>0</td>\n",
       "      <td>no</td>\n",
       "      <td>northwest</td>\n",
       "      <td>3866.85520</td>\n",
       "    </tr>\n",
       "  </tbody>\n",
       "</table>\n",
       "</div>"
      ],
      "text/plain": [
       "   age     sex     bmi  children smoker     region      charges\n",
       "0   19  female  27.900         0    yes  southwest  16884.92400\n",
       "1   18    male  33.770         1     no  southeast   1725.55230\n",
       "2   28    male  33.000         3     no  southeast   4449.46200\n",
       "3   33    male  22.705         0     no  northwest  21984.47061\n",
       "4   32    male  28.880         0     no  northwest   3866.85520"
      ]
     },
     "execution_count": 7,
     "metadata": {},
     "output_type": "execute_result"
    }
   ],
   "source": [
    "df = pd.read_csv(data_file)\n",
    "df.head()"
   ]
  },
  {
   "cell_type": "markdown",
   "id": "3d58ee4b",
   "metadata": {},
   "source": [
    "Let's be sure of the types within the data frame."
   ]
  },
  {
   "cell_type": "code",
   "execution_count": 8,
   "id": "9bbde246",
   "metadata": {
    "scrolled": false
   },
   "outputs": [
    {
     "data": {
      "text/plain": [
       "age           int64\n",
       "sex          object\n",
       "bmi         float64\n",
       "children      int64\n",
       "smoker       object\n",
       "region       object\n",
       "charges     float64\n",
       "dtype: object"
      ]
     },
     "execution_count": 8,
     "metadata": {},
     "output_type": "execute_result"
    }
   ],
   "source": [
    "df.dtypes"
   ]
  },
  {
   "cell_type": "markdown",
   "id": "9be6bb3d",
   "metadata": {},
   "source": [
    "Let's see unique values of the categorical data."
   ]
  },
  {
   "cell_type": "code",
   "execution_count": 9,
   "id": "dedcb3ee",
   "metadata": {
    "scrolled": true
   },
   "outputs": [
    {
     "data": {
      "text/plain": [
       "array(['female', 'male'], dtype=object)"
      ]
     },
     "execution_count": 9,
     "metadata": {},
     "output_type": "execute_result"
    }
   ],
   "source": [
    "df['sex'].unique()"
   ]
  },
  {
   "cell_type": "code",
   "execution_count": 10,
   "id": "169ee6fe",
   "metadata": {
    "scrolled": true
   },
   "outputs": [
    {
     "data": {
      "text/plain": [
       "array(['southwest', 'southeast', 'northwest', 'northeast'], dtype=object)"
      ]
     },
     "execution_count": 10,
     "metadata": {},
     "output_type": "execute_result"
    }
   ],
   "source": [
    "df['region'].unique()"
   ]
  },
  {
   "cell_type": "code",
   "execution_count": 11,
   "id": "91dbeac0",
   "metadata": {
    "scrolled": true
   },
   "outputs": [
    {
     "data": {
      "text/plain": [
       "array(['yes', 'no'], dtype=object)"
      ]
     },
     "execution_count": 11,
     "metadata": {},
     "output_type": "execute_result"
    }
   ],
   "source": [
    "df['smoker'].unique()"
   ]
  },
  {
   "cell_type": "code",
   "execution_count": 12,
   "id": "bec5f45d",
   "metadata": {},
   "outputs": [
    {
     "name": "stdout",
     "output_type": "stream",
     "text": [
      "Any null values in numerical features?\n"
     ]
    },
    {
     "data": {
      "text/plain": [
       "age         False\n",
       "bmi         False\n",
       "children    False\n",
       "dtype: bool"
      ]
     },
     "execution_count": 12,
     "metadata": {},
     "output_type": "execute_result"
    }
   ],
   "source": [
    "print('Any null values in numerical features?')\n",
    "df[['age', 'bmi', 'children']].isnull().any()"
   ]
  },
  {
   "cell_type": "markdown",
   "id": "0d798be1",
   "metadata": {},
   "source": [
    "Let's see the ranges of the numerical data."
   ]
  },
  {
   "cell_type": "code",
   "execution_count": 13,
   "id": "6cb47329",
   "metadata": {
    "scrolled": false
   },
   "outputs": [
    {
     "name": "stdout",
     "output_type": "stream",
     "text": [
      "Minimums:\n",
      "\n",
      "age         18.00\n",
      "bmi         15.96\n",
      "children     0.00\n",
      "dtype: float64\n",
      "\n",
      "\n",
      "Maximums:\n",
      "\n",
      "age         64.00\n",
      "bmi         53.13\n",
      "children     5.00\n",
      "dtype: float64\n",
      "\n",
      "\n",
      "Peak to Peak values: [46.   37.17  5.  ]\n"
     ]
    }
   ],
   "source": [
    "print(f\"Minimums:\\n\\n{df[['age', 'bmi', 'children']].min()}\\n\\n\")\n",
    "print(f\"Maximums:\\n\\n{df[['age', 'bmi', 'children']].max()}\\n\\n\")\n",
    "print(f\"Peak to Peak values: {np.ptp(df[['age', 'bmi', 'children']].to_numpy(), axis=0)}\")"
   ]
  },
  {
   "cell_type": "markdown",
   "id": "a9ccc72b",
   "metadata": {},
   "source": [
    "Let's see how the numerical data compares to the charge of insurance of cost."
   ]
  },
  {
   "cell_type": "code",
   "execution_count": 14,
   "id": "791e8d5f",
   "metadata": {
    "scrolled": true
   },
   "outputs": [
    {
     "data": {
      "image/png": "[encoded data removed]",
      "text/plain": [
       "<Figure size 864x216 with 3 Axes>"
      ]
     },
     "metadata": {
      "needs_background": "light"
     },
     "output_type": "display_data"
    }
   ],
   "source": [
    "X_train = df[['age', 'bmi', 'children']].to_numpy()\n",
    "X_features = ['age', 'bmi', 'children']\n",
    "y_train = df[['charges']].to_numpy()\n",
    "\n",
    "fig,ax=plt.subplots(1, 3, figsize=(12, 3), sharey=True)\n",
    "for i in range(len(ax)):\n",
    "    ax[i].scatter(X_train[:,i],y_train)\n",
    "    ax[i].set_xlabel(X_features[i])\n",
    "ax[0].set_ylabel(\"charges\")\n",
    "plt.show()"
   ]
  },
  {
   "cell_type": "markdown",
   "id": "77e2751d",
   "metadata": {},
   "source": [
    "As age gets higher, charges get highter. Likewise it seems bmi does trend upward with age, although not as much as age trends upward. Children is kind of hard to figure out. From 0-3 children, there does not seem to be a difference, making you believe that the number of children do not matter in insurance cost. But 4 and 5 children have a dramatic drop in insurance cost."
   ]
  },
  {
   "cell_type": "markdown",
   "id": "2febf454",
   "metadata": {},
   "source": [
    "# Training a Multiple Linear Regression Model Using Numerical Data"
   ]
  },
  {
   "cell_type": "markdown",
   "id": "1023bf95",
   "metadata": {},
   "source": [
    "For now, let's just train a model using numerical data. That is, the features of age, bmi, and children. Later, we will add categorical data for a better model."
   ]
  },
  {
   "cell_type": "code",
   "execution_count": 30,
   "id": "81f5f058",
   "metadata": {},
   "outputs": [
    {
     "data": {
      "text/html": [
       "<div>\n",
       "<style scoped>\n",
       "    .dataframe tbody tr th:only-of-type {\n",
       "        vertical-align: middle;\n",
       "    }\n",
       "\n",
       "    .dataframe tbody tr th {\n",
       "        vertical-align: top;\n",
       "    }\n",
       "\n",
       "    .dataframe thead th {\n",
       "        text-align: right;\n",
       "    }\n",
       "</style>\n",
       "<table border=\"1\" class=\"dataframe\">\n",
       "  <thead>\n",
       "    <tr style=\"text-align: right;\">\n",
       "      <th></th>\n",
       "      <th>age</th>\n",
       "      <th>bmi</th>\n",
       "      <th>children</th>\n",
       "    </tr>\n",
       "  </thead>\n",
       "  <tbody>\n",
       "    <tr>\n",
       "      <th>0</th>\n",
       "      <td>19</td>\n",
       "      <td>27.900</td>\n",
       "      <td>0</td>\n",
       "    </tr>\n",
       "    <tr>\n",
       "      <th>1</th>\n",
       "      <td>18</td>\n",
       "      <td>33.770</td>\n",
       "      <td>1</td>\n",
       "    </tr>\n",
       "    <tr>\n",
       "      <th>2</th>\n",
       "      <td>28</td>\n",
       "      <td>33.000</td>\n",
       "      <td>3</td>\n",
       "    </tr>\n",
       "    <tr>\n",
       "      <th>3</th>\n",
       "      <td>33</td>\n",
       "      <td>22.705</td>\n",
       "      <td>0</td>\n",
       "    </tr>\n",
       "    <tr>\n",
       "      <th>4</th>\n",
       "      <td>32</td>\n",
       "      <td>28.880</td>\n",
       "      <td>0</td>\n",
       "    </tr>\n",
       "  </tbody>\n",
       "</table>\n",
       "</div>"
      ],
      "text/plain": [
       "   age     bmi  children\n",
       "0   19  27.900         0\n",
       "1   18  33.770         1\n",
       "2   28  33.000         3\n",
       "3   33  22.705         0\n",
       "4   32  28.880         0"
      ]
     },
     "execution_count": 30,
     "metadata": {},
     "output_type": "execute_result"
    }
   ],
   "source": [
    "X_train = df[['age', 'bmi', 'children']]\n",
    "y_train = df[['charges']]\n",
    "X_train.head()"
   ]
  },
  {
   "cell_type": "markdown",
   "id": "3c15c84e",
   "metadata": {},
   "source": [
    "# Training a Univariate Linear Regression Model"
   ]
  },
  {
   "cell_type": "markdown",
   "id": "6da10ec4",
   "metadata": {},
   "source": [
    "#### This data will allow us to use a mulitple linear function $f$ of a vector $\\mathbf{x}$, containing multiple variables. That is, $f_{\\mathbf{w},b}(\\mathbf{x}) = \\mathbf{w} \\cdot \\mathbf{x} + b$. \n",
    "\n",
    "$\\mathbf{w}$, a vector, and $b$, a scalar, are parameters we must find.\n",
    "\n",
    "#### We can do this by minimizing the cost $J(\\mathbf{w},b) = \\frac{1}{2m}\\sum\\limits^{m-1}_{i=0}(f_{w,b}(\\mathbf{x}^{(i)}) - y^{(i)})^{2}$\n",
    "#### where $f_{\\mathbf{w},b}(\\mathbf{x}) = \\mathbf{w} \\cdot \\mathbf{x}^{(i)} + b$ is the estimated cost of training example $\\mathbf{x}^{(i)}$.\n",
    "\n",
    "#### $y^{(i)}$ is the true cost of training example $\\mathbf{x}^{(i)}$.\n",
    "\n",
    "#### In order to find $\\mathbf{w}$ and $b$ by minimizing the cost $J(\\mathbf{w},b)$, we must use it's gradient\n",
    "\n",
    "$$\n",
    "\\begin{align}\n",
    "\\frac{\\partial J(\\mathbf{w},b)}{\\partial \\mathbf{w}}  &= \\frac{1}{2m} \\sum\\limits_{i = 0}^{m-1} (f_{\\mathbf{w},b}(\\mathbf{x}^{(i)}) - y^{(i)})\\mathbf{x}^{(i)} \\newline\n",
    "  \\frac{\\partial J(\\mathbf{w},b)}{\\partial b}  &= \\frac{1}{2m} \\sum\\limits_{i = 0}^{m-1} (f_{\\mathbf{w},b}(\\mathbf{x}^{(i)}) - y^{(i)})\n",
    "\\end{align}\n",
    "$$\n",
    "\n",
    "#### We then repeat until convergence\n",
    "\n",
    "$$\\begin{align*} \\newline\n",
    "\\;  \\mathbf{w} &= \\mathbf{w} -  \\alpha \\frac{\\partial J(\\mathbf{w},b)}{\\partial \\mathbf{w}} \\newline \n",
    " b &= b -  \\alpha \\frac{\\partial J(\\mathbf{w},b)}{\\partial b}  \\newline\n",
    "\\end{align*}$$\n",
    "\n",
    "#### where, parameters $\\mathbf{w}$, $b$ are updated simultaneously."
   ]
  },
  {
   "cell_type": "code",
   "execution_count": 31,
   "id": "7e545d18",
   "metadata": {},
   "outputs": [],
   "source": [
    "def compute_loss(x, y, w, b, i):\n",
    "    \"\"\"\n",
    "    Creates a linear model using parameters w and b to\n",
    "    compute a predicted value with the ith training example\n",
    "    and then computes the loss of the predicted value.\n",
    "    \n",
    "    x: The training examples.\n",
    "    y: The target/actual value.\n",
    "    w: The weight of the feature/training example x.\n",
    "    b: A model parameter.\n",
    "    i: The index of the training example.\n",
    "    \n",
    "    returns: The loss/error of the model prediction of the ith training example.\n",
    "    \"\"\"\n",
    "    f_xi = np.dot(w , x[i]) + b\n",
    "    return f_xi - y[i]"
   ]
  },
  {
   "cell_type": "code",
   "execution_count": 32,
   "id": "b0bc1a25",
   "metadata": {},
   "outputs": [],
   "source": [
    "def compute_mse(x, y, w, b):\n",
    "    \"\"\"\n",
    "    Computes the mean-squared error of the model.\n",
    "    \n",
    "    x: The training examples.\n",
    "    y: The target/actual value.\n",
    "    w: The weight of the feature/training example x.\n",
    "    b: A model parameter.\n",
    "    \n",
    "    returns: The mean-squared error.\n",
    "    \"\"\"\n",
    "    m = x.shape[0]\n",
    "    i = 0\n",
    "    total_loss = 0\n",
    "    \n",
    "    while i < m:\n",
    "        loss_i = compute_loss(x, y, w, b, i)\n",
    "        total_loss = total_loss + (loss_i**2)\n",
    "        i += 1\n",
    "    \n",
    "    return total_loss / m"
   ]
  },
  {
   "cell_type": "code",
   "execution_count": 33,
   "id": "33db2c04",
   "metadata": {},
   "outputs": [],
   "source": [
    "def compute_cost(x, y, w, b):\n",
    "    \"\"\"\n",
    "    The model cost.\n",
    "    \n",
    "    x: The training examples.\n",
    "    y: The target values.\n",
    "    w: The weight of the features/training examples x.\n",
    "    b: A model parameter.\n",
    "    \n",
    "    returns: The cost of the model.\n",
    "    \"\"\"\n",
    "    return compute_mse(x, y, w, b) / 2"
   ]
  },
  {
   "cell_type": "code",
   "execution_count": 34,
   "id": "a7467315",
   "metadata": {},
   "outputs": [],
   "source": [
    "def compute_gradient(x, y, w, b):\n",
    "    \"\"\"\n",
    "    Computes the gradient for linear regression.\n",
    "    \n",
    "    x: The training examples.\n",
    "    y: The target values.\n",
    "    w: The weight of the features/training examples x.\n",
    "    b: A model parameter.\n",
    "    \n",
    "    returns: The gradient w.r.t. w and the gradient w.r.t. b\n",
    "    \"\"\"\n",
    "    m = x.shape[0]\n",
    "    i = 0\n",
    "    loss = 0\n",
    "    dj_dw = 0\n",
    "    dj_db = 0\n",
    "    \n",
    "    while i < m:\n",
    "        loss = compute_loss(x, y, w, b, i)\n",
    "        dj_dw_i = loss * x[i]\n",
    "        dj_db_i = loss\n",
    "        dj_dw += dj_dw_i\n",
    "        dj_db += dj_db_i\n",
    "        i += 1\n",
    "        \n",
    "    dj_dw, dj_db = dj_dw  / m, dj_db / m\n",
    "    return dj_dw, dj_db"
   ]
  },
  {
   "cell_type": "code",
   "execution_count": 58,
   "id": "13a08804",
   "metadata": {},
   "outputs": [],
   "source": [
    "class Gradient_Descent:\n",
    "    \"\"\"\n",
    "    A class for the gradient descent algorithm.\n",
    "    \"\"\"\n",
    "    def __init__(self, cost_function, gradient_function, alpha, max_iters):\n",
    "        \"\"\"\n",
    "        Creates an Gradient_Descent object.\n",
    "        \n",
    "        self: A Gradient_Descent object.\n",
    "        cost_function: A function that computes the model cost.\n",
    "        gradient_function: A function that computes the gradient.\n",
    "        alpha (float): The learning rate.\n",
    "        max_iters (int): The maximum number of iterations of the gradient descent algorithm.\n",
    "        \"\"\"\n",
    "        self.cost_function = cost_function\n",
    "        self.gradient_function = gradient_function\n",
    "        self.alpha = alpha\n",
    "        self.max_iters = max_iters\n",
    "        \n",
    "    def algorithm(self, X_train, y_train, w_in, b):\n",
    "        '''\n",
    "        Much of this gradient descent code is from Andrew Ng's Machine Learning course.\n",
    "        \n",
    "        The gradient descent algorithm.\n",
    "        \n",
    "        self: A Gradient_Descent object.\n",
    "        X_train (ndarray (m,n)): The training examples.\n",
    "        y_train (ndarray (m,)) : The targets.\n",
    "        w_in ndarray (n,)): The parameter/weight of the training examples.\n",
    "        b (scalar): A model parameter.\n",
    "        '''\n",
    "        \n",
    "        w = np.copy(w_in)\n",
    "        \n",
    "        # An array to store cost J and w's at each iteration primarily for graphing later\n",
    "        J_history = []\n",
    "        p_history = []\n",
    "        \n",
    "        header = 'Iteration | Cost      '\n",
    "        \n",
    "        for i in range(w.shape[0]):\n",
    "            header += f' | w_{i}   '\n",
    "            \n",
    "        header += '| b      '\n",
    "            \n",
    "        for i in range(w.shape[0]):\n",
    "            header += f' | dj_dw_{i} '\n",
    "            \n",
    "        header += ' | dj_db  |'    \n",
    "        print(header)\n",
    "\n",
    "        for i in range(self.max_iters):\n",
    "            # Calculate the gradient and update the parameters using gradient_function\n",
    "            dj_dw, dj_db = self.gradient_function(X_train, y_train, w , b)\n",
    "            \n",
    "            # Record old parameters\n",
    "            last_b, last_w = b, w\n",
    "\n",
    "            # Update Parameters\n",
    "            b = b - alpha * dj_db                            \n",
    "            w = w - alpha * dj_dw\n",
    "            \n",
    "            # Check if new parameters are equal to the last iterations parameters\n",
    "            if self.are_equal(b, last_b) and self.arrays_are_equal(w, last_w):\n",
    "                print('Convergence')\n",
    "                info = f'{i}\\t    {J_history[-1][0]:.2}\\t'\n",
    "                \n",
    "                for w_i in w:\n",
    "                    info += f'{w_i:.1e}  '\n",
    "                    \n",
    "                info += f'{b[0]:.1e}  '\n",
    "                    \n",
    "                for dj_dw_i in dj_dw:\n",
    "                    info += f' {dj_dw_i:.1e}  '\n",
    "                \n",
    "                info += f'{dj_db[0]:.1e}'\n",
    "                print(info)\n",
    "                \n",
    "                break\n",
    "                \n",
    "            # Save cost J at each iteration\n",
    "            if i<100000:      # prevent resource exhaustion \n",
    "                J_history.append(self.cost_function(X_train, y_train, w , b))\n",
    "                p_history.append([w,b])\n",
    "            # Print cost every at intervals 10 times or as many iterations if max iters < 10\n",
    "            if i% math.ceil(self.max_iters/10) == 0:\n",
    "                info = f'{i}\\t    {J_history[-1][0]:.2}\\t'\n",
    "                \n",
    "                for w_i in w:\n",
    "                    info += f'{w_i:.1e}  '\n",
    "                    \n",
    "                info += f'{b[0]:.1e}  '\n",
    "                    \n",
    "                for dj_dw_i in dj_dw:\n",
    "                    info += f' {dj_dw_i:.1e}  '\n",
    "                \n",
    "                info += f'{dj_db[0]:.1e}'\n",
    "                print(info)\n",
    "                #print(f'Iteration {i:4}: Cost {J_history[-1]}',\n",
    "                #     f'dj_dw: {dj_dw}, dj_db: {dj_db}')\n",
    "                #print(f\"w: {w}, b:{b}\")\n",
    "\n",
    "        return w, b, J_history, p_history #return w and J,w history for graphing\n",
    "    \n",
    "    def are_equal(self, old_val, new_val, epsilon = 1.0e-6):\n",
    "        return abs(old_val - new_val) < epsilon\n",
    "    \n",
    "    def arrays_are_equal(self, old_arr, new_arr):\n",
    "        epsilon = 1.0e-6\n",
    "        are_equal = abs(old_arr - new_arr) < epsilon\n",
    "        return are_equal.all()\n",
    "        "
   ]
  },
  {
   "cell_type": "code",
   "execution_count": 59,
   "id": "7bfffe59",
   "metadata": {
    "scrolled": true
   },
   "outputs": [
    {
     "name": "stdout",
     "output_type": "stream",
     "text": [
      "Iteration | Cost       | w_0    | w_1    | w_2   | b       | dj_dw_0  | dj_dw_1  | dj_dw_2  | dj_db  |\n",
      "0\t    1.2e+08\t5.7e+01  4.2e+01  1.6e+00  1.3e+00   -5.7e+05   -4.2e+05   -1.6e+04  -1.3e+04\n",
      "1000\t    6.5e+07\t2.1e+02  1.7e+02  6.1e+01  -1.5e+01   3.2e+00   7.2e+00   -5.1e+02  2.1e+02\n",
      "2000\t    6.5e+07\t2.1e+02  1.7e+02  1.1e+02  -3.6e+01   2.5e+00   5.6e+00   -4.4e+02  2.1e+02\n",
      "3000\t    6.5e+07\t2.1e+02  1.7e+02  1.5e+02  -5.7e+01   2.0e+00   4.2e+00   -3.8e+02  2.1e+02\n",
      "4000\t    6.5e+07\t2.1e+02  1.7e+02  1.9e+02  -7.7e+01   1.6e+00   2.9e+00   -3.3e+02  2.1e+02\n",
      "5000\t    6.5e+07\t2.1e+02  1.7e+02  2.2e+02  -9.8e+01   1.2e+00   1.8e+00   -2.9e+02  2.1e+02\n",
      "6000\t    6.5e+07\t2.1e+02  1.7e+02  2.4e+02  -1.2e+02   9.3e-01   8.4e-01   -2.5e+02  2.1e+02\n",
      "7000\t    6.5e+07\t2.1e+02  1.7e+02  2.7e+02  -1.4e+02   6.6e-01   2.9e-02   -2.1e+02  2.1e+02\n",
      "8000\t    6.5e+07\t2.1e+02  1.7e+02  2.9e+02  -1.6e+02   4.3e-01   -6.7e-01   -1.8e+02  2.1e+02\n",
      "9000\t    6.5e+07\t2.1e+02  1.7e+02  3.0e+02  -1.8e+02   2.3e-01   -1.3e+00   -1.6e+02  2.1e+02\n",
      "(w,b) found by gradient descent: ([207.29945922 169.72513664 317.65209459],[-201.96262227])\n",
      "\n",
      "CPU times: total: 2min 36s\n",
      "Wall time: 2min 38s\n"
     ]
    }
   ],
   "source": [
    "%%time\n",
    "# Gradient descent settings\n",
    "w_init = np.zeros_like(X_train.to_numpy()[0])\n",
    "iterations = 10000\n",
    "alpha = 1.0e-4\n",
    "gradient_descent = Gradient_Descent(compute_cost, compute_gradient, alpha, iterations)\n",
    "# run gradient descent\n",
    "w_final, b_final, J_hist, p_hist = gradient_descent.algorithm(X_train.to_numpy(), y_train.to_numpy(), w_init, 0)\n",
    "print(f\"(w,b) found by gradient descent: ({w_final},{b_final})\\n\")"
   ]
  },
  {
   "cell_type": "markdown",
   "id": "699bdf6a",
   "metadata": {},
   "source": [
    "#### That took a long time and with results that are not that great. Let's try to normalize the training data with Z-Score normalization."
   ]
  },
  {
   "cell_type": "code",
   "execution_count": 60,
   "id": "2d2ee1c2",
   "metadata": {
    "scrolled": false
   },
   "outputs": [
    {
     "data": {
      "text/plain": [
       "array([[-1.43876426, -0.45332   , -0.90861367],\n",
       "       [-1.50996545,  0.5096211 , -0.07876719],\n",
       "       [-0.79795355,  0.38330685,  1.58092576],\n",
       "       ...,\n",
       "       [-1.50996545,  1.0148781 , -0.90861367],\n",
       "       [-1.29636188, -0.79781341, -0.90861367],\n",
       "       [ 1.55168573, -0.26138796, -0.90861367]])"
      ]
     },
     "execution_count": 60,
     "metadata": {},
     "output_type": "execute_result"
    }
   ],
   "source": [
    "X_train_np = X_train.to_numpy()\n",
    "X_train_norm = (X_train_np - np.mean(X_train_np, axis=0)) / np.std(X_train_np, axis=0)\n",
    "X_train_norm"
   ]
  },
  {
   "cell_type": "code",
   "execution_count": 61,
   "id": "6723ef96",
   "metadata": {},
   "outputs": [
    {
     "data": {
      "text/plain": [
       "array([3.27525475, 6.09753333, 4.14923238])"
      ]
     },
     "execution_count": 61,
     "metadata": {},
     "output_type": "execute_result"
    }
   ],
   "source": [
    "np.ptp(X_train_norm, axis=0)"
   ]
  },
  {
   "cell_type": "code",
   "execution_count": 62,
   "id": "a9b11fa1",
   "metadata": {
    "scrolled": true
   },
   "outputs": [
    {
     "name": "stdout",
     "output_type": "stream",
     "text": [
      "Iteration | Cost       | w_0    | w_1    | w_2   | b       | dj_dw_0  | dj_dw_1  | dj_dw_2  | dj_db  |\n",
      "0\t    1.6e+08\t3.6e+01  2.4e+01  8.2e+00  1.3e+02   -3.6e+03   -2.4e+03   -8.2e+02  -1.3e+04\n",
      "1000\t    6.4e+07\t3.4e+03  2.0e+03  6.5e+02  1.3e+04   -1.2e-01   3.4e-02   2.2e-02  -5.7e-01\n",
      "Convergence\n",
      "1861\t    6.4e+07\t3.4e+03  2.0e+03  6.5e+02  1.3e+04   -4.0e-05   3.2e-05   1.2e-05  -1.0e-04\n",
      "(w,b) found by gradient descent: ([3370.65251789 2024.34955566  654.17481353],[13270.42216615])\n",
      "\n",
      "CPU times: total: 29.2 s\n",
      "Wall time: 29.5 s\n"
     ]
    }
   ],
   "source": [
    "%%time\n",
    "alpha = 1.0e-2\n",
    "# run gradient descent\n",
    "w_final, b_final, J_hist, p_hist = gradient_descent.algorithm(X_train_norm, y_train.to_numpy(), w_init, 0)\n",
    "print(f\"(w,b) found by gradient descent: ({w_final},{b_final})\\n\")"
   ]
  },
  {
   "cell_type": "markdown",
   "id": "198bc9d8",
   "metadata": {},
   "source": [
    "That was fast! Let's see what parameters we get using Scikt-learn."
   ]
  },
  {
   "cell_type": "code",
   "execution_count": 86,
   "id": "0b4dee2d",
   "metadata": {},
   "outputs": [],
   "source": [
    "from sklearn.linear_model import SGDRegressor\n",
    "from sklearn.preprocessing import StandardScaler"
   ]
  },
  {
   "cell_type": "code",
   "execution_count": 87,
   "id": "f61a2061",
   "metadata": {},
   "outputs": [
    {
     "name": "stdout",
     "output_type": "stream",
     "text": [
      "Peak to Peak range by column in Raw        X:[46.   37.17  5.  ]\n",
      "Peak to Peak range by column in Normalized X:[3.27525475 6.09753333 4.14923238]\n"
     ]
    }
   ],
   "source": [
    "scaler = StandardScaler()\n",
    "X_norm = scaler.fit_transform(X_train)\n",
    "print(f\"Peak to Peak range by column in Raw        X:{np.ptp(X_train_np,axis=0)}\")   \n",
    "print(f\"Peak to Peak range by column in Normalized X:{np.ptp(X_norm,axis=0)}\")"
   ]
  },
  {
   "cell_type": "code",
   "execution_count": 88,
   "id": "1da81ada",
   "metadata": {
    "scrolled": true
   },
   "outputs": [
    {
     "data": {
      "text/html": [
       "<style>#sk-container-id-7 {color: black;background-color: white;}#sk-container-id-7 pre{padding: 0;}#sk-container-id-7 div.sk-toggleable {background-color: white;}#sk-container-id-7 label.sk-toggleable__label {cursor: pointer;display: block;width: 100%;margin-bottom: 0;padding: 0.3em;box-sizing: border-box;text-align: center;}#sk-container-id-7 label.sk-toggleable__label-arrow:before {content: \"▸\";float: left;margin-right: 0.25em;color: #696969;}#sk-container-id-7 label.sk-toggleable__label-arrow:hover:before {color: black;}#sk-container-id-7 div.sk-estimator:hover label.sk-toggleable__label-arrow:before {color: black;}#sk-container-id-7 div.sk-toggleable__content {max-height: 0;max-width: 0;overflow: hidden;text-align: left;background-color: #f0f8ff;}#sk-container-id-7 div.sk-toggleable__content pre {margin: 0.2em;color: black;border-radius: 0.25em;background-color: #f0f8ff;}#sk-container-id-7 input.sk-toggleable__control:checked~div.sk-toggleable__content {max-height: 200px;max-width: 100%;overflow: auto;}#sk-container-id-7 input.sk-toggleable__control:checked~label.sk-toggleable__label-arrow:before {content: \"▾\";}#sk-container-id-7 div.sk-estimator input.sk-toggleable__control:checked~label.sk-toggleable__label {background-color: #d4ebff;}#sk-container-id-7 div.sk-label input.sk-toggleable__control:checked~label.sk-toggleable__label {background-color: #d4ebff;}#sk-container-id-7 input.sk-hidden--visually {border: 0;clip: rect(1px 1px 1px 1px);clip: rect(1px, 1px, 1px, 1px);height: 1px;margin: -1px;overflow: hidden;padding: 0;position: absolute;width: 1px;}#sk-container-id-7 div.sk-estimator {font-family: monospace;background-color: #f0f8ff;border: 1px dotted black;border-radius: 0.25em;box-sizing: border-box;margin-bottom: 0.5em;}#sk-container-id-7 div.sk-estimator:hover {background-color: #d4ebff;}#sk-container-id-7 div.sk-parallel-item::after {content: \"\";width: 100%;border-bottom: 1px solid gray;flex-grow: 1;}#sk-container-id-7 div.sk-label:hover label.sk-toggleable__label {background-color: #d4ebff;}#sk-container-id-7 div.sk-serial::before {content: \"\";position: absolute;border-left: 1px solid gray;box-sizing: border-box;top: 0;bottom: 0;left: 50%;z-index: 0;}#sk-container-id-7 div.sk-serial {display: flex;flex-direction: column;align-items: center;background-color: white;padding-right: 0.2em;padding-left: 0.2em;position: relative;}#sk-container-id-7 div.sk-item {position: relative;z-index: 1;}#sk-container-id-7 div.sk-parallel {display: flex;align-items: stretch;justify-content: center;background-color: white;position: relative;}#sk-container-id-7 div.sk-item::before, #sk-container-id-7 div.sk-parallel-item::before {content: \"\";position: absolute;border-left: 1px solid gray;box-sizing: border-box;top: 0;bottom: 0;left: 50%;z-index: -1;}#sk-container-id-7 div.sk-parallel-item {display: flex;flex-direction: column;z-index: 1;position: relative;background-color: white;}#sk-container-id-7 div.sk-parallel-item:first-child::after {align-self: flex-end;width: 50%;}#sk-container-id-7 div.sk-parallel-item:last-child::after {align-self: flex-start;width: 50%;}#sk-container-id-7 div.sk-parallel-item:only-child::after {width: 0;}#sk-container-id-7 div.sk-dashed-wrapped {border: 1px dashed gray;margin: 0 0.4em 0.5em 0.4em;box-sizing: border-box;padding-bottom: 0.4em;background-color: white;}#sk-container-id-7 div.sk-label label {font-family: monospace;font-weight: bold;display: inline-block;line-height: 1.2em;}#sk-container-id-7 div.sk-label-container {text-align: center;}#sk-container-id-7 div.sk-container {/* jupyter's `normalize.less` sets `[hidden] { display: none; }` but bootstrap.min.css set `[hidden] { display: none !important; }` so we also need the `!important` here to be able to override the default hidden behavior on the sphinx rendered scikit-learn.org. See: https://github.com/scikit-learn/scikit-learn/issues/21755 */display: inline-block !important;position: relative;}#sk-container-id-7 div.sk-text-repr-fallback {display: none;}</style><div id=\"sk-container-id-7\" class=\"sk-top-container\"><div class=\"sk-text-repr-fallback\"><pre>SGDRegressor(max_iter=10000)</pre><b>In a Jupyter environment, please rerun this cell to show the HTML representation or trust the notebook. <br />On GitHub, the HTML representation is unable to render, please try loading this page with nbviewer.org.</b></div><div class=\"sk-container\" hidden><div class=\"sk-item\"><div class=\"sk-estimator sk-toggleable\"><input class=\"sk-toggleable__control sk-hidden--visually\" id=\"sk-estimator-id-7\" type=\"checkbox\" checked><label for=\"sk-estimator-id-7\" class=\"sk-toggleable__label sk-toggleable__label-arrow\">SGDRegressor</label><div class=\"sk-toggleable__content\"><pre>SGDRegressor(max_iter=10000)</pre></div></div></div></div></div>"
      ],
      "text/plain": [
       "SGDRegressor(max_iter=10000)"
      ]
     },
     "execution_count": 88,
     "metadata": {},
     "output_type": "execute_result"
    }
   ],
   "source": [
    "sgdr = SGDRegressor(max_iter=10000)\n",
    "sgdr.fit(X_norm, y_train.values.flatten())"
   ]
  },
  {
   "cell_type": "code",
   "execution_count": 89,
   "id": "bd1bf4b0",
   "metadata": {},
   "outputs": [
    {
     "name": "stdout",
     "output_type": "stream",
     "text": [
      "(w,b) found by Scikit-learn's SGDRegressor w: [3354.59260186 2098.66181623  675.49957232], b: [13279.13361261]\n"
     ]
    }
   ],
   "source": [
    "b_norm = sgdr.intercept_\n",
    "w_norm = sgdr.coef_\n",
    "print(f\"(w,b) found by Scikit-learn's SGDRegressor w: {w_norm}, b: {b_norm}\")"
   ]
  },
  {
   "cell_type": "markdown",
   "id": "ec459750",
   "metadata": {},
   "source": [
    "The parameters are pretty close to the Python model."
   ]
  },
  {
   "cell_type": "markdown",
   "id": "6973dbb5",
   "metadata": {},
   "source": [
    "# Data Processing"
   ]
  },
  {
   "cell_type": "markdown",
   "id": "83dc0b06",
   "metadata": {},
   "source": [
    "## Categorical Encoding"
   ]
  },
  {
   "cell_type": "markdown",
   "id": "8da1f6db",
   "metadata": {},
   "source": [
    "Since we know that **sex**, **smoker**, and **region** are categorical features, we must use categorical encoding to use features that are real numbers. Let's use **one-hot encoding**."
   ]
  },
  {
   "cell_type": "markdown",
   "id": "79ca140b",
   "metadata": {},
   "source": [
    "### One-Hot Encoding"
   ]
  },
  {
   "cell_type": "code",
   "execution_count": 26,
   "id": "3eb3dc22",
   "metadata": {},
   "outputs": [
    {
     "data": {
      "text/plain": [
       "array([0., 0.])"
      ]
     },
     "execution_count": 26,
     "metadata": {},
     "output_type": "execute_result"
    }
   ],
   "source": [
    "unique_vals = df['sex'].unique()\n",
    "males = np.zeros(unique_vals.size)\n",
    "males"
   ]
  },
  {
   "cell_type": "markdown",
   "id": "5f618c31",
   "metadata": {},
   "source": [
    "# Training a Multiple Linear Regression Model"
   ]
  },
  {
   "cell_type": "code",
   "execution_count": null,
   "id": "3c09dd40",
   "metadata": {},
   "outputs": [],
   "source": []
  }
 ],
 "metadata": {
  "kernelspec": {
   "display_name": "Python 3 (ipykernel)",
   "language": "python",
   "name": "python3"
  },
  "language_info": {
   "codemirror_mode": {
    "name": "ipython",
    "version": 3
   },
   "file_extension": ".py",
   "mimetype": "text/x-python",
   "name": "python",
   "nbconvert_exporter": "python",
   "pygments_lexer": "ipython3",
   "version": "3.10.4"
  }
 },
 "nbformat": 4,
 "nbformat_minor": 5
}
