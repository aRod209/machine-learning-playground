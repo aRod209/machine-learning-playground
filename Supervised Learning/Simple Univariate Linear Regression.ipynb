{
 "cells": [
  {
   "cell_type": "markdown",
   "id": "b4c8a39d",
   "metadata": {},
   "source": [
    "# Simple Univariate Linear Regression"
   ]
  },
  {
   "cell_type": "markdown",
   "id": "8c29ab12",
   "metadata": {},
   "source": [
    "Notebook by Anthony Rodriguez"
   ]
  },
  {
   "cell_type": "code",
   "execution_count": 1,
   "id": "ea43d371",
   "metadata": {},
   "outputs": [],
   "source": [
    "import os, math\n",
    "from pathlib import Path"
   ]
  },
  {
   "cell_type": "code",
   "execution_count": 2,
   "id": "0fc00c89",
   "metadata": {},
   "outputs": [],
   "source": [
    "import numpy as np\n",
    "import pandas as pd\n",
    "import matplotlib.pyplot as plt"
   ]
  },
  {
   "cell_type": "markdown",
   "id": "064c981d",
   "metadata": {},
   "source": [
    "# Introduction"
   ]
  },
  {
   "cell_type": "markdown",
   "id": "58b1193d",
   "metadata": {},
   "source": [
    "This notebook displays exploratory data analysis (EDA) and linear regression on a [simple kaggle dataset for linear regression](https://www.kaggle.com/datasets/andonians/random-linear-regression) that needs no data cleaning. This data set is just going to be used to practice using basic EDA and linear regression with one variable."
   ]
  },
  {
   "cell_type": "markdown",
   "id": "799082e0",
   "metadata": {},
   "source": [
    "# Helper functions for EDA"
   ]
  },
  {
   "cell_type": "code",
   "execution_count": 3,
   "id": "ad9c2341",
   "metadata": {},
   "outputs": [],
   "source": [
    "def fetch_file(file, data_dir=\"data\"):\n",
    "    \"\"\"\n",
    "    Fetch a file that was previously downloaded into the data folder. \n",
    "    \n",
    "    file: the file in which to fetch\n",
    "    data_dir: (default=\"data\") the location to fetch the data\n",
    "    \n",
    "    return: The pathlib.Path object representing the file.\n",
    "    \"\"\"\n",
    "    data_dir = Path(data_dir)\n",
    "    data_dir.mkdir(exist_ok = True)\n",
    "    file_path = data_dir / Path(file)\n",
    "\n",
    "    return file_path"
   ]
  },
  {
   "cell_type": "code",
   "execution_count": 4,
   "id": "935ff80a",
   "metadata": {},
   "outputs": [],
   "source": [
    "def num_lines_in_file(file):\n",
    "    \"\"\"\n",
    "    Gets the number of lines in a file.\n",
    "    \n",
    "    file: the file\n",
    "    \n",
    "    return: The number of lines in a file.\n",
    "    \"\"\"\n",
    "    with open(file, 'r') as f:\n",
    "        num_lines = sum(1 for l in f)\n",
    "        \n",
    "    return num_lines"
   ]
  },
  {
   "cell_type": "code",
   "execution_count": 5,
   "id": "cebb518f",
   "metadata": {},
   "outputs": [],
   "source": [
    "def print_file_contents(file, num_lines=20):\n",
    "    \"\"\"\n",
    "    Prints the file contents.\n",
    "    \n",
    "    file: The file.\n",
    "    num_lines: (default=20) The number of lines in the file to print.\n",
    "    \"\"\"\n",
    "    print(f'{file} ===========================')\n",
    "    \n",
    "    with open(file,'r') as f:\n",
    "        for i in range(num_lines):\n",
    "            print(f'{i}\\t{repr(f.readline())}')"
   ]
  },
  {
   "cell_type": "code",
   "execution_count": 6,
   "id": "074d86a9",
   "metadata": {},
   "outputs": [],
   "source": [
    "def print_dataframe_shape(df):\n",
    "    \"\"\"\n",
    "    Prints the shape of the DataFrame.\n",
    "    \n",
    "    df: The DataFrame.\n",
    "    \"\"\"\n",
    "    num_rows, num_cols = df.shape\n",
    "    print(f'Number of rows in data frame: {num_rows}')\n",
    "    print(f'Number of columns in data fram: {num_cols}')"
   ]
  },
  {
   "cell_type": "markdown",
   "id": "b9fd37d5",
   "metadata": {},
   "source": [
    "# Exploratory Data Analysis (EDA)"
   ]
  },
  {
   "cell_type": "markdown",
   "id": "409ec14a",
   "metadata": {},
   "source": [
    "#### The file is already downloaded. Let's fetch the downloaded file from the data directory."
   ]
  },
  {
   "cell_type": "code",
   "execution_count": 7,
   "id": "11bd2a9b",
   "metadata": {},
   "outputs": [],
   "source": [
    "training_set_filename = \"train.csv\"\n",
    "test_set_filename = \"test.csv\""
   ]
  },
  {
   "cell_type": "code",
   "execution_count": 8,
   "id": "7f77a22b",
   "metadata": {},
   "outputs": [
    {
     "data": {
      "text/plain": [
       "WindowsPath('data/train.csv')"
      ]
     },
     "execution_count": 8,
     "metadata": {},
     "output_type": "execute_result"
    }
   ],
   "source": [
    "training_set_file = fetch_file(training_set_filename)\n",
    "training_set_file"
   ]
  },
  {
   "cell_type": "markdown",
   "id": "bb79cc44",
   "metadata": {},
   "source": [
    "#### Let's look at the size of the file."
   ]
  },
  {
   "cell_type": "code",
   "execution_count": 9,
   "id": "48d35791",
   "metadata": {},
   "outputs": [
    {
     "name": "stdout",
     "output_type": "stream",
     "text": [
      "training_set_file is 0.010384 MB\n"
     ]
    }
   ],
   "source": [
    "print(f'training_set_file is {os.path.getsize(training_set_file) / 1e6} MB')"
   ]
  },
  {
   "cell_type": "markdown",
   "id": "45337feb",
   "metadata": {},
   "source": [
    "#### Let's look at the number of lines in the training set."
   ]
  },
  {
   "cell_type": "code",
   "execution_count": 10,
   "id": "490917b4",
   "metadata": {},
   "outputs": [
    {
     "name": "stdout",
     "output_type": "stream",
     "text": [
      "The training set file has 701 lines of data.\n"
     ]
    }
   ],
   "source": [
    "num_lines = num_lines_in_file(training_set_file)\n",
    "print(f'The training set file has {num_lines} lines of data.')"
   ]
  },
  {
   "cell_type": "markdown",
   "id": "1bd6ff1e",
   "metadata": {},
   "source": [
    "#### Let's check the contents of the file to make sure it is a csv file."
   ]
  },
  {
   "cell_type": "code",
   "execution_count": 11,
   "id": "4609b7d4",
   "metadata": {
    "scrolled": true
   },
   "outputs": [
    {
     "name": "stdout",
     "output_type": "stream",
     "text": [
      "data\\train.csv ===========================\n",
      "0\t'x,y\\n'\n",
      "1\t'24,21.54945196\\n'\n",
      "2\t'50,47.46446305\\n'\n",
      "3\t'15,17.21865634\\n'\n",
      "4\t'38,36.58639803\\n'\n",
      "5\t'87,87.28898389\\n'\n",
      "6\t'36,32.46387493\\n'\n",
      "7\t'12,10.78089683\\n'\n",
      "8\t'81,80.7633986\\n'\n",
      "9\t'25,24.61215147\\n'\n",
      "10\t'5,6.963319071\\n'\n",
      "11\t'16,11.23757338\\n'\n",
      "12\t'16,13.53290206\\n'\n",
      "13\t'24,24.60323899\\n'\n",
      "14\t'39,39.40049976\\n'\n",
      "15\t'54,48.43753838\\n'\n",
      "16\t'60,61.69900319\\n'\n",
      "17\t'26,26.92832418\\n'\n",
      "18\t'73,70.4052055\\n'\n",
      "19\t'29,29.34092408\\n'\n"
     ]
    }
   ],
   "source": [
    "print_file_contents(training_set_file)"
   ]
  },
  {
   "cell_type": "markdown",
   "id": "f0c19a05",
   "metadata": {},
   "source": [
    "#### File looks like a standard csv file with two columns of real numbers. First line contains the column headings. \n",
    "\n",
    "#### Let's create a data frame"
   ]
  },
  {
   "cell_type": "code",
   "execution_count": 12,
   "id": "8667cf62",
   "metadata": {
    "scrolled": false
   },
   "outputs": [
    {
     "data": {
      "text/html": [
       "<div>\n",
       "<style scoped>\n",
       "    .dataframe tbody tr th:only-of-type {\n",
       "        vertical-align: middle;\n",
       "    }\n",
       "\n",
       "    .dataframe tbody tr th {\n",
       "        vertical-align: top;\n",
       "    }\n",
       "\n",
       "    .dataframe thead th {\n",
       "        text-align: right;\n",
       "    }\n",
       "</style>\n",
       "<table border=\"1\" class=\"dataframe\">\n",
       "  <thead>\n",
       "    <tr style=\"text-align: right;\">\n",
       "      <th></th>\n",
       "      <th>x</th>\n",
       "      <th>y</th>\n",
       "    </tr>\n",
       "  </thead>\n",
       "  <tbody>\n",
       "    <tr>\n",
       "      <th>0</th>\n",
       "      <td>24.0</td>\n",
       "      <td>21.549452</td>\n",
       "    </tr>\n",
       "    <tr>\n",
       "      <th>1</th>\n",
       "      <td>50.0</td>\n",
       "      <td>47.464463</td>\n",
       "    </tr>\n",
       "    <tr>\n",
       "      <th>2</th>\n",
       "      <td>15.0</td>\n",
       "      <td>17.218656</td>\n",
       "    </tr>\n",
       "    <tr>\n",
       "      <th>3</th>\n",
       "      <td>38.0</td>\n",
       "      <td>36.586398</td>\n",
       "    </tr>\n",
       "    <tr>\n",
       "      <th>4</th>\n",
       "      <td>87.0</td>\n",
       "      <td>87.288984</td>\n",
       "    </tr>\n",
       "  </tbody>\n",
       "</table>\n",
       "</div>"
      ],
      "text/plain": [
       "      x          y\n",
       "0  24.0  21.549452\n",
       "1  50.0  47.464463\n",
       "2  15.0  17.218656\n",
       "3  38.0  36.586398\n",
       "4  87.0  87.288984"
      ]
     },
     "execution_count": 12,
     "metadata": {},
     "output_type": "execute_result"
    }
   ],
   "source": [
    "training = pd.read_csv(training_set_file)\n",
    "training.head()"
   ]
  },
  {
   "cell_type": "code",
   "execution_count": 13,
   "id": "6c9b975b",
   "metadata": {},
   "outputs": [
    {
     "name": "stdout",
     "output_type": "stream",
     "text": [
      "Number of rows in data frame: 700\n",
      "Number of columns in data fram: 2\n"
     ]
    }
   ],
   "source": [
    "print_dataframe_shape(training)"
   ]
  },
  {
   "cell_type": "markdown",
   "id": "f9055f3a",
   "metadata": {},
   "source": [
    "#### The number of rows is 700 which is one less then what we seen before when checking the number of rows in the entire file. This is because the file contains a header row which states the names of each column (x and y)."
   ]
  },
  {
   "cell_type": "code",
   "execution_count": 14,
   "id": "0e7b54e5",
   "metadata": {
    "scrolled": false
   },
   "outputs": [
    {
     "data": {
      "image/png": "[encoded data removed]",
      "text/plain": [
       "<Figure size 432x288 with 1 Axes>"
      ]
     },
     "metadata": {
      "needs_background": "light"
     },
     "output_type": "display_data"
    }
   ],
   "source": [
    "# Plot the data points.\n",
    "plt.scatter(training['x'], training['y'], s=.5)\n",
    "plt.title('Simple Univariate Linear Regression')\n",
    "plt.xlabel('x')\n",
    "plt.ylabel('y')\n",
    "plt.show()"
   ]
  },
  {
   "cell_type": "markdown",
   "id": "0f4b0583",
   "metadata": {},
   "source": [
    "#### Let's make sure all data is numeric."
   ]
  },
  {
   "cell_type": "code",
   "execution_count": 15,
   "id": "5cbfeec9",
   "metadata": {
    "scrolled": true
   },
   "outputs": [
    {
     "data": {
      "text/plain": [
       "x    float64\n",
       "y    float64\n",
       "dtype: object"
      ]
     },
     "execution_count": 15,
     "metadata": {},
     "output_type": "execute_result"
    }
   ],
   "source": [
    "training.dtypes"
   ]
  },
  {
   "cell_type": "code",
   "execution_count": 16,
   "id": "a18817b2",
   "metadata": {
    "scrolled": true
   },
   "outputs": [
    {
     "data": {
      "text/plain": [
       "False"
      ]
     },
     "execution_count": 16,
     "metadata": {},
     "output_type": "execute_result"
    }
   ],
   "source": [
    "training['x'].isnull().values.any()"
   ]
  },
  {
   "cell_type": "code",
   "execution_count": 17,
   "id": "27ba71a7",
   "metadata": {
    "scrolled": true
   },
   "outputs": [
    {
     "data": {
      "text/plain": [
       "True"
      ]
     },
     "execution_count": 17,
     "metadata": {},
     "output_type": "execute_result"
    }
   ],
   "source": [
    "training['y'].isnull().values.any()"
   ]
  },
  {
   "cell_type": "code",
   "execution_count": 18,
   "id": "6e6e7801",
   "metadata": {},
   "outputs": [
    {
     "data": {
      "text/plain": [
       "1"
      ]
     },
     "execution_count": 18,
     "metadata": {},
     "output_type": "execute_result"
    }
   ],
   "source": [
    "training['y'].isnull().sum()"
   ]
  },
  {
   "cell_type": "markdown",
   "id": "20a4e43d",
   "metadata": {},
   "source": [
    "#### There is a value in the y column that is NaN. Only one exists. I think we can just get rid of the sample that has a NaN for a y-value and our model will be fine. Let's find the index of this sample and then remove it from our data frame."
   ]
  },
  {
   "cell_type": "code",
   "execution_count": 19,
   "id": "d711f5cd",
   "metadata": {
    "scrolled": true
   },
   "outputs": [
    {
     "data": {
      "text/html": [
       "<div>\n",
       "<style scoped>\n",
       "    .dataframe tbody tr th:only-of-type {\n",
       "        vertical-align: middle;\n",
       "    }\n",
       "\n",
       "    .dataframe tbody tr th {\n",
       "        vertical-align: top;\n",
       "    }\n",
       "\n",
       "    .dataframe thead th {\n",
       "        text-align: right;\n",
       "    }\n",
       "</style>\n",
       "<table border=\"1\" class=\"dataframe\">\n",
       "  <thead>\n",
       "    <tr style=\"text-align: right;\">\n",
       "      <th></th>\n",
       "      <th>x</th>\n",
       "      <th>y</th>\n",
       "    </tr>\n",
       "  </thead>\n",
       "  <tbody>\n",
       "    <tr>\n",
       "      <th>213</th>\n",
       "      <td>3530.157369</td>\n",
       "      <td>NaN</td>\n",
       "    </tr>\n",
       "  </tbody>\n",
       "</table>\n",
       "</div>"
      ],
      "text/plain": [
       "               x   y\n",
       "213  3530.157369 NaN"
      ]
     },
     "execution_count": 19,
     "metadata": {},
     "output_type": "execute_result"
    }
   ],
   "source": [
    "training[training['y'].isnull()]"
   ]
  },
  {
   "cell_type": "code",
   "execution_count": 20,
   "id": "98f0f685",
   "metadata": {
    "scrolled": true
   },
   "outputs": [],
   "source": [
    "cleaned_training = training.drop(213)"
   ]
  },
  {
   "cell_type": "code",
   "execution_count": 21,
   "id": "db6594b2",
   "metadata": {},
   "outputs": [
    {
     "data": {
      "text/plain": [
       "False"
      ]
     },
     "execution_count": 21,
     "metadata": {},
     "output_type": "execute_result"
    }
   ],
   "source": [
    "cleaned_training['y'].isnull().values.any()"
   ]
  },
  {
   "cell_type": "code",
   "execution_count": 22,
   "id": "4a2d113a",
   "metadata": {
    "scrolled": true
   },
   "outputs": [
    {
     "data": {
      "text/plain": [
       "False"
      ]
     },
     "execution_count": 22,
     "metadata": {},
     "output_type": "execute_result"
    }
   ],
   "source": [
    "cleaned_training['x'].isnull().values.any()"
   ]
  },
  {
   "cell_type": "code",
   "execution_count": 23,
   "id": "27a8b365",
   "metadata": {},
   "outputs": [
    {
     "name": "stdout",
     "output_type": "stream",
     "text": [
      "Number of rows in data frame: 699\n",
      "Number of columns in data fram: 2\n"
     ]
    }
   ],
   "source": [
    "print_dataframe_shape(cleaned_training)"
   ]
  },
  {
   "cell_type": "markdown",
   "id": "dc3cfb7c",
   "metadata": {},
   "source": [
    "# Training a Univariate Linear Regression Model"
   ]
  },
  {
   "cell_type": "markdown",
   "id": "2a03592a",
   "metadata": {},
   "source": [
    "#### This data will allow us to use a linear function $f$ of one variable $x$. That is, $f_{w,b}(x) = wx + b$. \n",
    "\n",
    "$w$ and $b$ are parameters we must find.\n",
    "\n",
    "#### We can do this by minimizing the cost $J(w,b) = \\frac{1}{2m}\\sum\\limits^{m-1}_{i=0}(f_{w,b}(x^{(i)}) - y^{(i)})^{2}$\n",
    "#### $f_{w,b}(x) = wx + b$ is the estimated cost.\n",
    "#### $y^{(i)}$ is the true cost.\n",
    "\n",
    "#### In order to find $w$ and $b$ by minimizing the cost $J(w,b)$, we must use it's gradient\n",
    "\n",
    "$$\n",
    "\\begin{align}\n",
    "\\frac{\\partial J(w,b)}{\\partial w}  &= \\frac{1}{m} \\sum\\limits_{i = 0}^{m-1} (f_{w,b}(x^{(i)}) - y^{(i)})x^{(i)} \\newline\n",
    "  \\frac{\\partial J(w,b)}{\\partial b}  &= \\frac{1}{m} \\sum\\limits_{i = 0}^{m-1} (f_{w,b}(x^{(i)}) - y^{(i)})\n",
    "\\end{align}\n",
    "$$\n",
    "\n",
    "#### We then repeat until convergence\n",
    "\n",
    "$$\\begin{align*} \\newline\n",
    "\\;  w &= w -  \\alpha \\frac{\\partial J(w,b)}{\\partial w} \\newline \n",
    " b &= b -  \\alpha \\frac{\\partial J(w,b)}{\\partial b}  \\newline\n",
    "\\end{align*}$$\n",
    "\n",
    "#### where, parameters $w$, $b$ are updated simultaneously.  "
   ]
  },
  {
   "cell_type": "code",
   "execution_count": 24,
   "id": "0e2b4b59",
   "metadata": {},
   "outputs": [],
   "source": [
    "def compute_loss(x, y, w, b, i):\n",
    "    \"\"\"\n",
    "    Creates a linear model using parameters w and b to\n",
    "    compute a predicted value with the ith training example\n",
    "    and then computes the loss of the predicted value.\n",
    "    \n",
    "    x: The training example.\n",
    "    y: The target/actual value.\n",
    "    w: The weight of the feature/training example x.\n",
    "    b: A model parameter.\n",
    "    i: The index of the training example.\n",
    "    \n",
    "    returns: The loss/error of the model prediction of the ith training example.\n",
    "    \"\"\"\n",
    "    f_xi = w * x[i] + b\n",
    "    return f_xi - y[i]"
   ]
  },
  {
   "cell_type": "code",
   "execution_count": 25,
   "id": "704d1ec1",
   "metadata": {},
   "outputs": [],
   "source": [
    "def compute_mse(x, y, w, b):\n",
    "    \"\"\"\n",
    "    Computes the mean-squared error of the model.\n",
    "    \n",
    "    x: The training example.\n",
    "    y: The target/actual value.\n",
    "    w: The weight of the feature/training example x.\n",
    "    b: A model parameter.\n",
    "    \n",
    "    returns: The mean-squared error.\n",
    "    \"\"\"\n",
    "    m = x.shape[0]\n",
    "    i = 0\n",
    "    total_loss = 0\n",
    "    \n",
    "    while i < m:\n",
    "        loss_i = compute_loss(x, y, w, b, i)\n",
    "        total_loss = total_loss + (loss_i**2)\n",
    "        i += 1\n",
    "    \n",
    "    return total_loss / m\n",
    "        "
   ]
  },
  {
   "cell_type": "code",
   "execution_count": 26,
   "id": "fa9d8074",
   "metadata": {},
   "outputs": [],
   "source": [
    "def compute_cost(x, y, w, b):\n",
    "    \"\"\"\n",
    "    The model cost.\n",
    "    \n",
    "    x: The training examples.\n",
    "    y: The target values.\n",
    "    w: The weight of the features/training examples x.\n",
    "    b: A model parameter.\n",
    "    \n",
    "    returns: The cost of the model.\n",
    "    \"\"\"\n",
    "    return compute_mse(x, y, w, b) / 2"
   ]
  },
  {
   "cell_type": "code",
   "execution_count": 27,
   "id": "ca9c429c",
   "metadata": {},
   "outputs": [
    {
     "data": {
      "text/plain": [
       "7.873654280369422"
      ]
     },
     "execution_count": 27,
     "metadata": {},
     "output_type": "execute_result"
    }
   ],
   "source": [
    "compute_mse(cleaned_training['x'].to_numpy(), cleaned_training['y'].to_numpy(), 1, 0)\n"
   ]
  },
  {
   "cell_type": "code",
   "execution_count": 28,
   "id": "c19c9687",
   "metadata": {},
   "outputs": [],
   "source": [
    "def compute_gradient(x, y, w, b):\n",
    "    \"\"\"\n",
    "    Computes the gradient for linear regression.\n",
    "    \n",
    "    x: The training examples.\n",
    "    y: The target values.\n",
    "    w: The weight of the features/training examples x.\n",
    "    b: A model parameter.\n",
    "    \n",
    "    returns: The gradient w.r.t. w and the gradient w.r.t. b\n",
    "    \"\"\"\n",
    "    m = x.shape[0]\n",
    "    i = 0\n",
    "    loss = 0\n",
    "    dj_dw = 0\n",
    "    dj_db = 0\n",
    "    \n",
    "    while i < m:\n",
    "        loss = compute_loss(x, y, w, b, i)\n",
    "        dj_dw_i = loss * x[i]\n",
    "        dj_db_i = loss\n",
    "        dj_dw += dj_dw_i\n",
    "        dj_db += dj_db_i\n",
    "        i += 1\n",
    "        \n",
    "    dj_dw, dj_db = dj_dw  / m, dj_db / m\n",
    "    return dj_dw, dj_db"
   ]
  },
  {
   "cell_type": "code",
   "execution_count": 29,
   "id": "7b5e211b",
   "metadata": {},
   "outputs": [],
   "source": [
    "class Gradient_Descent:\n",
    "    \"\"\"\n",
    "    A class for the gradient descent algorithm.\n",
    "    \"\"\"\n",
    "    def __init__(self, cost_function, gradient_function, alpha, max_iters):\n",
    "        \"\"\"\n",
    "        Creates an Gradient_Descent object.\n",
    "        \n",
    "        self: A Gradient_Descent object.\n",
    "        cost_function: A function that computes the model cost.\n",
    "        gradient_function: A function that computes the gradient.\n",
    "        alpha: The learning rate.\n",
    "        max_iters: The maximum number of iterations of the gradient descent algorithm.\n",
    "        \"\"\"\n",
    "        self.cost_function = cost_function\n",
    "        self.gradient_function = gradient_function\n",
    "        self.alpha = alpha\n",
    "        self.max_iters = max_iters\n",
    "        \n",
    "    def algorithm(self, x_train, y_train, w = 0, b = 0):\n",
    "        '''\n",
    "        Much of this gradient descent code is from Andrew Ng's Machine Learning course.\n",
    "        \n",
    "        The gradient descent algorithm.\n",
    "        \n",
    "        self: A Gradient_Descent object.\n",
    "        x_train: The training examples.\n",
    "        y_train: The targets.\n",
    "        w: The parameter/weight of the training examples.\n",
    "        b: A model parameter.\n",
    "        '''\n",
    "        # An array to store cost J and w's at each iteration primarily for graphing later\n",
    "        J_history = []\n",
    "        p_history = []\n",
    "        \n",
    "        for i in range(self.max_iters):\n",
    "            # Calculate the gradient and update the parameters using gradient_function\n",
    "            dj_dw, dj_db = self.gradient_function(x_train, y_train, w , b)\n",
    "            \n",
    "            # Record old parameters\n",
    "            last_b, last_w = b, w\n",
    "\n",
    "            # Update Parameters\n",
    "            b = b - alpha * dj_db                            \n",
    "            w = w - alpha * dj_dw\n",
    "            \n",
    "            # Check if new parameters are equal to the last iterations parameters\n",
    "            if self.are_equal(b, last_b) and self.are_equal(w, last_w):\n",
    "                print('Convergence')\n",
    "                print(f\"Iteration {i:4}: Cost {J_history[-1]:0.2e} \",\n",
    "                      f\"dj_dw: {dj_dw: 0.3e}, dj_db: {dj_db: 0.3e}  \",\n",
    "                      f\"w: {w: 0.3e}, b:{b: 0.5e}\")\n",
    "                break\n",
    "                \n",
    "            # Save cost J at each iteration\n",
    "            if i<100000:      # prevent resource exhaustion \n",
    "                J_history.append(self.cost_function(x_train, y_train, w , b))\n",
    "                p_history.append([w,b])\n",
    "            # Print cost every at intervals 10 times or as many iterations if < 10\n",
    "            if i% math.ceil(self.max_iters/10) == 0:\n",
    "                print(f\"Iteration {i:4}: Cost {J_history[-1]:0.2e} \",\n",
    "                      f\"dj_dw: {dj_dw: 0.3e}, dj_db: {dj_db: 0.3e}  \",\n",
    "                      f\"w: {w: 0.3e}, b:{b: 0.5e}\")\n",
    "\n",
    "        return w, b, J_history, p_history #return w and J,w history for graphing\n",
    "    \n",
    "    def are_equal(self, old_val, new_val):\n",
    "        return abs(old_val - new_val) < 1.0e-6"
   ]
  },
  {
   "cell_type": "markdown",
   "id": "c2eeb810",
   "metadata": {},
   "source": [
    "#### Let's test the implementation with two training points."
   ]
  },
  {
   "cell_type": "code",
   "execution_count": 30,
   "id": "0b0ca8e8",
   "metadata": {},
   "outputs": [],
   "source": [
    "x_train = np.array([1.0, 2.0])   #features\n",
    "y_train = np.array([300.0, 500.0])   #target value"
   ]
  },
  {
   "cell_type": "markdown",
   "id": "8255d800",
   "metadata": {},
   "source": [
    "#### Let's plot the two points."
   ]
  },
  {
   "cell_type": "code",
   "execution_count": 31,
   "id": "3e0537b4",
   "metadata": {
    "scrolled": false
   },
   "outputs": [
    {
     "data": {
      "image/png": "[encoded data removed]",
      "text/plain": [
       "<Figure size 432x288 with 1 Axes>"
      ]
     },
     "metadata": {
      "needs_background": "light"
     },
     "output_type": "display_data"
    }
   ],
   "source": [
    "# Plot the data points.\n",
    "plt.scatter(x_train, y_train)\n",
    "plt.title('Simple Univariate Linear Regression on Two Samples')\n",
    "plt.xlabel('x')\n",
    "plt.ylabel('y')\n",
    "plt.show()"
   ]
  },
  {
   "cell_type": "markdown",
   "id": "e73f4574",
   "metadata": {},
   "source": [
    "#### Let's run gradient descent to find the model parameters."
   ]
  },
  {
   "cell_type": "code",
   "execution_count": 32,
   "id": "d9e6be05",
   "metadata": {
    "scrolled": false
   },
   "outputs": [
    {
     "name": "stdout",
     "output_type": "stream",
     "text": [
      "Iteration    0: Cost 7.93e+04  dj_dw: -6.500e+02, dj_db: -4.000e+02   w:  6.500e+00, b: 4.00000e+00\n",
      "Iteration 1000: Cost 3.41e+00  dj_dw: -3.712e-01, dj_db:  6.007e-01   w:  1.949e+02, b: 1.08228e+02\n",
      "Iteration 2000: Cost 7.93e-01  dj_dw: -1.789e-01, dj_db:  2.895e-01   w:  1.975e+02, b: 1.03966e+02\n",
      "Iteration 3000: Cost 1.84e-01  dj_dw: -8.625e-02, dj_db:  1.396e-01   w:  1.988e+02, b: 1.01912e+02\n",
      "Iteration 4000: Cost 4.28e-02  dj_dw: -4.158e-02, dj_db:  6.727e-02   w:  1.994e+02, b: 1.00922e+02\n",
      "Iteration 5000: Cost 9.95e-03  dj_dw: -2.004e-02, dj_db:  3.243e-02   w:  1.997e+02, b: 1.00444e+02\n",
      "Iteration 6000: Cost 2.31e-03  dj_dw: -9.660e-03, dj_db:  1.563e-02   w:  1.999e+02, b: 1.00214e+02\n",
      "Iteration 7000: Cost 5.37e-04  dj_dw: -4.657e-03, dj_db:  7.535e-03   w:  1.999e+02, b: 1.00103e+02\n",
      "Iteration 8000: Cost 1.25e-04  dj_dw: -2.245e-03, dj_db:  3.632e-03   w:  2.000e+02, b: 1.00050e+02\n",
      "Iteration 9000: Cost 2.90e-05  dj_dw: -1.082e-03, dj_db:  1.751e-03   w:  2.000e+02, b: 1.00024e+02\n",
      "(w,b) found by gradient descent: (199.9929,100.0116)\n"
     ]
    }
   ],
   "source": [
    "# Gradient descent settings\n",
    "iterations = 10000\n",
    "alpha = 1.0e-2\n",
    "gradient_descent = Gradient_Descent(compute_cost, compute_gradient, alpha, iterations)\n",
    "# run gradient descent\n",
    "w_final, b_final, J_hist, p_hist = gradient_descent.algorithm(x_train, y_train)\n",
    "print(f\"(w,b) found by gradient descent: ({w_final:8.4f},{b_final:8.4f})\")"
   ]
  },
  {
   "cell_type": "markdown",
   "id": "30ae3298",
   "metadata": {},
   "source": [
    "#### Let's plot the model againts the two points."
   ]
  },
  {
   "cell_type": "code",
   "execution_count": 33,
   "id": "39725905",
   "metadata": {},
   "outputs": [
    {
     "data": {
      "image/png": "[encoded data removed]",
      "text/plain": [
       "<Figure size 432x288 with 1 Axes>"
      ]
     },
     "metadata": {
      "needs_background": "light"
     },
     "output_type": "display_data"
    }
   ],
   "source": [
    "w = 199.9929\n",
    "b = 100.0116\n",
    "x = np.linspace(1, 2, 100)\n",
    "f_x = w * x + b\n",
    "plt.plot(x, f_x, color='red')\n",
    "plt.scatter(x_train, y_train)\n",
    "plt.title('Simple Univariate Linear Regression on Two Samples')\n",
    "plt.xlabel('x')\n",
    "plt.ylabel('y')\n",
    "plt.show()"
   ]
  },
  {
   "cell_type": "markdown",
   "id": "060265ce",
   "metadata": {},
   "source": [
    "#### The model looks good!\n",
    "#### Now let's run gradient descent on our initial training set using 100000 iterations and different alphas."
   ]
  },
  {
   "cell_type": "code",
   "execution_count": 34,
   "id": "d01655a9",
   "metadata": {},
   "outputs": [
    {
     "name": "stdout",
     "output_type": "stream",
     "text": [
      "Iteration    0: Cost 3.94e+00  dj_dw:  3.173e+00, dj_db:  7.444e-02   w:  9.997e-01, b:-7.44370e-06\n",
      "Iteration 10000: Cost 3.93e+00  dj_dw: -3.135e-04, dj_db:  2.093e-02   w:  9.994e-01, b:-2.37987e-02\n",
      "Iteration 20000: Cost 3.93e+00  dj_dw: -2.440e-04, dj_db:  1.629e-02   w:  9.997e-01, b:-4.23071e-02\n",
      "Iteration 30000: Cost 3.93e+00  dj_dw: -1.899e-04, dj_db:  1.267e-02   w:  9.999e-01, b:-5.67113e-02\n",
      "Convergence\n",
      "Iteration 39453: Cost 3.93e+00  dj_dw: -1.498e-04, dj_db:  1.000e-02   w:  1.000e+00, b:-6.73782e-02\n",
      "(w,b) found by gradient descent: (  1.0001, -0.0674)\n"
     ]
    }
   ],
   "source": [
    "# Gradient descent settings\n",
    "iterations = 100000\n",
    "alpha = 1.0e-4\n",
    "gradient_descent = Gradient_Descent(compute_cost, compute_gradient, alpha, iterations)\n",
    "# run gradient descent\n",
    "w_final, b_final, J_hist, p_hist = gradient_descent.algorithm(cleaned_training['x'].to_numpy(), cleaned_training['y'].to_numpy(), 1, 0)\n",
    "print(f\"(w,b) found by gradient descent: ({w_final:8.4f},{b_final:8.4f})\")"
   ]
  },
  {
   "cell_type": "code",
   "execution_count": 35,
   "id": "fd19b093",
   "metadata": {},
   "outputs": [
    {
     "name": "stdout",
     "output_type": "stream",
     "text": [
      "Iteration    0: Cost 4.33e+02  dj_dw: -5.846e+02, dj_db:  5.060e+00   w:  5.846e-03, b: 5.49999e+01\n",
      "Iteration 10000: Cost 3.66e+02  dj_dw: -2.019e-01, dj_db:  1.347e+01   w:  1.955e-01, b: 5.36381e+01\n",
      "Iteration 20000: Cost 3.48e+02  dj_dw: -1.969e-01, dj_db:  1.314e+01   w:  2.154e-01, b: 5.23074e+01\n",
      "Iteration 30000: Cost 3.32e+02  dj_dw: -1.920e-01, dj_db:  1.281e+01   w:  2.348e-01, b: 5.10097e+01\n",
      "Iteration 40000: Cost 3.16e+02  dj_dw: -1.872e-01, dj_db:  1.250e+01   w:  2.538e-01, b: 4.97442e+01\n",
      "Iteration 50000: Cost 3.00e+02  dj_dw: -1.826e-01, dj_db:  1.219e+01   w:  2.723e-01, b: 4.85099e+01\n",
      "Iteration 60000: Cost 2.86e+02  dj_dw: -1.781e-01, dj_db:  1.189e+01   w:  2.903e-01, b: 4.73063e+01\n",
      "Iteration 70000: Cost 2.72e+02  dj_dw: -1.737e-01, dj_db:  1.159e+01   w:  3.079e-01, b: 4.61324e+01\n",
      "Iteration 80000: Cost 2.59e+02  dj_dw: -1.694e-01, dj_db:  1.131e+01   w:  3.251e-01, b: 4.49876e+01\n",
      "Iteration 90000: Cost 2.46e+02  dj_dw: -1.652e-01, dj_db:  1.103e+01   w:  3.418e-01, b: 4.38711e+01\n",
      "(w,b) found by gradient descent: (  0.3581, 42.7824)\n"
     ]
    }
   ],
   "source": [
    "# Gradient descent settings\n",
    "iterations = 100000\n",
    "alpha = 1.0e-5\n",
    "gradient_descent = Gradient_Descent(compute_cost, compute_gradient, alpha, iterations)\n",
    "# run gradient descent\n",
    "w_final, b_final, J_hist, p_hist = gradient_descent.algorithm(cleaned_training['x'].to_numpy(), cleaned_training['y'].to_numpy(), 0, 55)\n",
    "print(f\"(w,b) found by gradient descent: ({w_final:8.4f},{b_final:8.4f})\")"
   ]
  },
  {
   "cell_type": "code",
   "execution_count": 36,
   "id": "c5d6a4ba",
   "metadata": {},
   "outputs": [
    {
     "name": "stdout",
     "output_type": "stream",
     "text": [
      "Iteration    0: Cost 4.36e+02  dj_dw: -5.846e+02, dj_db:  5.060e+00   w:  5.846e-04, b: 5.50000e+01\n",
      "Iteration 10000: Cost 3.83e+02  dj_dw: -2.065e-01, dj_db:  1.378e+01   w:  1.771e-01, b: 5.48646e+01\n",
      "Iteration 20000: Cost 3.81e+02  dj_dw: -2.060e-01, dj_db:  1.375e+01   w:  1.791e-01, b: 5.47270e+01\n",
      "Iteration 30000: Cost 3.79e+02  dj_dw: -2.054e-01, dj_db:  1.371e+01   w:  1.812e-01, b: 5.45897e+01\n",
      "Iteration 40000: Cost 3.77e+02  dj_dw: -2.049e-01, dj_db:  1.368e+01   w:  1.833e-01, b: 5.44527e+01\n",
      "Iteration 50000: Cost 3.75e+02  dj_dw: -2.044e-01, dj_db:  1.364e+01   w:  1.853e-01, b: 5.43161e+01\n",
      "Iteration 60000: Cost 3.73e+02  dj_dw: -2.039e-01, dj_db:  1.361e+01   w:  1.873e-01, b: 5.41799e+01\n",
      "Iteration 70000: Cost 3.72e+02  dj_dw: -2.034e-01, dj_db:  1.358e+01   w:  1.894e-01, b: 5.40439e+01\n",
      "Iteration 80000: Cost 3.70e+02  dj_dw: -2.029e-01, dj_db:  1.354e+01   w:  1.914e-01, b: 5.39083e+01\n",
      "Iteration 90000: Cost 3.68e+02  dj_dw: -2.024e-01, dj_db:  1.351e+01   w:  1.934e-01, b: 5.37731e+01\n",
      "(w,b) found by gradient descent: (  0.1955, 53.6382)\n"
     ]
    }
   ],
   "source": [
    "# Gradient descent settings\n",
    "iterations = 100000\n",
    "alpha = 1.0e-6\n",
    "gradient_descent = Gradient_Descent(compute_cost, compute_gradient, alpha, iterations)\n",
    "# run gradient descent\n",
    "w_final, b_final, J_hist, p_hist = gradient_descent.algorithm(cleaned_training['x'].to_numpy(), cleaned_training['y'].to_numpy(), 0, 55)\n",
    "print(f\"(w,b) found by gradient descent: ({w_final:8.4f},{b_final:8.4f})\")"
   ]
  },
  {
   "cell_type": "code",
   "execution_count": 37,
   "id": "617f76f4",
   "metadata": {},
   "outputs": [
    {
     "name": "stdout",
     "output_type": "stream",
     "text": [
      "Iteration    0: Cost 4.36e+02  dj_dw: -5.846e+02, dj_db:  5.060e+00   w:  5.846e-05, b: 5.50000e+01\n",
      "Iteration 10000: Cost 3.85e+02  dj_dw: -2.092e+01, dj_db:  1.350e+01   w:  1.690e-01, b: 5.49887e+01\n",
      "Iteration 20000: Cost 3.84e+02  dj_dw: -9.409e-01, dj_db:  1.380e+01   w:  1.752e-01, b: 5.49750e+01\n",
      "Iteration 30000: Cost 3.84e+02  dj_dw: -2.328e-01, dj_db:  1.381e+01   w:  1.756e-01, b: 5.49612e+01\n",
      "Iteration 40000: Cost 3.84e+02  dj_dw: -2.077e-01, dj_db:  1.380e+01   w:  1.758e-01, b: 5.49474e+01\n",
      "Iteration 50000: Cost 3.84e+02  dj_dw: -2.068e-01, dj_db:  1.380e+01   w:  1.760e-01, b: 5.49336e+01\n",
      "Iteration 60000: Cost 3.84e+02  dj_dw: -2.067e-01, dj_db:  1.380e+01   w:  1.763e-01, b: 5.49198e+01\n",
      "Iteration 70000: Cost 3.83e+02  dj_dw: -2.066e-01, dj_db:  1.379e+01   w:  1.765e-01, b: 5.49060e+01\n",
      "Iteration 80000: Cost 3.83e+02  dj_dw: -2.066e-01, dj_db:  1.379e+01   w:  1.767e-01, b: 5.48922e+01\n",
      "Iteration 90000: Cost 3.83e+02  dj_dw: -2.065e-01, dj_db:  1.378e+01   w:  1.769e-01, b: 5.48784e+01\n",
      "(w,b) found by gradient descent: (  0.1771, 54.8646)\n"
     ]
    }
   ],
   "source": [
    "# Gradient descent settings\n",
    "iterations = 100000\n",
    "alpha = 1.0e-7\n",
    "gradient_descent = Gradient_Descent(compute_cost, compute_gradient, alpha, iterations)\n",
    "# run gradient descent\n",
    "w_final, b_final, J_hist, p_hist = gradient_descent.algorithm(cleaned_training['x'].to_numpy(), cleaned_training['y'].to_numpy(), 0, 55)\n",
    "print(f\"(w,b) found by gradient descent: ({w_final:8.4f},{b_final:8.4f})\")"
   ]
  },
  {
   "cell_type": "markdown",
   "id": "7232f4fe",
   "metadata": {},
   "source": [
    "#### Using an alpha of 1.0e-4 has the lowest cost. Let's plot the model with the found parameters of w = 1.0001 and b = -0.0674 ."
   ]
  },
  {
   "cell_type": "code",
   "execution_count": 44,
   "id": "e0255e52",
   "metadata": {},
   "outputs": [
    {
     "data": {
      "image/png": "[encoded data removed]",
      "text/plain": [
       "<Figure size 432x288 with 1 Axes>"
      ]
     },
     "metadata": {
      "needs_background": "light"
     },
     "output_type": "display_data"
    }
   ],
   "source": [
    "w = 1.0001\n",
    "b = -0.0674\n",
    "x = np.linspace(-10, 110, 1000)\n",
    "f_x = w * x + b\n",
    "plt.plot(x, f_x, color='red')\n",
    "plt.scatter(cleaned_training['x'], cleaned_training['y'], s=.4)\n",
    "plt.title('Simple Univariate Linear Regression on Two Samples')\n",
    "plt.xlabel('x')\n",
    "plt.ylabel('y')\n",
    "plt.show()"
   ]
  },
  {
   "cell_type": "markdown",
   "id": "26091814",
   "metadata": {},
   "source": [
    "#### The model looks like a great fit to the training data! Let's now make predictions for our test data."
   ]
  },
  {
   "cell_type": "code",
   "execution_count": null,
   "id": "62a6946f",
   "metadata": {},
   "outputs": [],
   "source": []
  }
 ],
 "metadata": {
  "kernelspec": {
   "display_name": "Python 3 (ipykernel)",
   "language": "python",
   "name": "python3"
  },
  "language_info": {
   "codemirror_mode": {
    "name": "ipython",
    "version": 3
   },
   "file_extension": ".py",
   "mimetype": "text/x-python",
   "name": "python",
   "nbconvert_exporter": "python",
   "pygments_lexer": "ipython3",
   "version": "3.10.4"
  }
 },
 "nbformat": 4,
 "nbformat_minor": 5
}
