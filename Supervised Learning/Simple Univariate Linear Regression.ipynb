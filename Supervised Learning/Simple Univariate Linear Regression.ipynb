{
 "cells": [
  {
   "cell_type": "markdown",
   "id": "b4c8a39d",
   "metadata": {},
   "source": [
    "# Simple Univariate Linear Regression"
   ]
  },
  {
   "cell_type": "markdown",
   "id": "8c29ab12",
   "metadata": {},
   "source": [
    "Notebook by Anthony Rodriguez"
   ]
  },
  {
   "cell_type": "code",
   "execution_count": 1,
   "id": "ea43d371",
   "metadata": {},
   "outputs": [],
   "source": [
    "import os, math\n",
    "from pathlib import Path"
   ]
  },
  {
   "cell_type": "code",
   "execution_count": 109,
   "id": "0fc00c89",
   "metadata": {},
   "outputs": [],
   "source": [
    "import numpy as np\n",
    "import pandas as pd\n",
    "import matplotlib.pyplot as plt\n",
    "from sklearn.linear_model import LinearRegression\n",
    "from sklearn.linear_model import SGDRegressor\n",
    "from sklearn.preprocessing import StandardScaler"
   ]
  },
  {
   "cell_type": "markdown",
   "id": "064c981d",
   "metadata": {},
   "source": [
    "# Introduction"
   ]
  },
  {
   "cell_type": "markdown",
   "id": "58b1193d",
   "metadata": {},
   "source": [
    "This notebook displays exploratory data analysis (EDA) and linear regression on a [simple kaggle dataset for linear regression](https://www.kaggle.com/datasets/andonians/random-linear-regression) that needs no data cleaning. This data set is just going to be used to practice using basic EDA and linear regression with one variable."
   ]
  },
  {
   "cell_type": "markdown",
   "id": "799082e0",
   "metadata": {},
   "source": [
    "# Helper functions for EDA"
   ]
  },
  {
   "cell_type": "code",
   "execution_count": 3,
   "id": "ad9c2341",
   "metadata": {},
   "outputs": [],
   "source": [
    "def fetch_file(file, data_dir=\"data\"):\n",
    "    \"\"\"\n",
    "    Fetch a file that was previously downloaded into the data folder. \n",
    "    \n",
    "    file: the file in which to fetch\n",
    "    data_dir: (default=\"data\") the location to fetch the data\n",
    "    \n",
    "    return: The pathlib.Path object representing the file.\n",
    "    \"\"\"\n",
    "    data_dir = Path(data_dir)\n",
    "    data_dir.mkdir(exist_ok = True)\n",
    "    file_path = data_dir / Path(file)\n",
    "\n",
    "    return file_path"
   ]
  },
  {
   "cell_type": "code",
   "execution_count": 4,
   "id": "935ff80a",
   "metadata": {},
   "outputs": [],
   "source": [
    "def num_lines_in_file(file):\n",
    "    \"\"\"\n",
    "    Gets the number of lines in a file.\n",
    "    \n",
    "    file: the file\n",
    "    \n",
    "    return: The number of lines in a file.\n",
    "    \"\"\"\n",
    "    with open(file, 'r') as f:\n",
    "        num_lines = sum(1 for l in f)\n",
    "        \n",
    "    return num_lines"
   ]
  },
  {
   "cell_type": "code",
   "execution_count": 5,
   "id": "cebb518f",
   "metadata": {},
   "outputs": [],
   "source": [
    "def print_file_contents(file, num_lines=20):\n",
    "    \"\"\"\n",
    "    Prints the file contents.\n",
    "    \n",
    "    file: The file.\n",
    "    num_lines: (default=20) The number of lines in the file to print.\n",
    "    \"\"\"\n",
    "    print(f'{file} ===========================')\n",
    "    \n",
    "    with open(file,'r') as f:\n",
    "        for i in range(num_lines):\n",
    "            print(f'{i}\\t{repr(f.readline())}')"
   ]
  },
  {
   "cell_type": "code",
   "execution_count": 6,
   "id": "074d86a9",
   "metadata": {},
   "outputs": [],
   "source": [
    "def print_dataframe_shape(df):\n",
    "    \"\"\"\n",
    "    Prints the shape of the DataFrame.\n",
    "    \n",
    "    df: The DataFrame.\n",
    "    \"\"\"\n",
    "    num_rows, num_cols = df.shape\n",
    "    print(f'Number of rows in data frame: {num_rows}')\n",
    "    print(f'Number of columns in data fram: {num_cols}')"
   ]
  },
  {
   "cell_type": "markdown",
   "id": "b9fd37d5",
   "metadata": {},
   "source": [
    "# Exploratory Data Analysis (EDA)"
   ]
  },
  {
   "cell_type": "markdown",
   "id": "409ec14a",
   "metadata": {},
   "source": [
    "#### The file is already downloaded. Let's fetch the downloaded file from the data directory."
   ]
  },
  {
   "cell_type": "code",
   "execution_count": 7,
   "id": "11bd2a9b",
   "metadata": {},
   "outputs": [],
   "source": [
    "training_set_filename = \"train.csv\"\n",
    "test_set_filename = \"test.csv\""
   ]
  },
  {
   "cell_type": "code",
   "execution_count": 8,
   "id": "7f77a22b",
   "metadata": {},
   "outputs": [
    {
     "data": {
      "text/plain": [
       "WindowsPath('data/train.csv')"
      ]
     },
     "execution_count": 8,
     "metadata": {},
     "output_type": "execute_result"
    }
   ],
   "source": [
    "training_set_file = fetch_file(training_set_filename)\n",
    "training_set_file"
   ]
  },
  {
   "cell_type": "markdown",
   "id": "bb79cc44",
   "metadata": {},
   "source": [
    "#### Let's look at the size of the file."
   ]
  },
  {
   "cell_type": "code",
   "execution_count": 9,
   "id": "48d35791",
   "metadata": {},
   "outputs": [
    {
     "name": "stdout",
     "output_type": "stream",
     "text": [
      "training_set_file is 0.010384 MB\n"
     ]
    }
   ],
   "source": [
    "print(f'training_set_file is {os.path.getsize(training_set_file) / 1e6} MB')"
   ]
  },
  {
   "cell_type": "markdown",
   "id": "45337feb",
   "metadata": {},
   "source": [
    "#### Let's look at the number of lines in the training set."
   ]
  },
  {
   "cell_type": "code",
   "execution_count": 10,
   "id": "490917b4",
   "metadata": {},
   "outputs": [
    {
     "name": "stdout",
     "output_type": "stream",
     "text": [
      "The training set file has 701 lines of data.\n"
     ]
    }
   ],
   "source": [
    "num_lines = num_lines_in_file(training_set_file)\n",
    "print(f'The training set file has {num_lines} lines of data.')"
   ]
  },
  {
   "cell_type": "markdown",
   "id": "1bd6ff1e",
   "metadata": {},
   "source": [
    "#### Let's check the contents of the file to make sure it is a csv file."
   ]
  },
  {
   "cell_type": "code",
   "execution_count": 11,
   "id": "4609b7d4",
   "metadata": {
    "scrolled": true
   },
   "outputs": [
    {
     "name": "stdout",
     "output_type": "stream",
     "text": [
      "data\\train.csv ===========================\n",
      "0\t'x,y\\n'\n",
      "1\t'24,21.54945196\\n'\n",
      "2\t'50,47.46446305\\n'\n",
      "3\t'15,17.21865634\\n'\n",
      "4\t'38,36.58639803\\n'\n",
      "5\t'87,87.28898389\\n'\n",
      "6\t'36,32.46387493\\n'\n",
      "7\t'12,10.78089683\\n'\n",
      "8\t'81,80.7633986\\n'\n",
      "9\t'25,24.61215147\\n'\n",
      "10\t'5,6.963319071\\n'\n",
      "11\t'16,11.23757338\\n'\n",
      "12\t'16,13.53290206\\n'\n",
      "13\t'24,24.60323899\\n'\n",
      "14\t'39,39.40049976\\n'\n",
      "15\t'54,48.43753838\\n'\n",
      "16\t'60,61.69900319\\n'\n",
      "17\t'26,26.92832418\\n'\n",
      "18\t'73,70.4052055\\n'\n",
      "19\t'29,29.34092408\\n'\n"
     ]
    }
   ],
   "source": [
    "print_file_contents(training_set_file)"
   ]
  },
  {
   "cell_type": "markdown",
   "id": "f0c19a05",
   "metadata": {},
   "source": [
    "#### File looks like a standard csv file with two columns of real numbers. First line contains the column headings. \n",
    "\n",
    "#### Let's create a data frame"
   ]
  },
  {
   "cell_type": "code",
   "execution_count": 12,
   "id": "8667cf62",
   "metadata": {
    "scrolled": false
   },
   "outputs": [
    {
     "data": {
      "text/html": [
       "<div>\n",
       "<style scoped>\n",
       "    .dataframe tbody tr th:only-of-type {\n",
       "        vertical-align: middle;\n",
       "    }\n",
       "\n",
       "    .dataframe tbody tr th {\n",
       "        vertical-align: top;\n",
       "    }\n",
       "\n",
       "    .dataframe thead th {\n",
       "        text-align: right;\n",
       "    }\n",
       "</style>\n",
       "<table border=\"1\" class=\"dataframe\">\n",
       "  <thead>\n",
       "    <tr style=\"text-align: right;\">\n",
       "      <th></th>\n",
       "      <th>x</th>\n",
       "      <th>y</th>\n",
       "    </tr>\n",
       "  </thead>\n",
       "  <tbody>\n",
       "    <tr>\n",
       "      <th>0</th>\n",
       "      <td>24.0</td>\n",
       "      <td>21.549452</td>\n",
       "    </tr>\n",
       "    <tr>\n",
       "      <th>1</th>\n",
       "      <td>50.0</td>\n",
       "      <td>47.464463</td>\n",
       "    </tr>\n",
       "    <tr>\n",
       "      <th>2</th>\n",
       "      <td>15.0</td>\n",
       "      <td>17.218656</td>\n",
       "    </tr>\n",
       "    <tr>\n",
       "      <th>3</th>\n",
       "      <td>38.0</td>\n",
       "      <td>36.586398</td>\n",
       "    </tr>\n",
       "    <tr>\n",
       "      <th>4</th>\n",
       "      <td>87.0</td>\n",
       "      <td>87.288984</td>\n",
       "    </tr>\n",
       "  </tbody>\n",
       "</table>\n",
       "</div>"
      ],
      "text/plain": [
       "      x          y\n",
       "0  24.0  21.549452\n",
       "1  50.0  47.464463\n",
       "2  15.0  17.218656\n",
       "3  38.0  36.586398\n",
       "4  87.0  87.288984"
      ]
     },
     "execution_count": 12,
     "metadata": {},
     "output_type": "execute_result"
    }
   ],
   "source": [
    "training = pd.read_csv(training_set_file)\n",
    "training.head()"
   ]
  },
  {
   "cell_type": "code",
   "execution_count": 13,
   "id": "6c9b975b",
   "metadata": {},
   "outputs": [
    {
     "name": "stdout",
     "output_type": "stream",
     "text": [
      "Number of rows in data frame: 700\n",
      "Number of columns in data fram: 2\n"
     ]
    }
   ],
   "source": [
    "print_dataframe_shape(training)"
   ]
  },
  {
   "cell_type": "markdown",
   "id": "f9055f3a",
   "metadata": {},
   "source": [
    "#### The number of rows is 700 which is one less then what we seen before when checking the number of rows in the entire file. This is because the file contains a header row which states the names of each column (x and y)."
   ]
  },
  {
   "cell_type": "code",
   "execution_count": 14,
   "id": "0e7b54e5",
   "metadata": {
    "scrolled": false
   },
   "outputs": [
    {
     "data": {
      "image/png": "[encoded data removed]",
      "text/plain": [
       "<Figure size 432x288 with 1 Axes>"
      ]
     },
     "metadata": {
      "needs_background": "light"
     },
     "output_type": "display_data"
    }
   ],
   "source": [
    "# Plot the data points.\n",
    "plt.scatter(training['x'], training['y'], s=.5)\n",
    "plt.title('Simple Univariate Linear Regression')\n",
    "plt.xlabel('x')\n",
    "plt.ylabel('y')\n",
    "plt.show()"
   ]
  },
  {
   "cell_type": "markdown",
   "id": "0f4b0583",
   "metadata": {},
   "source": [
    "#### Let's make sure all data is numeric."
   ]
  },
  {
   "cell_type": "code",
   "execution_count": 15,
   "id": "5cbfeec9",
   "metadata": {
    "scrolled": true
   },
   "outputs": [
    {
     "data": {
      "text/plain": [
       "x    float64\n",
       "y    float64\n",
       "dtype: object"
      ]
     },
     "execution_count": 15,
     "metadata": {},
     "output_type": "execute_result"
    }
   ],
   "source": [
    "training.dtypes"
   ]
  },
  {
   "cell_type": "code",
   "execution_count": 16,
   "id": "a18817b2",
   "metadata": {
    "scrolled": true
   },
   "outputs": [
    {
     "data": {
      "text/plain": [
       "False"
      ]
     },
     "execution_count": 16,
     "metadata": {},
     "output_type": "execute_result"
    }
   ],
   "source": [
    "training['x'].isnull().values.any()"
   ]
  },
  {
   "cell_type": "code",
   "execution_count": 17,
   "id": "27ba71a7",
   "metadata": {
    "scrolled": true
   },
   "outputs": [
    {
     "data": {
      "text/plain": [
       "True"
      ]
     },
     "execution_count": 17,
     "metadata": {},
     "output_type": "execute_result"
    }
   ],
   "source": [
    "training['y'].isnull().values.any()"
   ]
  },
  {
   "cell_type": "code",
   "execution_count": 18,
   "id": "6e6e7801",
   "metadata": {},
   "outputs": [
    {
     "data": {
      "text/plain": [
       "1"
      ]
     },
     "execution_count": 18,
     "metadata": {},
     "output_type": "execute_result"
    }
   ],
   "source": [
    "training['y'].isnull().sum()"
   ]
  },
  {
   "cell_type": "markdown",
   "id": "20a4e43d",
   "metadata": {},
   "source": [
    "#### There is a value in the y column that is NaN. Only one exists. I think we can just get rid of the sample that has a NaN for a y-value and our model will be fine. Let's find the index of this sample and then remove it from our data frame."
   ]
  },
  {
   "cell_type": "code",
   "execution_count": 19,
   "id": "d711f5cd",
   "metadata": {
    "scrolled": true
   },
   "outputs": [
    {
     "data": {
      "text/html": [
       "<div>\n",
       "<style scoped>\n",
       "    .dataframe tbody tr th:only-of-type {\n",
       "        vertical-align: middle;\n",
       "    }\n",
       "\n",
       "    .dataframe tbody tr th {\n",
       "        vertical-align: top;\n",
       "    }\n",
       "\n",
       "    .dataframe thead th {\n",
       "        text-align: right;\n",
       "    }\n",
       "</style>\n",
       "<table border=\"1\" class=\"dataframe\">\n",
       "  <thead>\n",
       "    <tr style=\"text-align: right;\">\n",
       "      <th></th>\n",
       "      <th>x</th>\n",
       "      <th>y</th>\n",
       "    </tr>\n",
       "  </thead>\n",
       "  <tbody>\n",
       "    <tr>\n",
       "      <th>213</th>\n",
       "      <td>3530.157369</td>\n",
       "      <td>NaN</td>\n",
       "    </tr>\n",
       "  </tbody>\n",
       "</table>\n",
       "</div>"
      ],
      "text/plain": [
       "               x   y\n",
       "213  3530.157369 NaN"
      ]
     },
     "execution_count": 19,
     "metadata": {},
     "output_type": "execute_result"
    }
   ],
   "source": [
    "training[training['y'].isnull()]"
   ]
  },
  {
   "cell_type": "code",
   "execution_count": 20,
   "id": "98f0f685",
   "metadata": {
    "scrolled": true
   },
   "outputs": [],
   "source": [
    "cleaned_training = training.drop(213)"
   ]
  },
  {
   "cell_type": "code",
   "execution_count": 21,
   "id": "db6594b2",
   "metadata": {},
   "outputs": [
    {
     "data": {
      "text/plain": [
       "False"
      ]
     },
     "execution_count": 21,
     "metadata": {},
     "output_type": "execute_result"
    }
   ],
   "source": [
    "cleaned_training['y'].isnull().values.any()"
   ]
  },
  {
   "cell_type": "code",
   "execution_count": 22,
   "id": "4a2d113a",
   "metadata": {
    "scrolled": true
   },
   "outputs": [
    {
     "data": {
      "text/plain": [
       "False"
      ]
     },
     "execution_count": 22,
     "metadata": {},
     "output_type": "execute_result"
    }
   ],
   "source": [
    "cleaned_training['x'].isnull().values.any()"
   ]
  },
  {
   "cell_type": "code",
   "execution_count": 23,
   "id": "27a8b365",
   "metadata": {},
   "outputs": [
    {
     "name": "stdout",
     "output_type": "stream",
     "text": [
      "Number of rows in data frame: 699\n",
      "Number of columns in data fram: 2\n"
     ]
    }
   ],
   "source": [
    "print_dataframe_shape(cleaned_training)"
   ]
  },
  {
   "cell_type": "markdown",
   "id": "dc3cfb7c",
   "metadata": {},
   "source": [
    "# Training a Univariate Linear Regression Model"
   ]
  },
  {
   "cell_type": "markdown",
   "id": "2a03592a",
   "metadata": {},
   "source": [
    "#### This data will allow us to use a linear function $f$ of one variable $x$. That is, $f_{w,b}(x) = wx + b$. \n",
    "\n",
    "$w$ and $b$ are parameters we must find.\n",
    "\n",
    "#### We can do this by minimizing the cost $J(w,b) = \\frac{1}{2m}\\sum\\limits^{m-1}_{i=0}(f_{w,b}(x^{(i)}) - y^{(i)})^{2}$\n",
    "#### $f_{w,b}(x) = wx + b$ is the estimated cost.\n",
    "#### $y^{(i)}$ is the true cost.\n",
    "\n",
    "#### In order to find $w$ and $b$ by minimizing the cost $J(w,b)$, we must use it's gradient\n",
    "\n",
    "$$\n",
    "\\begin{align}\n",
    "\\frac{\\partial J(w,b)}{\\partial w}  &= \\frac{1}{m} \\sum\\limits_{i = 0}^{m-1} (f_{w,b}(x^{(i)}) - y^{(i)})x^{(i)} \\newline\n",
    "  \\frac{\\partial J(w,b)}{\\partial b}  &= \\frac{1}{m} \\sum\\limits_{i = 0}^{m-1} (f_{w,b}(x^{(i)}) - y^{(i)})\n",
    "\\end{align}\n",
    "$$\n",
    "\n",
    "#### We then repeat until convergence\n",
    "\n",
    "$$\\begin{align*} \\newline\n",
    "\\;  w &= w -  \\alpha \\frac{\\partial J(w,b)}{\\partial w} \\newline \n",
    " b &= b -  \\alpha \\frac{\\partial J(w,b)}{\\partial b}  \\newline\n",
    "\\end{align*}$$\n",
    "\n",
    "#### where, parameters $w$, $b$ are updated simultaneously.  "
   ]
  },
  {
   "cell_type": "code",
   "execution_count": 24,
   "id": "0e2b4b59",
   "metadata": {},
   "outputs": [],
   "source": [
    "def compute_loss(x, y, w, b, i):\n",
    "    \"\"\"\n",
    "    Creates a linear model using parameters w and b to\n",
    "    compute a predicted value with the ith training example\n",
    "    and then computes the loss of the predicted value.\n",
    "    \n",
    "    x: The training example.\n",
    "    y: The target/actual value.\n",
    "    w: The weight of the feature/training example x.\n",
    "    b: A model parameter.\n",
    "    i: The index of the training example.\n",
    "    \n",
    "    returns: The loss/error of the model prediction of the ith training example.\n",
    "    \"\"\"\n",
    "    f_xi = w * x[i] + b\n",
    "    return f_xi - y[i]"
   ]
  },
  {
   "cell_type": "code",
   "execution_count": 25,
   "id": "704d1ec1",
   "metadata": {},
   "outputs": [],
   "source": [
    "def compute_mse(x, y, w, b):\n",
    "    \"\"\"\n",
    "    Computes the mean-squared error of the model.\n",
    "    \n",
    "    x: The training example.\n",
    "    y: The target/actual value.\n",
    "    w: The weight of the feature/training example x.\n",
    "    b: A model parameter.\n",
    "    \n",
    "    returns: The mean-squared error.\n",
    "    \"\"\"\n",
    "    m = x.shape[0]\n",
    "    i = 0\n",
    "    total_loss = 0\n",
    "    \n",
    "    while i < m:\n",
    "        loss_i = compute_loss(x, y, w, b, i)\n",
    "        total_loss = total_loss + (loss_i**2)\n",
    "        i += 1\n",
    "    \n",
    "    return total_loss / m\n",
    "        "
   ]
  },
  {
   "cell_type": "code",
   "execution_count": 26,
   "id": "fa9d8074",
   "metadata": {},
   "outputs": [],
   "source": [
    "def compute_cost(x, y, w, b):\n",
    "    \"\"\"\n",
    "    The model cost.\n",
    "    \n",
    "    x: The training examples.\n",
    "    y: The target values.\n",
    "    w: The weight of the features/training examples x.\n",
    "    b: A model parameter.\n",
    "    \n",
    "    returns: The cost of the model.\n",
    "    \"\"\"\n",
    "    return compute_mse(x, y, w, b) / 2"
   ]
  },
  {
   "cell_type": "code",
   "execution_count": 27,
   "id": "ca9c429c",
   "metadata": {},
   "outputs": [
    {
     "data": {
      "text/plain": [
       "7.873654280369422"
      ]
     },
     "execution_count": 27,
     "metadata": {},
     "output_type": "execute_result"
    }
   ],
   "source": [
    "compute_mse(cleaned_training['x'].to_numpy(), cleaned_training['y'].to_numpy(), 1, 0)\n"
   ]
  },
  {
   "cell_type": "code",
   "execution_count": 28,
   "id": "c19c9687",
   "metadata": {},
   "outputs": [],
   "source": [
    "def compute_gradient(x, y, w, b):\n",
    "    \"\"\"\n",
    "    Computes the gradient for linear regression.\n",
    "    \n",
    "    x: The training examples.\n",
    "    y: The target values.\n",
    "    w: The weight of the features/training examples x.\n",
    "    b: A model parameter.\n",
    "    \n",
    "    returns: The gradient w.r.t. w and the gradient w.r.t. b\n",
    "    \"\"\"\n",
    "    m = x.shape[0]\n",
    "    i = 0\n",
    "    loss = 0\n",
    "    dj_dw = 0\n",
    "    dj_db = 0\n",
    "    \n",
    "    while i < m:\n",
    "        loss = compute_loss(x, y, w, b, i)\n",
    "        dj_dw_i = loss * x[i]\n",
    "        dj_db_i = loss\n",
    "        dj_dw += dj_dw_i\n",
    "        dj_db += dj_db_i\n",
    "        i += 1\n",
    "        \n",
    "    dj_dw, dj_db = dj_dw  / m, dj_db / m\n",
    "    return dj_dw, dj_db"
   ]
  },
  {
   "cell_type": "code",
   "execution_count": 29,
   "id": "7b5e211b",
   "metadata": {},
   "outputs": [],
   "source": [
    "class Gradient_Descent:\n",
    "    \"\"\"\n",
    "    A class for the gradient descent algorithm.\n",
    "    \"\"\"\n",
    "    def __init__(self, cost_function, gradient_function, alpha, max_iters):\n",
    "        \"\"\"\n",
    "        Creates an Gradient_Descent object.\n",
    "        \n",
    "        self: A Gradient_Descent object.\n",
    "        cost_function: A function that computes the model cost.\n",
    "        gradient_function: A function that computes the gradient.\n",
    "        alpha: The learning rate.\n",
    "        max_iters: The maximum number of iterations of the gradient descent algorithm.\n",
    "        \"\"\"\n",
    "        self.cost_function = cost_function\n",
    "        self.gradient_function = gradient_function\n",
    "        self.alpha = alpha\n",
    "        self.max_iters = max_iters\n",
    "        \n",
    "    def algorithm(self, x_train, y_train, w = 0, b = 0):\n",
    "        '''\n",
    "        Much of this gradient descent code is from Andrew Ng's Machine Learning course.\n",
    "        \n",
    "        The gradient descent algorithm.\n",
    "        \n",
    "        self: A Gradient_Descent object.\n",
    "        x_train: The training examples.\n",
    "        y_train: The targets.\n",
    "        w: The parameter/weight of the training examples.\n",
    "        b: A model parameter.\n",
    "        '''\n",
    "        # An array to store cost J and w's at each iteration primarily for graphing later\n",
    "        J_history = []\n",
    "        p_history = []\n",
    "        \n",
    "        for i in range(self.max_iters):\n",
    "            # Calculate the gradient and update the parameters using gradient_function\n",
    "            dj_dw, dj_db = self.gradient_function(x_train, y_train, w , b)\n",
    "            \n",
    "            # Record old parameters\n",
    "            last_b, last_w = b, w\n",
    "\n",
    "            # Update Parameters\n",
    "            b = b - alpha * dj_db                            \n",
    "            w = w - alpha * dj_dw\n",
    "            \n",
    "            # Check if new parameters are equal to the last iterations parameters\n",
    "            if self.are_equal(b, last_b) and self.are_equal(w, last_w):\n",
    "                print('Convergence')\n",
    "                print(f\"Iteration {i:4}: Cost {J_history[-1]:0.2e} \",\n",
    "                      f\"dj_dw: {dj_dw: 0.3e}, dj_db: {dj_db: 0.3e}  \",\n",
    "                      f\"w: {w: 0.3e}, b:{b: 0.5e}\")\n",
    "                break\n",
    "                \n",
    "            # Save cost J at each iteration\n",
    "            if i<100000:      # prevent resource exhaustion \n",
    "                J_history.append(self.cost_function(x_train, y_train, w , b))\n",
    "                p_history.append([w,b])\n",
    "            # Print cost every at intervals 10 times or as many iterations if < 10\n",
    "            if i% math.ceil(self.max_iters/10) == 0:\n",
    "                print(f\"Iteration {i:4}: Cost {J_history[-1]:0.2e} \",\n",
    "                      f\"dj_dw: {dj_dw: 0.3e}, dj_db: {dj_db: 0.3e}  \",\n",
    "                      f\"w: {w: 0.3e}, b:{b: 0.5e}\")\n",
    "\n",
    "        return w, b, J_history, p_history #return w and J,w history for graphing\n",
    "    \n",
    "    def are_equal(self, old_val, new_val, epsilon = 1.0e-6):\n",
    "        return abs(old_val - new_val) < epsilon"
   ]
  },
  {
   "cell_type": "markdown",
   "id": "c2eeb810",
   "metadata": {},
   "source": [
    "#### Let's test the implementation with two training points."
   ]
  },
  {
   "cell_type": "code",
   "execution_count": 30,
   "id": "0b0ca8e8",
   "metadata": {},
   "outputs": [],
   "source": [
    "x_train = np.array([1.0, 2.0])   #features\n",
    "y_train = np.array([300.0, 500.0])   #target value"
   ]
  },
  {
   "cell_type": "markdown",
   "id": "8255d800",
   "metadata": {},
   "source": [
    "#### Let's plot the two points."
   ]
  },
  {
   "cell_type": "code",
   "execution_count": 31,
   "id": "3e0537b4",
   "metadata": {
    "scrolled": false
   },
   "outputs": [
    {
     "data": {
      "image/png": "[encoded data removed]",
      "text/plain": [
       "<Figure size 432x288 with 1 Axes>"
      ]
     },
     "metadata": {
      "needs_background": "light"
     },
     "output_type": "display_data"
    }
   ],
   "source": [
    "# Plot the data points.\n",
    "plt.scatter(x_train, y_train)\n",
    "plt.title('Simple Univariate Linear Regression on Two Samples')\n",
    "plt.xlabel('x')\n",
    "plt.ylabel('y')\n",
    "plt.show()"
   ]
  },
  {
   "cell_type": "markdown",
   "id": "e73f4574",
   "metadata": {},
   "source": [
    "#### Let's run gradient descent to find the model parameters."
   ]
  },
  {
   "cell_type": "code",
   "execution_count": 32,
   "id": "d9e6be05",
   "metadata": {
    "scrolled": false
   },
   "outputs": [
    {
     "name": "stdout",
     "output_type": "stream",
     "text": [
      "Iteration    0: Cost 7.93e+04  dj_dw: -6.500e+02, dj_db: -4.000e+02   w:  6.500e+00, b: 4.00000e+00\n",
      "Iteration 1000: Cost 3.41e+00  dj_dw: -3.712e-01, dj_db:  6.007e-01   w:  1.949e+02, b: 1.08228e+02\n",
      "Iteration 2000: Cost 7.93e-01  dj_dw: -1.789e-01, dj_db:  2.895e-01   w:  1.975e+02, b: 1.03966e+02\n",
      "Iteration 3000: Cost 1.84e-01  dj_dw: -8.625e-02, dj_db:  1.396e-01   w:  1.988e+02, b: 1.01912e+02\n",
      "Iteration 4000: Cost 4.28e-02  dj_dw: -4.158e-02, dj_db:  6.727e-02   w:  1.994e+02, b: 1.00922e+02\n",
      "Iteration 5000: Cost 9.95e-03  dj_dw: -2.004e-02, dj_db:  3.243e-02   w:  1.997e+02, b: 1.00444e+02\n",
      "Iteration 6000: Cost 2.31e-03  dj_dw: -9.660e-03, dj_db:  1.563e-02   w:  1.999e+02, b: 1.00214e+02\n",
      "Iteration 7000: Cost 5.37e-04  dj_dw: -4.657e-03, dj_db:  7.535e-03   w:  1.999e+02, b: 1.00103e+02\n",
      "Iteration 8000: Cost 1.25e-04  dj_dw: -2.245e-03, dj_db:  3.632e-03   w:  2.000e+02, b: 1.00050e+02\n",
      "Iteration 9000: Cost 2.90e-05  dj_dw: -1.082e-03, dj_db:  1.751e-03   w:  2.000e+02, b: 1.00024e+02\n",
      "(w,b) found by gradient descent: (199.9929,100.0116)\n"
     ]
    }
   ],
   "source": [
    "# Gradient descent settings\n",
    "iterations = 10000\n",
    "alpha = 1.0e-2\n",
    "gradient_descent = Gradient_Descent(compute_cost, compute_gradient, alpha, iterations)\n",
    "# run gradient descent\n",
    "w_final, b_final, J_hist, p_hist = gradient_descent.algorithm(x_train, y_train)\n",
    "print(f\"(w,b) found by gradient descent: ({w_final:8.4f},{b_final:8.4f})\")"
   ]
  },
  {
   "cell_type": "markdown",
   "id": "30ae3298",
   "metadata": {},
   "source": [
    "#### Let's plot the model againts the two points."
   ]
  },
  {
   "cell_type": "code",
   "execution_count": 33,
   "id": "39725905",
   "metadata": {},
   "outputs": [
    {
     "data": {
      "image/png": "[encoded data removed]",
      "text/plain": [
       "<Figure size 432x288 with 1 Axes>"
      ]
     },
     "metadata": {
      "needs_background": "light"
     },
     "output_type": "display_data"
    }
   ],
   "source": [
    "w = 199.9929\n",
    "b = 100.0116\n",
    "x = np.linspace(1, 2, 100)\n",
    "f_x = w * x + b\n",
    "plt.plot(x, f_x, color='red')\n",
    "plt.scatter(x_train, y_train)\n",
    "plt.title('Simple Univariate Linear Regression on Two Samples')\n",
    "plt.xlabel('x')\n",
    "plt.ylabel('y')\n",
    "plt.show()"
   ]
  },
  {
   "cell_type": "markdown",
   "id": "060265ce",
   "metadata": {},
   "source": [
    "#### The model looks good!\n",
    "#### Now let's run gradient descent on our initial training set using 100000 iterations and different alphas."
   ]
  },
  {
   "cell_type": "code",
   "execution_count": 34,
   "id": "d01655a9",
   "metadata": {},
   "outputs": [
    {
     "name": "stdout",
     "output_type": "stream",
     "text": [
      "Iteration    0: Cost 3.94e+00  dj_dw:  3.173e+00, dj_db:  7.444e-02   w:  9.997e-01, b:-7.44370e-06\n",
      "Iteration 10000: Cost 3.93e+00  dj_dw: -3.135e-04, dj_db:  2.093e-02   w:  9.994e-01, b:-2.37987e-02\n",
      "Iteration 20000: Cost 3.93e+00  dj_dw: -2.440e-04, dj_db:  1.629e-02   w:  9.997e-01, b:-4.23071e-02\n",
      "Iteration 30000: Cost 3.93e+00  dj_dw: -1.899e-04, dj_db:  1.267e-02   w:  9.999e-01, b:-5.67113e-02\n",
      "Convergence\n",
      "Iteration 39453: Cost 3.93e+00  dj_dw: -1.498e-04, dj_db:  1.000e-02   w:  1.000e+00, b:-6.73782e-02\n",
      "(w,b) found by gradient descent: (  1.0001, -0.0674)\n"
     ]
    }
   ],
   "source": [
    "# Gradient descent settings\n",
    "iterations = 100000\n",
    "alpha = 1.0e-4\n",
    "gradient_descent = Gradient_Descent(compute_cost, compute_gradient, alpha, iterations)\n",
    "# run gradient descent\n",
    "w_final, b_final, J_hist, p_hist = gradient_descent.algorithm(cleaned_training['x'].to_numpy(), cleaned_training['y'].to_numpy(), 1, 0)\n",
    "print(f\"(w,b) found by gradient descent: ({w_final:8.4f},{b_final:8.4f})\")"
   ]
  },
  {
   "cell_type": "code",
   "execution_count": 35,
   "id": "cc4b62a9",
   "metadata": {},
   "outputs": [
    {
     "data": {
      "image/png": "[encoded data removed]",
      "text/plain": [
       "<Figure size 864x288 with 2 Axes>"
      ]
     },
     "metadata": {
      "needs_background": "light"
     },
     "output_type": "display_data"
    }
   ],
   "source": [
    "# plot cost versus iteration  \n",
    "fig, (ax1, ax2) = plt.subplots(1, 2, constrained_layout=True, figsize=(12, 4))\n",
    "ax1.plot(J_hist)\n",
    "ax2.plot(30000 + np.arange(len(J_hist[30000:])), J_hist[30000:])\n",
    "ax1.set_title(\"Cost vs. iteration (1.0e-4 learning rate)\");  ax2.set_title(\"Cost vs. iteration (tail; 1.0e-4 learning rate)\")\n",
    "ax1.set_ylabel('Cost')             ;  ax2.set_ylabel('Cost') \n",
    "ax1.set_xlabel('iteration step')   ;  ax2.set_xlabel('iteration step') \n",
    "plt.show()"
   ]
  },
  {
   "cell_type": "code",
   "execution_count": 36,
   "id": "fd19b093",
   "metadata": {
    "scrolled": true
   },
   "outputs": [
    {
     "name": "stdout",
     "output_type": "stream",
     "text": [
      "Iteration    0: Cost 4.33e+02  dj_dw: -5.846e+02, dj_db:  5.060e+00   w:  5.846e-03, b: 5.49999e+01\n",
      "Iteration 10000: Cost 3.66e+02  dj_dw: -2.019e-01, dj_db:  1.347e+01   w:  1.955e-01, b: 5.36381e+01\n",
      "Iteration 20000: Cost 3.48e+02  dj_dw: -1.969e-01, dj_db:  1.314e+01   w:  2.154e-01, b: 5.23074e+01\n",
      "Iteration 30000: Cost 3.32e+02  dj_dw: -1.920e-01, dj_db:  1.281e+01   w:  2.348e-01, b: 5.10097e+01\n",
      "Iteration 40000: Cost 3.16e+02  dj_dw: -1.872e-01, dj_db:  1.250e+01   w:  2.538e-01, b: 4.97442e+01\n",
      "Iteration 50000: Cost 3.00e+02  dj_dw: -1.826e-01, dj_db:  1.219e+01   w:  2.723e-01, b: 4.85099e+01\n",
      "Iteration 60000: Cost 2.86e+02  dj_dw: -1.781e-01, dj_db:  1.189e+01   w:  2.903e-01, b: 4.73063e+01\n",
      "Iteration 70000: Cost 2.72e+02  dj_dw: -1.737e-01, dj_db:  1.159e+01   w:  3.079e-01, b: 4.61324e+01\n",
      "Iteration 80000: Cost 2.59e+02  dj_dw: -1.694e-01, dj_db:  1.131e+01   w:  3.251e-01, b: 4.49876e+01\n",
      "Iteration 90000: Cost 2.46e+02  dj_dw: -1.652e-01, dj_db:  1.103e+01   w:  3.418e-01, b: 4.38711e+01\n",
      "(w,b) found by gradient descent: (  0.3581, 42.7824)\n"
     ]
    }
   ],
   "source": [
    "# Gradient descent settings\n",
    "iterations = 100000\n",
    "alpha = 1.0e-5\n",
    "gradient_descent = Gradient_Descent(compute_cost, compute_gradient, alpha, iterations)\n",
    "# run gradient descent\n",
    "w_final, b_final, J_hist, p_hist = gradient_descent.algorithm(cleaned_training['x'].to_numpy(), cleaned_training['y'].to_numpy(), 0, 55)\n",
    "print(f\"(w,b) found by gradient descent: ({w_final:8.4f},{b_final:8.4f})\")"
   ]
  },
  {
   "cell_type": "code",
   "execution_count": 37,
   "id": "0bfee178",
   "metadata": {},
   "outputs": [
    {
     "data": {
      "image/png": "[encoded data removed]",
      "text/plain": [
       "<Figure size 864x288 with 2 Axes>"
      ]
     },
     "metadata": {
      "needs_background": "light"
     },
     "output_type": "display_data"
    }
   ],
   "source": [
    "# plot cost versus iteration  \n",
    "fig, (ax1, ax2) = plt.subplots(1, 2, constrained_layout=True, figsize=(12, 4))\n",
    "ax1.plot(J_hist)\n",
    "ax2.plot(80000 + np.arange(len(J_hist[80000:])), J_hist[80000:])\n",
    "ax1.set_title(\"Cost vs. iteration (1.0e-5 learning rate)\");  ax2.set_title(\"Cost vs. iteration (tail; 1.0e-5 learning rate)\")\n",
    "ax1.set_ylabel('Cost')             ;  ax2.set_ylabel('Cost') \n",
    "ax1.set_xlabel('iteration step')   ;  ax2.set_xlabel('iteration step') \n",
    "plt.show()"
   ]
  },
  {
   "cell_type": "code",
   "execution_count": 38,
   "id": "c5d6a4ba",
   "metadata": {},
   "outputs": [
    {
     "name": "stdout",
     "output_type": "stream",
     "text": [
      "Iteration    0: Cost 4.36e+02  dj_dw: -5.846e+02, dj_db:  5.060e+00   w:  5.846e-04, b: 5.50000e+01\n",
      "Iteration 10000: Cost 3.83e+02  dj_dw: -2.065e-01, dj_db:  1.378e+01   w:  1.771e-01, b: 5.48646e+01\n",
      "Iteration 20000: Cost 3.81e+02  dj_dw: -2.060e-01, dj_db:  1.375e+01   w:  1.791e-01, b: 5.47270e+01\n",
      "Iteration 30000: Cost 3.79e+02  dj_dw: -2.054e-01, dj_db:  1.371e+01   w:  1.812e-01, b: 5.45897e+01\n",
      "Iteration 40000: Cost 3.77e+02  dj_dw: -2.049e-01, dj_db:  1.368e+01   w:  1.833e-01, b: 5.44527e+01\n",
      "Iteration 50000: Cost 3.75e+02  dj_dw: -2.044e-01, dj_db:  1.364e+01   w:  1.853e-01, b: 5.43161e+01\n",
      "Iteration 60000: Cost 3.73e+02  dj_dw: -2.039e-01, dj_db:  1.361e+01   w:  1.873e-01, b: 5.41799e+01\n",
      "Iteration 70000: Cost 3.72e+02  dj_dw: -2.034e-01, dj_db:  1.358e+01   w:  1.894e-01, b: 5.40439e+01\n",
      "Iteration 80000: Cost 3.70e+02  dj_dw: -2.029e-01, dj_db:  1.354e+01   w:  1.914e-01, b: 5.39083e+01\n",
      "Iteration 90000: Cost 3.68e+02  dj_dw: -2.024e-01, dj_db:  1.351e+01   w:  1.934e-01, b: 5.37731e+01\n",
      "(w,b) found by gradient descent: (  0.1955, 53.6382)\n"
     ]
    }
   ],
   "source": [
    "# Gradient descent settings\n",
    "iterations = 100000\n",
    "alpha = 1.0e-6\n",
    "gradient_descent = Gradient_Descent(compute_cost, compute_gradient, alpha, iterations)\n",
    "# run gradient descent\n",
    "w_final, b_final, J_hist, p_hist = gradient_descent.algorithm(cleaned_training['x'].to_numpy(), cleaned_training['y'].to_numpy(), 0, 55)\n",
    "print(f\"(w,b) found by gradient descent: ({w_final:8.4f},{b_final:8.4f})\")"
   ]
  },
  {
   "cell_type": "code",
   "execution_count": 39,
   "id": "2e641907",
   "metadata": {},
   "outputs": [
    {
     "data": {
      "image/png": "[encoded data removed]",
      "text/plain": [
       "<Figure size 864x288 with 2 Axes>"
      ]
     },
     "metadata": {
      "needs_background": "light"
     },
     "output_type": "display_data"
    }
   ],
   "source": [
    "# plot cost versus iteration  \n",
    "fig, (ax1, ax2) = plt.subplots(1, 2, constrained_layout=True, figsize=(12, 4))\n",
    "ax1.plot(J_hist)\n",
    "ax2.plot(80000 + np.arange(len(J_hist[80000:])), J_hist[80000:])\n",
    "ax1.set_title(\"Cost vs. iteration (1.0e-6 learning rate)\");  ax2.set_title(\"Cost vs. iteration (tail; 1.0e-6 learning rate)\")\n",
    "ax1.set_ylabel('Cost')             ;  ax2.set_ylabel('Cost') \n",
    "ax1.set_xlabel('iteration step')   ;  ax2.set_xlabel('iteration step') \n",
    "plt.show()"
   ]
  },
  {
   "cell_type": "code",
   "execution_count": 40,
   "id": "617f76f4",
   "metadata": {},
   "outputs": [
    {
     "name": "stdout",
     "output_type": "stream",
     "text": [
      "Iteration    0: Cost 4.36e+02  dj_dw: -5.846e+02, dj_db:  5.060e+00   w:  5.846e-05, b: 5.50000e+01\n",
      "Iteration 10000: Cost 3.85e+02  dj_dw: -2.092e+01, dj_db:  1.350e+01   w:  1.690e-01, b: 5.49887e+01\n",
      "Iteration 20000: Cost 3.84e+02  dj_dw: -9.409e-01, dj_db:  1.380e+01   w:  1.752e-01, b: 5.49750e+01\n",
      "Iteration 30000: Cost 3.84e+02  dj_dw: -2.328e-01, dj_db:  1.381e+01   w:  1.756e-01, b: 5.49612e+01\n",
      "Iteration 40000: Cost 3.84e+02  dj_dw: -2.077e-01, dj_db:  1.380e+01   w:  1.758e-01, b: 5.49474e+01\n",
      "Iteration 50000: Cost 3.84e+02  dj_dw: -2.068e-01, dj_db:  1.380e+01   w:  1.760e-01, b: 5.49336e+01\n",
      "Iteration 60000: Cost 3.84e+02  dj_dw: -2.067e-01, dj_db:  1.380e+01   w:  1.763e-01, b: 5.49198e+01\n",
      "Iteration 70000: Cost 3.83e+02  dj_dw: -2.066e-01, dj_db:  1.379e+01   w:  1.765e-01, b: 5.49060e+01\n",
      "Iteration 80000: Cost 3.83e+02  dj_dw: -2.066e-01, dj_db:  1.379e+01   w:  1.767e-01, b: 5.48922e+01\n",
      "Iteration 90000: Cost 3.83e+02  dj_dw: -2.065e-01, dj_db:  1.378e+01   w:  1.769e-01, b: 5.48784e+01\n",
      "(w,b) found by gradient descent: (  0.1771, 54.8646)\n"
     ]
    }
   ],
   "source": [
    "# Gradient descent settings\n",
    "iterations = 100000\n",
    "alpha = 1.0e-7\n",
    "gradient_descent = Gradient_Descent(compute_cost, compute_gradient, alpha, iterations)\n",
    "# run gradient descent\n",
    "w_final, b_final, J_hist, p_hist = gradient_descent.algorithm(cleaned_training['x'].to_numpy(), cleaned_training['y'].to_numpy(), 0, 55)\n",
    "print(f\"(w,b) found by gradient descent: ({w_final:8.4f},{b_final:8.4f})\")"
   ]
  },
  {
   "cell_type": "code",
   "execution_count": 41,
   "id": "4e7b3562",
   "metadata": {},
   "outputs": [
    {
     "data": {
      "image/png": "[encoded data removed]",
      "text/plain": [
       "<Figure size 864x288 with 2 Axes>"
      ]
     },
     "metadata": {
      "needs_background": "light"
     },
     "output_type": "display_data"
    }
   ],
   "source": [
    "# plot cost versus iteration  \n",
    "fig, (ax1, ax2) = plt.subplots(1, 2, constrained_layout=True, figsize=(12, 4))\n",
    "ax1.plot(J_hist)\n",
    "ax2.plot(80000 + np.arange(len(J_hist[80000:])), J_hist[80000:])\n",
    "ax1.set_title(\"Cost vs. iteration (1.0e-7 learning rate)\");  ax2.set_title(\"Cost vs. iteration (tail; 1.0e-6 learning rate)\")\n",
    "ax1.set_ylabel('Cost')             ;  ax2.set_ylabel('Cost') \n",
    "ax1.set_xlabel('iteration step')   ;  ax2.set_xlabel('iteration step') \n",
    "plt.show()"
   ]
  },
  {
   "cell_type": "markdown",
   "id": "7232f4fe",
   "metadata": {},
   "source": [
    "#### Using an alpha of 1.0e-4 has the lowest cost. Let's plot the model with the found parameters of w = 1.0001 and b = -0.0674 ."
   ]
  },
  {
   "cell_type": "code",
   "execution_count": 42,
   "id": "e0255e52",
   "metadata": {},
   "outputs": [
    {
     "data": {
      "image/png": "[encoded data removed]",
      "text/plain": [
       "<Figure size 432x288 with 1 Axes>"
      ]
     },
     "metadata": {
      "needs_background": "light"
     },
     "output_type": "display_data"
    }
   ],
   "source": [
    "w = 1.0001\n",
    "b = -0.0674\n",
    "x = np.linspace(-10, 110, 1000)\n",
    "f_x = w * x + b\n",
    "plt.plot(x, f_x, color='red')\n",
    "plt.scatter(cleaned_training['x'], cleaned_training['y'], s=.4)\n",
    "plt.title('Simple Univariate Linear Regression on Two Samples')\n",
    "plt.xlabel('x')\n",
    "plt.ylabel('y')\n",
    "plt.show()"
   ]
  },
  {
   "cell_type": "markdown",
   "id": "26091814",
   "metadata": {},
   "source": [
    "#### The model looks like a great fit to the training data! Let's now make predictions for our test data."
   ]
  },
  {
   "cell_type": "code",
   "execution_count": 43,
   "id": "62a6946f",
   "metadata": {},
   "outputs": [
    {
     "data": {
      "text/plain": [
       "WindowsPath('data/test.csv')"
      ]
     },
     "execution_count": 43,
     "metadata": {},
     "output_type": "execute_result"
    }
   ],
   "source": [
    "test_set_file = fetch_file(test_set_filename)\n",
    "test_set_file"
   ]
  },
  {
   "cell_type": "code",
   "execution_count": 44,
   "id": "b706c332",
   "metadata": {
    "scrolled": true
   },
   "outputs": [
    {
     "data": {
      "text/html": [
       "<div>\n",
       "<style scoped>\n",
       "    .dataframe tbody tr th:only-of-type {\n",
       "        vertical-align: middle;\n",
       "    }\n",
       "\n",
       "    .dataframe tbody tr th {\n",
       "        vertical-align: top;\n",
       "    }\n",
       "\n",
       "    .dataframe thead th {\n",
       "        text-align: right;\n",
       "    }\n",
       "</style>\n",
       "<table border=\"1\" class=\"dataframe\">\n",
       "  <thead>\n",
       "    <tr style=\"text-align: right;\">\n",
       "      <th></th>\n",
       "      <th>x</th>\n",
       "      <th>y</th>\n",
       "    </tr>\n",
       "  </thead>\n",
       "  <tbody>\n",
       "    <tr>\n",
       "      <th>0</th>\n",
       "      <td>77</td>\n",
       "      <td>79.775152</td>\n",
       "    </tr>\n",
       "    <tr>\n",
       "      <th>1</th>\n",
       "      <td>21</td>\n",
       "      <td>23.177279</td>\n",
       "    </tr>\n",
       "    <tr>\n",
       "      <th>2</th>\n",
       "      <td>22</td>\n",
       "      <td>25.609262</td>\n",
       "    </tr>\n",
       "    <tr>\n",
       "      <th>3</th>\n",
       "      <td>20</td>\n",
       "      <td>17.857388</td>\n",
       "    </tr>\n",
       "    <tr>\n",
       "      <th>4</th>\n",
       "      <td>36</td>\n",
       "      <td>41.849864</td>\n",
       "    </tr>\n",
       "  </tbody>\n",
       "</table>\n",
       "</div>"
      ],
      "text/plain": [
       "    x          y\n",
       "0  77  79.775152\n",
       "1  21  23.177279\n",
       "2  22  25.609262\n",
       "3  20  17.857388\n",
       "4  36  41.849864"
      ]
     },
     "execution_count": 44,
     "metadata": {},
     "output_type": "execute_result"
    }
   ],
   "source": [
    "test = pd.read_csv(test_set_file)\n",
    "test.head()"
   ]
  },
  {
   "cell_type": "markdown",
   "id": "bddcfb72",
   "metadata": {},
   "source": [
    "#### Let's see if the test data is clean."
   ]
  },
  {
   "cell_type": "code",
   "execution_count": 52,
   "id": "cc7bb714",
   "metadata": {},
   "outputs": [
    {
     "data": {
      "text/plain": [
       "(0, 0)"
      ]
     },
     "execution_count": 52,
     "metadata": {},
     "output_type": "execute_result"
    }
   ],
   "source": [
    "test['x'].isnull().sum(), test['y'].isnull().sum()"
   ]
  },
  {
   "cell_type": "markdown",
   "id": "7cf5bd67",
   "metadata": {},
   "source": [
    "#### Let's predict using our model on the test set."
   ]
  },
  {
   "cell_type": "code",
   "execution_count": 49,
   "id": "4c35f688",
   "metadata": {},
   "outputs": [
    {
     "name": "stdout",
     "output_type": "stream",
     "text": [
      "Prediction: 76.9403\tTarget: 79.77515201\n",
      "Prediction: 20.9347\tTarget: 23.17727887\n",
      "Prediction: 21.9348\tTarget: 25.60926156\n",
      "Prediction: 19.9346\tTarget: 17.85738813\n",
      "Prediction: 35.9362\tTarget: 41.84986439\n",
      "Prediction: 14.9341\tTarget: 9.805234876\n",
      "Prediction: 61.9388\tTarget: 58.87465933\n",
      "Prediction: 94.9421\tTarget: 97.61793701\n",
      "Prediction: 19.9346\tTarget: 18.39512747\n",
      "Prediction: 4.9331\tTarget: 8.746747654\n",
      "Prediction: 3.9330\tTarget: 2.811415826\n",
      "Prediction: 18.9345\tTarget: 17.09537241\n",
      "Prediction: 95.9422\tTarget: 95.14907176\n",
      "Prediction: 61.9388\tTarget: 61.38800663\n",
      "Prediction: 35.9362\tTarget: 40.24701716\n",
      "Prediction: 14.9341\tTarget: 14.82248589\n",
      "Prediction: 64.9391\tTarget: 66.95806869\n",
      "Prediction: 13.9340\tTarget: 16.63507984\n",
      "Prediction: 86.9413\tTarget: 90.65513736\n",
      "Prediction: 68.9395\tTarget: 77.22982636\n",
      "Prediction: 88.9415\tTarget: 92.11906278\n",
      "Prediction: 50.9377\tTarget: 46.91387709\n",
      "Prediction: 88.9415\tTarget: 89.82634442\n",
      "Prediction: 26.9353\tTarget: 21.71380347\n",
      "Prediction: 96.9423\tTarget: 97.41206981\n",
      "Prediction: 57.9384\tTarget: 57.01631363\n",
      "Prediction: 78.9405\tTarget: 78.31056542\n",
      "Prediction: 20.9347\tTarget: 19.1315097\n",
      "Prediction: 92.9419\tTarget: 93.03483388\n",
      "Prediction: 26.9353\tTarget: 26.59112396\n",
      "Prediction: 98.9425\tTarget: 97.55155344\n",
      "Prediction: 30.9357\tTarget: 31.43524822\n",
      "Prediction: 32.9359\tTarget: 35.12724777\n",
      "Prediction: 79.9406\tTarget: 78.61042432\n",
      "Prediction: 27.9354\tTarget: 33.07112825\n",
      "Prediction: 46.9373\tTarget: 51.69967172\n",
      "Prediction: 52.9379\tTarget: 53.62235225\n",
      "Prediction: 68.9395\tTarget: 69.46306072\n",
      "Prediction: 27.9354\tTarget: 27.42497237\n",
      "Prediction: 32.9359\tTarget: 36.34644189\n",
      "Prediction: 90.9417\tTarget: 95.06140858\n",
      "Prediction: 70.9397\tTarget: 68.16724757\n",
      "Prediction: 49.9376\tTarget: 50.96155532\n",
      "Prediction: 75.9402\tTarget: 78.04237454\n",
      "Prediction: 3.9330\tTarget: 5.607664865\n",
      "Prediction: 36.9363\tTarget: 36.11334779\n",
      "Prediction: 69.9396\tTarget: 67.2352155\n",
      "Prediction: 67.9394\tTarget: 65.01324035\n",
      "Prediction: 39.9366\tTarget: 38.14753871\n",
      "Prediction: 34.9361\tTarget: 34.31141446\n",
      "Prediction: 93.9420\tTarget: 95.28503937\n",
      "Prediction: 87.9414\tTarget: 87.84749912\n",
      "Prediction: 51.9378\tTarget: 54.08170635\n",
      "Prediction: 30.9357\tTarget: 31.93063515\n",
      "Prediction: 58.9385\tTarget: 59.61247085\n",
      "Prediction: -0.0674\tTarget: -1.040114209\n",
      "Prediction: 38.9365\tTarget: 47.49374765\n",
      "Prediction: 63.9390\tTarget: 62.60089773\n",
      "Prediction: 68.9395\tTarget: 70.9146434\n",
      "Prediction: 56.9383\tTarget: 56.14834113\n",
      "Prediction: 12.9339\tTarget: 14.05572877\n",
      "Prediction: 71.9398\tTarget: 68.11367147\n",
      "Prediction: 75.9402\tTarget: 75.59701346\n",
      "Prediction: 60.9387\tTarget: 59.225745\n",
      "Prediction: 81.9408\tTarget: 85.45504157\n",
      "Prediction: 17.9344\tTarget: 17.76197116\n",
      "Prediction: 40.9367\tTarget: 38.68888682\n",
      "Prediction: 49.9376\tTarget: 50.96343637\n",
      "Prediction: 54.9381\tTarget: 51.83503872\n",
      "Prediction: 12.9339\tTarget: 17.0761107\n",
      "Prediction: 45.9372\tTarget: 46.56141773\n",
      "Prediction: 12.9339\tTarget: 10.34754461\n",
      "Prediction: 78.9405\tTarget: 77.91032969\n",
      "Prediction: 52.9379\tTarget: 50.17008622\n",
      "Prediction: 14.9341\tTarget: 13.25690647\n",
      "Prediction: 27.9354\tTarget: 31.32274932\n",
      "Prediction: 80.9407\tTarget: 73.9308764\n",
      "Prediction: 68.9395\tTarget: 74.45114379\n",
      "Prediction: 51.9378\tTarget: 52.01932286\n",
      "Prediction: 83.9410\tTarget: 83.68820499\n",
      "Prediction: 67.9394\tTarget: 70.3698748\n",
      "Prediction: 26.9353\tTarget: 23.44479161\n",
      "Prediction: 55.9382\tTarget: 49.83051801\n",
      "Prediction: 47.9374\tTarget: 49.88226593\n",
      "Prediction: 39.9366\tTarget: 41.04525583\n",
      "Prediction: 38.9365\tTarget: 33.37834391\n",
      "Prediction: 81.9408\tTarget: 81.29750133\n",
      "Prediction: 99.9426\tTarget: 105.5918375\n",
      "Prediction: 58.9385\tTarget: 56.82457013\n",
      "Prediction: 42.9369\tTarget: 48.67252645\n",
      "Prediction: 66.9393\tTarget: 67.02150613\n",
      "Prediction: 37.9364\tTarget: 38.43076389\n",
      "Prediction: 62.9389\tTarget: 58.61466887\n",
      "Prediction: 90.9417\tTarget: 89.12377509\n",
      "Prediction: 59.9386\tTarget: 60.9105427\n",
      "Prediction: 13.9340\tTarget: 13.83959878\n",
      "Prediction: 20.9347\tTarget: 16.89085185\n",
      "Prediction: 86.9413\tTarget: 84.06676818\n",
      "Prediction: 72.9399\tTarget: 70.34969772\n",
      "Prediction: 31.9358\tTarget: 33.38474138\n",
      "Prediction: 1.9328\tTarget: -1.63296825\n",
      "Prediction: 81.9408\tTarget: 88.54475895\n",
      "Prediction: 18.9345\tTarget: 17.44047622\n",
      "Prediction: 73.9400\tTarget: 75.69298554\n",
      "Prediction: 41.9368\tTarget: 41.97607107\n",
      "Prediction: 11.9338\tTarget: 12.59244741\n",
      "Prediction: 0.9327\tTarget: 0.275307261\n",
      "Prediction: 89.9416\tTarget: 98.13258005\n",
      "Prediction: 88.9415\tTarget: 87.45721555\n",
      "Prediction: -0.0674\tTarget: -2.344738542\n",
      "Prediction: 40.9367\tTarget: 39.3294153\n",
      "Prediction: 15.9342\tTarget: 16.68715211\n",
      "Prediction: 93.9420\tTarget: 96.58888601\n",
      "Prediction: 96.9423\tTarget: 97.70342201\n",
      "Prediction: 65.9392\tTarget: 67.01715955\n",
      "Prediction: 23.9350\tTarget: 25.63476257\n",
      "Prediction: 16.9343\tTarget: 13.41310757\n",
      "Prediction: 89.9416\tTarget: 95.15647284\n",
      "Prediction: 12.9339\tTarget: 9.744164258\n",
      "Prediction: -0.0674\tTarget: -3.467883789\n",
      "Prediction: 63.9390\tTarget: 62.82816355\n",
      "Prediction: 95.9422\tTarget: 97.27405461\n",
      "Prediction: 97.9424\tTarget: 95.58017185\n",
      "Prediction: 11.9338\tTarget: 7.468501839\n",
      "Prediction: 40.9367\tTarget: 45.44599591\n",
      "Prediction: 46.9373\tTarget: 46.69013968\n",
      "Prediction: 77.9404\tTarget: 74.4993599\n",
      "Prediction: 19.9346\tTarget: 21.63500655\n",
      "Prediction: 88.9415\tTarget: 91.59548851\n",
      "Prediction: 28.9355\tTarget: 26.49487961\n",
      "Prediction: 63.9390\tTarget: 67.38654703\n",
      "Prediction: 74.9401\tTarget: 74.25362837\n",
      "Prediction: 11.9338\tTarget: 12.07991648\n",
      "Prediction: 24.9351\tTarget: 21.32273728\n",
      "Prediction: 27.9354\tTarget: 29.31770045\n",
      "Prediction: 29.9356\tTarget: 26.48713683\n",
      "Prediction: 64.9391\tTarget: 68.94699774\n",
      "Prediction: 58.9385\tTarget: 59.10598995\n",
      "Prediction: 63.9390\tTarget: 64.37521087\n",
      "Prediction: 52.9379\tTarget: 60.20758349\n",
      "Prediction: 70.9397\tTarget: 70.34329706\n",
      "Prediction: 96.9423\tTarget: 97.1082562\n",
      "Prediction: 72.9399\tTarget: 75.7584178\n",
      "Prediction: 8.9335\tTarget: 10.80462727\n",
      "Prediction: 11.9338\tTarget: 12.11219941\n",
      "Prediction: 62.9389\tTarget: 63.28312382\n",
      "Prediction: 98.9425\tTarget: 98.03017721\n",
      "Prediction: 59.9386\tTarget: 63.19354354\n",
      "Prediction: 34.9361\tTarget: 34.8534823\n",
      "Prediction: 1.9328\tTarget: -2.819913974\n",
      "Prediction: 59.9386\tTarget: 59.8313966\n",
      "Prediction: 31.9358\tTarget: 29.38505024\n",
      "Prediction: 93.9420\tTarget: 97.00148372\n",
      "Prediction: 83.9410\tTarget: 85.18657275\n",
      "Prediction: 62.9389\tTarget: 61.74063192\n",
      "Prediction: 21.9348\tTarget: 18.84798163\n",
      "Prediction: 80.9407\tTarget: 78.79008525\n",
      "Prediction: 92.9419\tTarget: 95.12400481\n",
      "Prediction: 32.9359\tTarget: 30.48881287\n",
      "Prediction: 6.9333\tTarget: 10.41468095\n",
      "Prediction: 41.9368\tTarget: 38.98317436\n",
      "Prediction: 45.9372\tTarget: 46.11021062\n",
      "Prediction: 53.9380\tTarget: 52.45103628\n",
      "Prediction: 15.9342\tTarget: 21.16523945\n",
      "Prediction: 48.9375\tTarget: 52.28620611\n",
      "Prediction: 42.9369\tTarget: 44.18863945\n",
      "Prediction: 94.9421\tTarget: 97.13832018\n",
      "Prediction: 65.9392\tTarget: 67.22008001\n",
      "Prediction: 20.9347\tTarget: 18.98322306\n",
      "Prediction: 34.9361\tTarget: 24.3884599\n",
      "Prediction: 79.9406\tTarget: 79.44769523\n",
      "Prediction: 36.9363\tTarget: 40.03504862\n",
      "Prediction: 53.9380\tTarget: 53.32005764\n",
      "Prediction: 55.9382\tTarget: 54.55446979\n",
      "Prediction: 0.9327\tTarget: -2.761182595\n",
      "Prediction: 31.9358\tTarget: 37.80182795\n",
      "Prediction: 57.9384\tTarget: 57.48741435\n",
      "Prediction: 31.9358\tTarget: 36.06292994\n",
      "Prediction: 45.9372\tTarget: 49.83538167\n",
      "Prediction: 71.9398\tTarget: 74.68953276\n",
      "Prediction: 16.9343\tTarget: 14.86159401\n",
      "Prediction: 96.9423\tTarget: 101.0697879\n",
      "Prediction: 92.9419\tTarget: 99.43577876\n",
      "Prediction: 90.9417\tTarget: 91.69240746\n",
      "Prediction: 36.9363\tTarget: 34.12473248\n",
      "Prediction: 3.9330\tTarget: 6.079390073\n",
      "Prediction: 53.9380\tTarget: 59.07247174\n",
      "Prediction: 50.9377\tTarget: 56.43046022\n",
      "Prediction: 26.9353\tTarget: 30.49412933\n",
      "Prediction: 45.9372\tTarget: 48.35172635\n",
      "Prediction: 91.9418\tTarget: 89.73153611\n",
      "Prediction: 72.9399\tTarget: 72.86282528\n",
      "Prediction: 76.9403\tTarget: 80.97144285\n",
      "Prediction: 90.9417\tTarget: 91.36566374\n",
      "Prediction: 60.9387\tTarget: 60.07137496\n",
      "Prediction: 98.9425\tTarget: 99.87382707\n",
      "Prediction: 3.9330\tTarget: 8.655714172\n",
      "Prediction: 71.9398\tTarget: 69.39858505\n",
      "Prediction: 18.9345\tTarget: 19.38780134\n",
      "Prediction: 56.9383\tTarget: 53.11628433\n",
      "Prediction: 77.9404\tTarget: 78.39683006\n",
      "Prediction: 25.9352\tTarget: 25.75612514\n",
      "Prediction: 73.9400\tTarget: 75.07484683\n",
      "Prediction: 89.9416\tTarget: 92.88772282\n",
      "Prediction: 65.9392\tTarget: 69.45498498\n",
      "Prediction: 12.9339\tTarget: 13.12109842\n",
      "Prediction: 39.9366\tTarget: 48.09843134\n",
      "Prediction: 76.9403\tTarget: 79.3142548\n",
      "Prediction: 66.9393\tTarget: 68.48820749\n",
      "Prediction: 74.9401\tTarget: 73.2300846\n",
      "Prediction: 22.9349\tTarget: 24.68362712\n",
      "Prediction: 44.9371\tTarget: 41.90368917\n",
      "Prediction: 58.9385\tTarget: 62.22635684\n",
      "Prediction: 43.9370\tTarget: 45.96396877\n",
      "Prediction: 22.9349\tTarget: 23.52647153\n",
      "Prediction: 54.9381\tTarget: 51.80035866\n",
      "Prediction: 54.9381\tTarget: 51.10774273\n",
      "Prediction: 94.9421\tTarget: 95.79747345\n",
      "Prediction: 11.9338\tTarget: 9.241138977\n",
      "Prediction: 3.9330\tTarget: 7.646529763\n",
      "Prediction: 6.9333\tTarget: 9.281699753\n",
      "Prediction: 99.9426\tTarget: 103.5266162\n",
      "Prediction: 47.9374\tTarget: 47.41006725\n",
      "Prediction: 41.9368\tTarget: 42.03835773\n",
      "Prediction: 95.9422\tTarget: 96.11982476\n",
      "Prediction: 38.9365\tTarget: 38.05766408\n",
      "Prediction: 99.9426\tTarget: 105.4503788\n",
      "Prediction: 86.9413\tTarget: 88.80306911\n",
      "Prediction: 13.9340\tTarget: 15.49301141\n",
      "Prediction: 13.9340\tTarget: 12.42624606\n",
      "Prediction: 36.9363\tTarget: 40.00709598\n",
      "Prediction: 4.9331\tTarget: 5.634030902\n",
      "Prediction: 87.9414\tTarget: 87.36938931\n",
      "Prediction: 90.9417\tTarget: 89.73951993\n",
      "Prediction: 64.9391\tTarget: 66.61499643\n",
      "Prediction: 73.9400\tTarget: 72.9138853\n",
      "Prediction: 55.9382\tTarget: 57.19103506\n",
      "Prediction: 15.9342\tTarget: 11.21710477\n",
      "Prediction: 4.9331\tTarget: 0.676076749\n",
      "Prediction: 27.9354\tTarget: 28.15668543\n",
      "Prediction: 91.9418\tTarget: 95.3958003\n",
      "Prediction: 45.9372\tTarget: 52.05490703\n",
      "Prediction: 53.9380\tTarget: 59.70864577\n",
      "Prediction: 38.9365\tTarget: 36.79224762\n",
      "Prediction: 43.9370\tTarget: 37.08457698\n",
      "Prediction: 30.9357\tTarget: 24.18437976\n",
      "Prediction: 67.9394\tTarget: 67.28725332\n",
      "Prediction: 85.9412\tTarget: 82.870594\n",
      "Prediction: 89.9416\tTarget: 89.899991\n",
      "Prediction: 37.9364\tTarget: 36.94173178\n",
      "Prediction: 20.9347\tTarget: 19.87562242\n",
      "Prediction: 94.9421\tTarget: 90.71481654\n",
      "Prediction: 55.9382\tTarget: 61.09367762\n",
      "Prediction: 59.9386\tTarget: 60.11134958\n",
      "Prediction: 64.9391\tTarget: 64.83296316\n",
      "Prediction: 77.9404\tTarget: 81.40381769\n",
      "Prediction: 88.9415\tTarget: 92.40217686\n",
      "Prediction: 5.9332\tTarget: 2.576625376\n",
      "Prediction: 66.9393\tTarget: 63.80768172\n",
      "Prediction: 35.9362\tTarget: 38.67780759\n",
      "Prediction: 15.9342\tTarget: 16.82839701\n",
      "Prediction: 99.9426\tTarget: 99.78687252\n",
      "Prediction: 44.9371\tTarget: 44.68913433\n",
      "Prediction: 72.9399\tTarget: 71.00377824\n",
      "Prediction: 56.9383\tTarget: 51.57326718\n",
      "Prediction: 19.9346\tTarget: 19.87846479\n",
      "Prediction: 75.9402\tTarget: 79.50341495\n",
      "Prediction: 33.9360\tTarget: 34.58876491\n",
      "Prediction: 54.9381\tTarget: 55.7383467\n",
      "Prediction: 71.9398\tTarget: 68.19721905\n",
      "Prediction: 54.9381\tTarget: 55.81628509\n",
      "Prediction: 7.9334\tTarget: 9.391416798\n",
      "Prediction: 55.9382\tTarget: 56.01448111\n",
      "Prediction: 71.9398\tTarget: 77.9969477\n",
      "Prediction: 57.9384\tTarget: 55.37049953\n",
      "Prediction: 5.9332\tTarget: 11.89457829\n",
      "Prediction: 95.9422\tTarget: 94.79081712\n",
      "Prediction: 22.9349\tTarget: 25.69041546\n",
      "Prediction: 57.9384\tTarget: 53.52042319\n",
      "Prediction: 22.9349\tTarget: 18.31396758\n",
      "Prediction: 18.9345\tTarget: 21.42637785\n",
      "Prediction: 24.9351\tTarget: 30.41303282\n",
      "Prediction: 63.9390\tTarget: 67.68142149\n",
      "Prediction: 20.9347\tTarget: 17.0854783\n",
      "Prediction: 58.9385\tTarget: 60.91792707\n",
      "Prediction: 18.9345\tTarget: 14.99514319\n",
      "Prediction: 15.9342\tTarget: 16.74923937\n",
      "Prediction: 41.9368\tTarget: 41.46923883\n",
      "Prediction: 42.9369\tTarget: 42.84526108\n",
      "Prediction: 60.9387\tTarget: 59.12912974\n",
      "Prediction: 91.9418\tTarget: 91.30863673\n",
      "Prediction: 10.9337\tTarget: 8.673336357\n",
      "Prediction: 40.9367\tTarget: 39.31485292\n",
      "Prediction: 0.9327\tTarget: 5.313686205\n",
      "Prediction: 7.9334\tTarget: 5.405220518\n",
      "Prediction: 70.9397\tTarget: 68.5458879\n",
      "Prediction: 45.9372\tTarget: 47.33487629\n",
      "Prediction: 54.9381\tTarget: 54.09063686\n",
      "Prediction: 61.9388\tTarget: 63.29717058\n",
      "Prediction: 46.9373\tTarget: 52.45946688\n"
     ]
    }
   ],
   "source": [
    "m = test.shape[0]\n",
    "i = 0\n",
    "f_test = w * test['x'] + b\n",
    "\n",
    "while i < m:\n",
    "    print(f'Prediction: {f_test[i]:.{4}f}\\tTarget: {test[\"y\"][i]}')\n",
    "    i += 1"
   ]
  },
  {
   "cell_type": "code",
   "execution_count": 118,
   "id": "4d56b688",
   "metadata": {
    "scrolled": true
   },
   "outputs": [
    {
     "data": {
      "image/png": "[encoded data removed]",
      "text/plain": [
       "<Figure size 432x288 with 1 Axes>"
      ]
     },
     "metadata": {
      "needs_background": "light"
     },
     "output_type": "display_data"
    }
   ],
   "source": [
    "plt.scatter(test['x'], test['y'], color='blue', label='target')\n",
    "plt.scatter(test['x'], f_test, color='red', label='prediction')\n",
    "plt.legend(loc=\"upper left\")\n",
    "plt.title('Simple Univariate Linear Regression (My Model)')\n",
    "plt.xlabel('x')\n",
    "plt.ylabel('y')\n",
    "plt.show()"
   ]
  },
  {
   "cell_type": "markdown",
   "id": "b7bf75de",
   "metadata": {},
   "source": [
    "#### Let's use scikit-learn to compare our model"
   ]
  },
  {
   "cell_type": "code",
   "execution_count": 117,
   "id": "1577e45c",
   "metadata": {},
   "outputs": [],
   "source": [
    "cleaned_train_x_arr = cleaned_training['x'].to_numpy().reshape(-1,1)\n",
    "cleaned_train_y_arr = cleaned_training['y'].to_numpy()"
   ]
  },
  {
   "cell_type": "code",
   "execution_count": 110,
   "id": "f4734d71",
   "metadata": {},
   "outputs": [],
   "source": [
    "reg = LinearRegression().fit(cleaned_train_x_arr, cleaned_train_y_arr)"
   ]
  },
  {
   "cell_type": "code",
   "execution_count": 116,
   "id": "dccb0313",
   "metadata": {},
   "outputs": [
    {
     "name": "stdout",
     "output_type": "stream",
     "text": [
      "model parameters:                   w: [1.00065638], b:-0.10726546430095141\n",
      "My model parameters: w: 1.0001, b: -0.0674\n"
     ]
    }
   ],
   "source": [
    "b_reg = reg.intercept_\n",
    "w_reg = reg.coef_\n",
    "print(f\"model parameters:                   w: {w_reg}, b:{b_reg}\")\n",
    "print(f\"My model parameters: w: {w}, b: {b}\")"
   ]
  },
  {
   "cell_type": "code",
   "execution_count": 113,
   "id": "2d29d972",
   "metadata": {},
   "outputs": [
    {
     "data": {
      "text/plain": [
       "(-0.10726546430095141, array([1.00065638]))"
      ]
     },
     "execution_count": 113,
     "metadata": {},
     "output_type": "execute_result"
    }
   ],
   "source": [
    "reg.intercept_,reg.coef_"
   ]
  },
  {
   "cell_type": "code",
   "execution_count": 124,
   "id": "5f07617f",
   "metadata": {
    "scrolled": true
   },
   "outputs": [
    {
     "data": {
      "text/plain": [
       "array([ 79.72024951,  23.08522655,  25.51880555,  17.76184393,\n",
       "        41.77006842,   9.70440539,  58.80603812,  97.57474619,\n",
       "        18.29993623,   8.6452234 ,   2.70599572,  16.99932804,\n",
       "        95.10426042,  61.32103514,  40.16616911,  14.72494964,\n",
       "        66.89475329,  16.53873334,  90.60737628,  77.17325315,\n",
       "        92.0722626 ,  46.83740504,  89.77803934,  21.62079055,\n",
       "        97.36874386,  56.94647264,  78.25470159,  19.03680181,\n",
       "        92.98863479,  26.50131243,  97.50831905,  31.34861628,\n",
       "        35.04303919,  78.55475731,  32.98557007,  51.62634098,\n",
       "        53.55028352,  69.40138955,  27.33570816,  36.26303357,\n",
       "        95.0165397 ,  68.10472585,  50.8877401 ,  77.98633467,\n",
       "         5.50408017,  36.02978647,  67.17208201,  64.9486484 ,\n",
       "        38.0653126 ,  34.22667039,  95.24031728,  87.79789516,\n",
       "        54.00993914,  31.84432838,  59.54433393,  -1.14806239,\n",
       "        47.41765622,  62.53472236,  70.85392502,  56.07793042,\n",
       "        13.95768923,  68.05111458,  75.5393685 ,  59.15735424,\n",
       "        85.40386724,  17.66636433,  38.60701604,  50.88962238,\n",
       "        51.76179683,  16.98005368,  46.48471434,  10.24707109,\n",
       "        77.85420315,  50.09575149,  13.1583426 ,  31.23604354,\n",
       "        73.87213782,  74.39274671,  51.94620194,  83.63587095,\n",
       "        70.30879884,  23.35291488,  49.75596039,  49.80774228,\n",
       "        40.96493173,  33.29298739,  81.24359807, 105.5538806 ,\n",
       "        56.75460328,  48.59720875,  66.95823237,  38.34872368,\n",
       "        58.54587701,  89.07500885,  60.84325781,  13.74141738,\n",
       "        16.79467323,  84.01468262,  70.28860852,  33.29938905,\n",
       "        -1.74130557,  88.49561266,  17.34465837,  75.63540358,\n",
       "        41.89635794,  12.4934474 ,   0.1682225 ,  98.08972703,\n",
       "        87.40735542,  -2.45354305,  39.24796495,  16.59083979,\n",
       "        96.54501974,  97.6602873 ,  66.95388293,  25.5443233 ,\n",
       "        13.31464623,  95.11166636,   9.64329469,  -3.57742551,\n",
       "        62.76213735,  97.23063807,  95.53564348,   7.36613856,\n",
       "        45.36856037,  46.61352078,  74.44099446,  21.54194191,\n",
       "        91.54834466,  26.4050049 ,  67.32351287,  74.19510164,\n",
       "        11.98058005,  21.22946767,  29.22967859,  26.39725704,\n",
       "        68.88498783,  59.03752059,  64.31020013,  60.13983719,\n",
       "        70.28220366,  97.06473083,  75.70087879,  10.70445377,\n",
       "        12.01288417,  63.21739625,  97.98725698,  63.12775717,\n",
       "        34.76909403,  -2.92903038,  59.76340338,  29.29707259,\n",
       "        96.95788827,  85.13522221,  61.67389189,  18.75308764,\n",
       "        78.73453617,  95.07917702,  30.40155971,  10.31425149,\n",
       "        38.90149674,  46.03321106,  52.37819872,  21.07186646,\n",
       "        52.21326036,  44.11037861,  97.09481455,  67.15693659,\n",
       "        18.88841784,  24.29720258,  79.39257779,  39.95406144,\n",
       "        53.24779049,  54.48301289,  -2.87026045,  37.71937492,\n",
       "        57.41788258,  35.97933553,  49.76082725,  74.63129215,\n",
       "        14.76408343, 101.02886281,  99.39378114,  91.64532723,\n",
       "        34.03986587,   5.97611501,  59.00398037,  56.36023469,\n",
       "        30.40687966,  48.27619808,  89.6831688 ,  72.80338565,\n",
       "        80.91732557,  91.31836904,  60.00353926,  99.83211697,\n",
       "         8.55413016,  69.33687156,  19.29326168,  53.04388343,\n",
       "        78.34102285,  25.66576553,  75.01685913,  92.84142717,\n",
       "        69.39330851,  13.02244541,  48.02273681,  79.25904977,\n",
       "        68.42589644,  73.17088603,  24.59256354,  41.82392853,\n",
       "        62.15993563,  45.88687322,  23.43464841,  51.72709401,\n",
       "        51.03402346,  95.75308771,   9.13993923,   7.54428334,\n",
       "         9.18052663, 103.48730373,  47.33392089,  41.95868548,\n",
       "        96.0756506 ,  37.97537898, 105.41232905,  88.75409237,\n",
       "        15.39591528,  12.32713696,  39.92609045,   5.53046351,\n",
       "        87.31947153,  89.69115786,  66.55145584,  72.85447919,\n",
       "        57.12130875,  11.11720201,   0.56925505,  28.0679015 ,\n",
       "        95.35115091,  51.98180946,  59.64057198,  36.70913192,\n",
       "        37.00165316,  24.09298848,  67.22415399,  82.81772329,\n",
       "        89.85173426,  36.8587142 ,  19.78140295,  90.66709464,\n",
       "        61.02651294,  60.04354011,  64.76825288,  81.34998421,\n",
       "        92.35556251,   2.47105116,  63.74229846,  38.59592954,\n",
       "        16.7321774 ,  99.74510535,  44.611202  ,  70.94311837,\n",
       "        51.49985347,  19.78424719,  79.44833408,  34.50420288,\n",
       "        55.66766688,  68.134717  ,  55.74565642,   9.29031569,\n",
       "        55.94398253,  77.94087802,  55.29957826,  11.79512021,\n",
       "        94.74577063,  25.60001272,  53.44828756,  18.21872307,\n",
       "        21.33317627,  30.32572992,  67.61858088,  16.98942743,\n",
       "        60.85064703,  14.89772027,  16.6529678 ,  41.38919302,\n",
       "        42.76611847,  59.06067556,  91.2613046 ,   8.57176391,\n",
       "        39.23339301,   5.20990855,   5.30150294,  68.48361471,\n",
       "        47.25868058,  54.01887551,  63.23145223,  52.38663486])"
      ]
     },
     "execution_count": 124,
     "metadata": {},
     "output_type": "execute_result"
    }
   ],
   "source": [
    "reg_predict = reg.predict(test['y'].to_numpy().reshape(-1,1))\n",
    "reg_predict"
   ]
  },
  {
   "cell_type": "code",
   "execution_count": 125,
   "id": "d524ef60",
   "metadata": {},
   "outputs": [
    {
     "data": {
      "image/png": "[encoded data removed]",
      "text/plain": [
       "<Figure size 432x288 with 1 Axes>"
      ]
     },
     "metadata": {
      "needs_background": "light"
     },
     "output_type": "display_data"
    }
   ],
   "source": [
    "plt.scatter(test['x'], test['y'], color='blue', label='target')\n",
    "plt.scatter(test['x'], reg_predict, color='red', label='prediction')\n",
    "plt.legend(loc=\"upper left\")\n",
    "plt.title('Simple Univariate Linear Regression (Sckikit-Learn Linear Regression)')\n",
    "plt.xlabel('x')\n",
    "plt.ylabel('y')\n",
    "plt.show()"
   ]
  },
  {
   "cell_type": "code",
   "execution_count": null,
   "id": "d115b7cf",
   "metadata": {},
   "outputs": [],
   "source": []
  },
  {
   "cell_type": "code",
   "execution_count": null,
   "id": "82622506",
   "metadata": {},
   "outputs": [],
   "source": []
  }
 ],
 "metadata": {
  "kernelspec": {
   "display_name": "Python 3 (ipykernel)",
   "language": "python",
   "name": "python3"
  },
  "language_info": {
   "codemirror_mode": {
    "name": "ipython",
    "version": 3
   },
   "file_extension": ".py",
   "mimetype": "text/x-python",
   "name": "python",
   "nbconvert_exporter": "python",
   "pygments_lexer": "ipython3",
   "version": "3.10.4"
  }
 },
 "nbformat": 4,
 "nbformat_minor": 5
}
